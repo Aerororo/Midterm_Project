{
 "cells": [
  {
   "cell_type": "code",
   "execution_count": 3,
   "metadata": {},
   "outputs": [],
   "source": [
    "import numpy as np \n",
    "import pandas as pd\n",
    "import pandas.util.testing as tm\n",
    "import matplotlib.pyplot as plt\n",
    "import seaborn as sns\n",
    "import datetime\n",
    "import calendar\n",
    "\n",
    "plt.style.use('seaborn')\n",
    "\n",
    "%matplotlib inline"
   ]
  },
  {
   "cell_type": "markdown",
   "metadata": {},
   "source": [
    "#### https://en.wikipedia.org/wiki/Flight_cancellation_and_delay\n",
    "\n",
    "The number of flight delays has increased as staff has been cut back as a result of the financial woes following the September 11 attacks\n",
    "\n",
    "- Airline glitches. The top cause of flight delays, according to a USA TODAY analysis.[6]\n",
    "Congestion in air traffic[6]\n",
    "- Earthquakes and tsunamis (e.g., in the event of 2004 Indian Ocean earthquake and tsunami, 2010 Chile earthquake, and the 2011 Tōhoku earthquake and tsunami)\n",
    "- Fueling[7]\n",
    "- Inclement weather, such as thunderstorm, hurricane, or blizzard[7]\n",
    "- Late arrival of the aircraft to be used for the flight from a previous flight[7]\n",
    "- Maintenance problems with the aircraft[7]\n",
    "- Security issues[7]\n",
    "- Terrorist attacks (e.g., suicide bombing in the event of Domodedovo International Airport bombing, the 2016 Brussels bombings, and the 2016 Atatürk Airport attack)"
   ]
  },
  {
   "cell_type": "code",
   "execution_count": 4,
   "metadata": {},
   "outputs": [],
   "source": [
    "data_path = 'C:/Users/Jesse/Desktop/midterm_data/data/'"
   ]
  },
  {
   "cell_type": "code",
   "execution_count": 5,
   "metadata": {},
   "outputs": [
    {
     "name": "stderr",
     "output_type": "stream",
     "text": [
      "C:\\Users\\Jesse\\Anaconda3\\lib\\site-packages\\IPython\\core\\interactiveshell.py:3058: DtypeWarning: Columns (25) have mixed types.Specify dtype option on import or set low_memory=False.\n",
      "  interactivity=interactivity, compiler=compiler, result=result)\n"
     ]
    }
   ],
   "source": [
    "flights_df = pd.read_csv(data_path + 'flights.csv')"
   ]
  },
  {
   "cell_type": "code",
   "execution_count": null,
   "metadata": {},
   "outputs": [],
   "source": []
  },
  {
   "cell_type": "markdown",
   "metadata": {},
   "source": [
    "#### **Task 2**: Is average/median monthly delay different during the year? If yes, which are months with the biggest delays and what could be the reason?"
   ]
  },
  {
   "cell_type": "code",
   "execution_count": 6,
   "metadata": {},
   "outputs": [],
   "source": [
    "# converting fl_date from object to datetime\n",
    "\n",
    "flights_df['fl_date'] = pd.to_datetime(flights_df['fl_date'], format='%Y-%m-%d')"
   ]
  },
  {
   "cell_type": "code",
   "execution_count": 7,
   "metadata": {},
   "outputs": [
    {
     "data": {
      "text/plain": [
       "array([2019, 2018], dtype=int64)"
      ]
     },
     "execution_count": 7,
     "metadata": {},
     "output_type": "execute_result"
    }
   ],
   "source": [
    "# Only 2018 and 2019 years\n",
    "flights_df['fl_date'].dt.year.unique()"
   ]
  },
  {
   "cell_type": "code",
   "execution_count": 8,
   "metadata": {},
   "outputs": [],
   "source": [
    "# Create a year column from fl_date\n",
    "flights_df['year'] = flights_df['fl_date'].dt.year\n",
    "\n",
    "# Create a month column from fl_date\n",
    "flights_df['month'] = flights_df['fl_date'].dt.month"
   ]
  },
  {
   "cell_type": "code",
   "execution_count": 9,
   "metadata": {},
   "outputs": [],
   "source": [
    "# Drop all rows with NaN values in flights_df\n",
    "# flights_delay has zero na in dep_delay or arr_delay\n",
    "\n",
    "flights_delay = flights_df.dropna(subset = ['arr_delay', 'dep_delay'], axis=0)"
   ]
  },
  {
   "cell_type": "markdown",
   "metadata": {},
   "source": [
    "#### dep_delay by year"
   ]
  },
  {
   "cell_type": "code",
   "execution_count": 51,
   "metadata": {},
   "outputs": [],
   "source": [
    "# Get average dep_delay by year\n",
    "avg_dep_delay_year_2018 = flights_delay.groupby('year')['dep_delay'].mean()[2018]\n",
    "avg_dep_delay_year_2019 = flights_delay.groupby('year')['dep_delay'].mean()[2019]\n",
    "\n",
    "median_dep_delay_year_2018 = flights_delay.groupby('year')['dep_delay'].median()[2018]\n",
    "median_dep_delay_year_2019 = flights_delay.groupby('year')['dep_delay'].median()[2019]"
   ]
  },
  {
   "cell_type": "code",
   "execution_count": 52,
   "metadata": {},
   "outputs": [
    {
     "name": "stdout",
     "output_type": "stream",
     "text": [
      "2018 avg dep_delay:  10.01410262275718 minutes\n",
      "2019 avg dep_delay:  10.926634251428272 minutes\n",
      "2018 median dep_delay:  -2.0 minutes\n",
      "2019 median dep_delay:  -2.0 minutes\n"
     ]
    }
   ],
   "source": [
    "print('2018 avg dep_delay: ', avg_dep_delay_year_2018, 'minutes')\n",
    "print('2019 avg dep_delay: ', avg_dep_delay_year_2019, 'minutes')\n",
    "\n",
    "print('2018 median dep_delay: ', median_dep_delay_year_2018, 'minutes')\n",
    "print('2019 median dep_delay: ', median_dep_delay_year_2019, 'minutes')"
   ]
  },
  {
   "cell_type": "markdown",
   "metadata": {},
   "source": [
    "#### arr_delay by year"
   ]
  },
  {
   "cell_type": "code",
   "execution_count": 53,
   "metadata": {},
   "outputs": [],
   "source": [
    "# Get average dep_delay by year\n",
    "avg_arr_delay_year_2018 = flights_delay.groupby('year')['arr_delay'].mean()[2018]\n",
    "avg_arr_delay_year_2019 = flights_delay.groupby('year')['arr_delay'].mean()[2019]\n",
    "\n",
    "median_arr_delay_year_2018 = flights_delay.groupby('year')['arr_delay'].median()[2018]\n",
    "median_arr_delay_year_2019 = flights_delay.groupby('year')['arr_delay'].median()[2019]"
   ]
  },
  {
   "cell_type": "code",
   "execution_count": 54,
   "metadata": {},
   "outputs": [
    {
     "name": "stdout",
     "output_type": "stream",
     "text": [
      "2018 avg arr_delay:  5.278185099653127 minutes\n",
      "2019 avg arr_delay:  5.674681430352708 minutes\n",
      "2018 median arr_delay:  -6.0 minutes\n",
      "2019 median darr_delay:  -6.0 minutes\n"
     ]
    }
   ],
   "source": [
    "print('2018 avg arr_delay: ', avg_arr_delay_year_2018, 'minutes')\n",
    "print('2019 avg arr_delay: ', avg_arr_delay_year_2019, 'minutes')\n",
    "\n",
    "print('2018 median arr_delay: ', median_arr_delay_year_2018, 'minutes')\n",
    "print('2019 median darr_delay: ', median_arr_delay_year_2019, 'minutes')"
   ]
  },
  {
   "cell_type": "markdown",
   "metadata": {},
   "source": [
    "### Monthly dep_delay"
   ]
  },
  {
   "cell_type": "code",
   "execution_count": 78,
   "metadata": {},
   "outputs": [
    {
     "data": {
      "image/png": "[encoded data removed]",
      "text/plain": [
       "<Figure size 432x288 with 1 Axes>"
      ]
     },
     "metadata": {
      "needs_background": "light"
     },
     "output_type": "display_data"
    }
   ],
   "source": [
    "# Averge monthly dep_delay 2019\n",
    "\n",
    "dep_delay_months_2019 = flights_delay.loc[flights_delay['year'] == 2019].groupby('month')['dep_delay'].mean()\n",
    "dep_delay_months_2019\n",
    "\n",
    "\n",
    "ax = sns.barplot(x=dep_delay_months_2019.values, \n",
    "                 y=[calendar.month_name[i] for i in dep_delay_months_2019.index])\n",
    "\n",
    "ax.set(title='Avg Departure Delay 2019 by Month', xlabel='Avg Departure Delay (min)'); "
   ]
  },
  {
   "cell_type": "code",
   "execution_count": 84,
   "metadata": {},
   "outputs": [
    {
     "name": "stdout",
     "output_type": "stream",
     "text": [
      "June 15.889184135274377\n",
      "July 14.12385362364159\n",
      "February 13.606367498360953\n",
      "August 12.62348202339947\n",
      "December 12.392222473838526\n"
     ]
    }
   ],
   "source": [
    "# Top 5 months in 2019 with highest avg delay\n",
    "for i in dep_delay_months_2019.sort_values(ascending=False).index[:5]:\n",
    "    print(calendar.month_name[i], dep_delay_months_2019[i])"
   ]
  },
  {
   "cell_type": "code",
   "execution_count": 79,
   "metadata": {},
   "outputs": [
    {
     "data": {
      "image/png": "[encoded data removed]",
      "text/plain": [
       "<Figure size 432x288 with 1 Axes>"
      ]
     },
     "metadata": {
      "needs_background": "light"
     },
     "output_type": "display_data"
    }
   ],
   "source": [
    "# Average monthly dep_delay 2018\n",
    "\n",
    "dep_delay_months_2018 = flights_delay.loc[flights_delay['year'] == 2018].groupby('month')['dep_delay'].mean()\n",
    "dep_delay_months_2018\n",
    "\n",
    "\n",
    "ax = sns.barplot(x=dep_delay_months_2018.values, \n",
    "                 y=[calendar.month_name[i] for i in dep_delay_months_2019.index])\n",
    "\n",
    "ax.set(title='Avg Departure Delay 2018 by Month', xlabel='Avg Departure Delay (min)'); "
   ]
  },
  {
   "cell_type": "code",
   "execution_count": 85,
   "metadata": {},
   "outputs": [
    {
     "name": "stdout",
     "output_type": "stream",
     "text": [
      "August 13.854183724792962\n",
      "July 13.363864316245547\n",
      "June 13.19461983530598\n",
      "May 10.63188005493898\n",
      "February 9.701150546021841\n"
     ]
    }
   ],
   "source": [
    "# Top 5 months in 2018 with highest avg delay\n",
    "for i in dep_delay_months_2018.sort_values(ascending=False).index[:5]:\n",
    "    print(calendar.month_name[i], dep_delay_months_2018[i])"
   ]
  },
  {
   "cell_type": "code",
   "execution_count": 87,
   "metadata": {},
   "outputs": [
    {
     "data": {
      "image/png": "[encoded data removed]",
      "text/plain": [
       "<Figure size 432x288 with 1 Axes>"
      ]
     },
     "metadata": {
      "needs_background": "light"
     },
     "output_type": "display_data"
    }
   ],
   "source": [
    "# Average monthly dep_delay overall (2018, 2019)\n",
    "\n",
    "dep_delay_months_overall = flights_delay.groupby('month')['dep_delay'].mean()\n",
    "\n",
    "\n",
    "ax = sns.barplot(x=dep_delay_months_overall.values, \n",
    "                 y=[calendar.month_name[i] for i in dep_delay_months_overall.index])\n",
    "\n",
    "ax.set(title='Avg Departure Delay 2018/2019 by Month', xlabel='Avg Departure Delay (min)'); "
   ]
  },
  {
   "cell_type": "code",
   "execution_count": 88,
   "metadata": {},
   "outputs": [
    {
     "name": "stdout",
     "output_type": "stream",
     "text": [
      "June 14.552507979325211\n",
      "July 13.747809107217954\n",
      "August 13.230558464525473\n",
      "February 11.66950193032559\n",
      "May 11.274070088918778\n"
     ]
    }
   ],
   "source": [
    "# Top 5 months overall with highest avg delay\n",
    "for i in dep_delay_months_overall.sort_values(ascending=False).index[:5]:\n",
    "    print(calendar.month_name[i], dep_delay_months_overall[i])"
   ]
  },
  {
   "cell_type": "code",
   "execution_count": null,
   "metadata": {},
   "outputs": [],
   "source": []
  },
  {
   "cell_type": "markdown",
   "metadata": {},
   "source": [
    "### Monthly arr_delay"
   ]
  },
  {
   "cell_type": "code",
   "execution_count": 89,
   "metadata": {},
   "outputs": [
    {
     "data": {
      "image/png": "[encoded data removed]",
      "text/plain": [
       "<Figure size 432x288 with 1 Axes>"
      ]
     },
     "metadata": {
      "needs_background": "light"
     },
     "output_type": "display_data"
    }
   ],
   "source": [
    "# Averge monthly arr_delay 2019\n",
    "\n",
    "arr_delay_months_2019 = flights_delay.loc[flights_delay['year'] == 2019].groupby('month')['arr_delay'].mean()\n",
    "arr_delay_months_2019\n",
    "\n",
    "\n",
    "ax = sns.barplot(x=arr_delay_months_2019.values, \n",
    "                 y=[calendar.month_name[i] for i in arr_delay_months_2019.index])\n",
    "\n",
    "ax.set(title='Avg Arrival Delay 2019 by Month', xlabel='Avg Arrival Delay (min)'); "
   ]
  },
  {
   "cell_type": "code",
   "execution_count": 90,
   "metadata": {},
   "outputs": [
    {
     "name": "stdout",
     "output_type": "stream",
     "text": [
      "June 11.993983965117929\n",
      "February 9.30654890401491\n",
      "July 8.971920115255177\n",
      "August 7.745284522758974\n",
      "May 7.0314678042455645\n"
     ]
    }
   ],
   "source": [
    "# Top 5 months in 2019 with highest avg delay\n",
    "for i in arr_delay_months_2019.sort_values(ascending=False).index[:5]:\n",
    "    print(calendar.month_name[i], arr_delay_months_2019[i])"
   ]
  },
  {
   "cell_type": "code",
   "execution_count": 92,
   "metadata": {},
   "outputs": [
    {
     "data": {
      "image/png": "[encoded data removed]",
      "text/plain": [
       "<Figure size 432x288 with 1 Axes>"
      ]
     },
     "metadata": {
      "needs_background": "light"
     },
     "output_type": "display_data"
    }
   ],
   "source": [
    "# Average monthly dep_delay 2018\n",
    "arr_delay_months_2018 = flights_delay.loc[flights_delay['year'] == 2018].groupby('month')['arr_delay'].mean()\n",
    "\n",
    "\n",
    "ax = sns.barplot(x=arr_delay_months_2018.values, \n",
    "                 y=[calendar.month_name[i] for i in arr_delay_months_2018.index])\n",
    "\n",
    "ax.set(title='Avg Arrival Delay 2018 by Month', xlabel='Avg Arrival Delay (min)'); \n"
   ]
  },
  {
   "cell_type": "code",
   "execution_count": 96,
   "metadata": {},
   "outputs": [
    {
     "name": "stdout",
     "output_type": "stream",
     "text": [
      "August 10.095707785523791\n",
      "July 8.995110416533032\n",
      "June 8.827516925551581\n",
      "May 5.989071261673398\n",
      "November 5.603914216180432\n"
     ]
    }
   ],
   "source": [
    "# Top 5 months in 2018 with highest avg delay\n",
    "for i in arr_delay_months_2018.sort_values(ascending=False).index[:5]:\n",
    "    print(calendar.month_name[i], arr_delay_months_2018[i])"
   ]
  },
  {
   "cell_type": "code",
   "execution_count": 95,
   "metadata": {},
   "outputs": [
    {
     "data": {
      "image/png": "[encoded data removed]",
      "text/plain": [
       "<Figure size 432x288 with 1 Axes>"
      ]
     },
     "metadata": {
      "needs_background": "light"
     },
     "output_type": "display_data"
    }
   ],
   "source": [
    "# Average monthly arr_delay overall (2018, 2019)\n",
    "\n",
    "arr_delay_months_overall = flights_delay.groupby('month')['arr_delay'].mean()\n",
    "\n",
    "ax = sns.barplot(x=arr_delay_months_overall.values, \n",
    "                 y=[calendar.month_name[i] for i in arr_delay_months_overall.index])\n",
    "\n",
    "ax.set(title='Avg Arrival Delay 2018/2019 by Month', xlabel='Avg Arrival Delay (min)'); "
   ]
  },
  {
   "cell_type": "code",
   "execution_count": 97,
   "metadata": {},
   "outputs": [
    {
     "name": "stdout",
     "output_type": "stream",
     "text": [
      "June 10.42321388164398\n",
      "July 8.983394731470014\n",
      "August 8.90469349073505\n",
      "February 6.750476200710875\n",
      "May 6.517109018904581\n"
     ]
    }
   ],
   "source": [
    "# Top 5 months in overall with highest avg delay\n",
    "for i in arr_delay_months_overall.sort_values(ascending=False).index[:5]:\n",
    "    print(calendar.month_name[i], arr_delay_months_overall[i])"
   ]
  },
  {
   "cell_type": "code",
   "execution_count": null,
   "metadata": {},
   "outputs": [],
   "source": []
  },
  {
   "cell_type": "code",
   "execution_count": 99,
   "metadata": {},
   "outputs": [
    {
     "data": {
      "text/html": [
       "<div>\n",
       "<style scoped>\n",
       "    .dataframe tbody tr th:only-of-type {\n",
       "        vertical-align: middle;\n",
       "    }\n",
       "\n",
       "    .dataframe tbody tr th {\n",
       "        vertical-align: top;\n",
       "    }\n",
       "\n",
       "    .dataframe thead th {\n",
       "        text-align: right;\n",
       "    }\n",
       "</style>\n",
       "<table border=\"1\" class=\"dataframe\">\n",
       "  <thead>\n",
       "    <tr style=\"text-align: right;\">\n",
       "      <th></th>\n",
       "      <th>dep_delay</th>\n",
       "      <th>arr_delay</th>\n",
       "    </tr>\n",
       "  </thead>\n",
       "  <tbody>\n",
       "    <tr>\n",
       "      <th>dep_delay</th>\n",
       "      <td>1.00000</td>\n",
       "      <td>0.96196</td>\n",
       "    </tr>\n",
       "    <tr>\n",
       "      <th>arr_delay</th>\n",
       "      <td>0.96196</td>\n",
       "      <td>1.00000</td>\n",
       "    </tr>\n",
       "  </tbody>\n",
       "</table>\n",
       "</div>"
      ],
      "text/plain": [
       "           dep_delay  arr_delay\n",
       "dep_delay    1.00000    0.96196\n",
       "arr_delay    0.96196    1.00000"
      ]
     },
     "execution_count": 99,
     "metadata": {},
     "output_type": "execute_result"
    }
   ],
   "source": []
  },
  {
   "cell_type": "code",
   "execution_count": 103,
   "metadata": {},
   "outputs": [
    {
     "data": {
      "image/png": "[encoded data removed]",
      "text/plain": [
       "<Figure size 432x288 with 2 Axes>"
      ]
     },
     "metadata": {
      "needs_background": "light"
     },
     "output_type": "display_data"
    }
   ],
   "source": [
    "ax = sns.heatmap(flights_delay[['dep_delay', 'arr_delay']].corr(), annot=True, square=True);\n",
    "\n",
    "ax.set(title='Heatmap of Departures/Arrivales Correlation');\n",
    "\n",
    "# We can see using pearsons correlation there is a 96% correlation in departures delays and arrival delays"
   ]
  },
  {
   "cell_type": "code",
   "execution_count": 18,
   "metadata": {},
   "outputs": [],
   "source": [
    "passengers_df = pd.read_csv(data_path + 'passengers.csv')"
   ]
  },
  {
   "cell_type": "code",
   "execution_count": 16,
   "metadata": {},
   "outputs": [
    {
     "data": {
      "text/plain": [
       "([0, 1, 2, 3, 4, 5, 6, 7, 8, 9, 10, 11],\n",
       " <a list of 12 Text major ticklabel objects>)"
      ]
     },
     "execution_count": 16,
     "metadata": {},
     "output_type": "execute_result"
    },
    {
     "data": {
      "image/png": "[encoded data removed]",
      "text/plain": [
       "<Figure size 432x288 with 1 Axes>"
      ]
     },
     "metadata": {
      "needs_background": "light"
     },
     "output_type": "display_data"
    }
   ],
   "source": [
    "month_flights = flights_delay.groupby('month')['fl_date'].count()\n",
    "\n",
    "plt.plot([calendar.month_name[i] for i in month_flights.index], month_flights.values)\n",
    "plt.xticks(rotation=45)"
   ]
  },
  {
   "cell_type": "code",
   "execution_count": 19,
   "metadata": {},
   "outputs": [
    {
     "data": {
      "text/plain": [
       "([0, 1, 2, 3, 4, 5, 6, 7, 8, 9, 10, 11],\n",
       " <a list of 12 Text major ticklabel objects>)"
      ]
     },
     "execution_count": 19,
     "metadata": {},
     "output_type": "execute_result"
    },
    {
     "data": {
      "image/png": "[encoded data removed]",
      "text/plain": [
       "<Figure size 432x288 with 1 Axes>"
      ]
     },
     "metadata": {
      "needs_background": "light"
     },
     "output_type": "display_data"
    }
   ],
   "source": [
    "passanger_counts_month=passengers_df.groupby('month')['passengers'].sum()/()\n",
    "plt.plot([calendar.month_name[i] for i in passanger_counts_month.index], passanger_counts_month)\n",
    "plt.xticks(rotation=45)"
   ]
  },
  {
   "cell_type": "code",
   "execution_count": 120,
   "metadata": {},
   "outputs": [],
   "source": [
    "# correlate num passangers per month, lower in Febuary but this is due to Feb only having 28 days"
   ]
  },
  {
   "cell_type": "markdown",
   "metadata": {},
   "source": [
    "We generally see higher delay times in June, July, August, Febuary, December and May\n",
    "\n",
    "This is due to a couple reasons\n",
    "1. Summer vacation more people travel, More planes in the sky\n",
    "2. December High due to Christmas Holidays\n",
    "3. Febuary also has presidents day which in 2018 and 2019 lands on monday, therefore possible 3 day weekend? Another holidays"
   ]
  },
  {
   "cell_type": "code",
   "execution_count": 138,
   "metadata": {},
   "outputs": [
    {
     "data": {
      "text/plain": [
       "carrier_delay          True\n",
       "weather_delay          True\n",
       "nas_delay              True\n",
       "security_delay         True\n",
       "late_aircraft_delay    True\n",
       "dtype: bool"
      ]
     },
     "execution_count": 138,
     "metadata": {},
     "output_type": "execute_result"
    }
   ],
   "source": [
    "flights_delay[['carrier_delay', 'weather_delay', 'nas_delay', 'security_delay', 'late_aircraft_delay']].notna().any()"
   ]
  },
  {
   "cell_type": "code",
   "execution_count": 32,
   "metadata": {},
   "outputs": [],
   "source": []
  },
  {
   "cell_type": "code",
   "execution_count": 44,
   "metadata": {},
   "outputs": [
    {
     "data": {
      "text/html": [
       "<div>\n",
       "<style scoped>\n",
       "    .dataframe tbody tr th:only-of-type {\n",
       "        vertical-align: middle;\n",
       "    }\n",
       "\n",
       "    .dataframe tbody tr th {\n",
       "        vertical-align: top;\n",
       "    }\n",
       "\n",
       "    .dataframe thead th {\n",
       "        text-align: right;\n",
       "    }\n",
       "</style>\n",
       "<table border=\"1\" class=\"dataframe\">\n",
       "  <thead>\n",
       "    <tr style=\"text-align: right;\">\n",
       "      <th></th>\n",
       "      <th>carrier_delay</th>\n",
       "      <th>weather_delay</th>\n",
       "      <th>nas_delay</th>\n",
       "      <th>security_delay</th>\n",
       "      <th>late_aircraft_delay</th>\n",
       "      <th>total</th>\n",
       "    </tr>\n",
       "    <tr>\n",
       "      <th>month</th>\n",
       "      <th></th>\n",
       "      <th></th>\n",
       "      <th></th>\n",
       "      <th></th>\n",
       "      <th></th>\n",
       "      <th></th>\n",
       "    </tr>\n",
       "  </thead>\n",
       "  <tbody>\n",
       "    <tr>\n",
       "      <th>1</th>\n",
       "      <td>0.306852</td>\n",
       "      <td>0.066710</td>\n",
       "      <td>0.238932</td>\n",
       "      <td>0.001228</td>\n",
       "      <td>0.386278</td>\n",
       "      <td>1.0</td>\n",
       "    </tr>\n",
       "    <tr>\n",
       "      <th>2</th>\n",
       "      <td>0.296061</td>\n",
       "      <td>0.064373</td>\n",
       "      <td>0.239479</td>\n",
       "      <td>0.001627</td>\n",
       "      <td>0.398459</td>\n",
       "      <td>1.0</td>\n",
       "    </tr>\n",
       "    <tr>\n",
       "      <th>3</th>\n",
       "      <td>0.344702</td>\n",
       "      <td>0.040669</td>\n",
       "      <td>0.209000</td>\n",
       "      <td>0.001538</td>\n",
       "      <td>0.404092</td>\n",
       "      <td>1.0</td>\n",
       "    </tr>\n",
       "    <tr>\n",
       "      <th>4</th>\n",
       "      <td>0.308764</td>\n",
       "      <td>0.048462</td>\n",
       "      <td>0.237158</td>\n",
       "      <td>0.001065</td>\n",
       "      <td>0.404552</td>\n",
       "      <td>1.0</td>\n",
       "    </tr>\n",
       "    <tr>\n",
       "      <th>5</th>\n",
       "      <td>0.285628</td>\n",
       "      <td>0.061169</td>\n",
       "      <td>0.245793</td>\n",
       "      <td>0.001002</td>\n",
       "      <td>0.406408</td>\n",
       "      <td>1.0</td>\n",
       "    </tr>\n",
       "    <tr>\n",
       "      <th>6</th>\n",
       "      <td>0.286346</td>\n",
       "      <td>0.056264</td>\n",
       "      <td>0.235836</td>\n",
       "      <td>0.001529</td>\n",
       "      <td>0.420025</td>\n",
       "      <td>1.0</td>\n",
       "    </tr>\n",
       "    <tr>\n",
       "      <th>7</th>\n",
       "      <td>0.286176</td>\n",
       "      <td>0.064406</td>\n",
       "      <td>0.237287</td>\n",
       "      <td>0.001047</td>\n",
       "      <td>0.411084</td>\n",
       "      <td>1.0</td>\n",
       "    </tr>\n",
       "    <tr>\n",
       "      <th>8</th>\n",
       "      <td>0.283000</td>\n",
       "      <td>0.054390</td>\n",
       "      <td>0.259332</td>\n",
       "      <td>0.001075</td>\n",
       "      <td>0.402203</td>\n",
       "      <td>1.0</td>\n",
       "    </tr>\n",
       "    <tr>\n",
       "      <th>9</th>\n",
       "      <td>0.303538</td>\n",
       "      <td>0.051267</td>\n",
       "      <td>0.269475</td>\n",
       "      <td>0.001999</td>\n",
       "      <td>0.373721</td>\n",
       "      <td>1.0</td>\n",
       "    </tr>\n",
       "    <tr>\n",
       "      <th>10</th>\n",
       "      <td>0.312346</td>\n",
       "      <td>0.040509</td>\n",
       "      <td>0.247316</td>\n",
       "      <td>0.001056</td>\n",
       "      <td>0.398773</td>\n",
       "      <td>1.0</td>\n",
       "    </tr>\n",
       "    <tr>\n",
       "      <th>11</th>\n",
       "      <td>0.317254</td>\n",
       "      <td>0.046164</td>\n",
       "      <td>0.233517</td>\n",
       "      <td>0.001374</td>\n",
       "      <td>0.401690</td>\n",
       "      <td>1.0</td>\n",
       "    </tr>\n",
       "    <tr>\n",
       "      <th>12</th>\n",
       "      <td>0.312833</td>\n",
       "      <td>0.047157</td>\n",
       "      <td>0.222969</td>\n",
       "      <td>0.001416</td>\n",
       "      <td>0.415625</td>\n",
       "      <td>1.0</td>\n",
       "    </tr>\n",
       "  </tbody>\n",
       "</table>\n",
       "</div>"
      ],
      "text/plain": [
       "       carrier_delay  weather_delay  nas_delay  security_delay  \\\n",
       "month                                                            \n",
       "1           0.306852       0.066710   0.238932        0.001228   \n",
       "2           0.296061       0.064373   0.239479        0.001627   \n",
       "3           0.344702       0.040669   0.209000        0.001538   \n",
       "4           0.308764       0.048462   0.237158        0.001065   \n",
       "5           0.285628       0.061169   0.245793        0.001002   \n",
       "6           0.286346       0.056264   0.235836        0.001529   \n",
       "7           0.286176       0.064406   0.237287        0.001047   \n",
       "8           0.283000       0.054390   0.259332        0.001075   \n",
       "9           0.303538       0.051267   0.269475        0.001999   \n",
       "10          0.312346       0.040509   0.247316        0.001056   \n",
       "11          0.317254       0.046164   0.233517        0.001374   \n",
       "12          0.312833       0.047157   0.222969        0.001416   \n",
       "\n",
       "       late_aircraft_delay  total  \n",
       "month                              \n",
       "1                 0.386278    1.0  \n",
       "2                 0.398459    1.0  \n",
       "3                 0.404092    1.0  \n",
       "4                 0.404552    1.0  \n",
       "5                 0.406408    1.0  \n",
       "6                 0.420025    1.0  \n",
       "7                 0.411084    1.0  \n",
       "8                 0.402203    1.0  \n",
       "9                 0.373721    1.0  \n",
       "10                0.398773    1.0  \n",
       "11                0.401690    1.0  \n",
       "12                0.415625    1.0  "
      ]
     },
     "execution_count": 44,
     "metadata": {},
     "output_type": "execute_result"
    }
   ],
   "source": [
    "x = flights_delay.groupby('month')[['carrier_delay', \n",
    "                                    'weather_delay', \n",
    "                                    'nas_delay', \n",
    "                                    'security_delay', \n",
    "                                    'late_aircraft_delay']].sum()\n",
    "\n",
    "fraction_delay = x.div(x['total'], axis=0)\n",
    "fraction_delay"
   ]
  },
  {
   "cell_type": "code",
   "execution_count": 50,
   "metadata": {},
   "outputs": [],
   "source": [
    "# Lets try to plot the fractions from these later"
   ]
  },
  {
   "cell_type": "code",
   "execution_count": null,
   "metadata": {},
   "outputs": [],
   "source": []
  },
  {
   "cell_type": "code",
   "execution_count": null,
   "metadata": {},
   "outputs": [],
   "source": []
  }
 ],
 "metadata": {
  "kernelspec": {
   "display_name": "Python 3",
   "language": "python",
   "name": "python3"
  },
  "language_info": {
   "codemirror_mode": {
    "name": "ipython",
    "version": 3
   },
   "file_extension": ".py",
   "mimetype": "text/x-python",
   "name": "python",
   "nbconvert_exporter": "python",
   "pygments_lexer": "ipython3",
   "version": "3.7.4"
  }
 },
 "nbformat": 4,
 "nbformat_minor": 2
}
