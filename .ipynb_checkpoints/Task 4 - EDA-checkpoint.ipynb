{
 "cells": [
  {
   "cell_type": "markdown",
   "metadata": {},
   "source": [
    "https://www.paramountbusinessjets.com/aviation-terminology/taxi-time.html#:~:text=Taxi%20time%20is%20the%20total,to%20the%20hanger%20or%20terminal\n",
    "\n",
    "\n",
    "\n",
    "Taxi time is the total time of an aircraft's movement on the ground. Taxi time can be the time it takes an aircraft to go from a hanger or terminal to the runway until cleared for takeoff or the aircraft going from exiting the runway back to the hanger or terminal. It is used by pilots to determine various kinds of information pertinent to the flight, such as fuel burn, total fuel loss, weight, takeoff weight, landing weight, and true airspeed. Since weight plays a huge part in whether an aircraft can take off or land the amount of time a plane spends burning fuel on the ground, taxiing can greatly alter the planes takeoff or landing distances.\n",
    "\n",
    "\n",
    "In larger airports there tend to be more runways allowing for the takeoff of many aircraft at one time"
   ]
  },
  {
   "cell_type": "code",
   "execution_count": 1,
   "metadata": {},
   "outputs": [
    {
     "name": "stderr",
     "output_type": "stream",
     "text": [
      "C:\\Users\\Jesse\\Anaconda3\\lib\\site-packages\\ipykernel_launcher.py:3: FutureWarning: pandas.util.testing is deprecated. Use the functions in the public API at pandas.testing instead.\n",
      "  This is separate from the ipykernel package so we can avoid doing imports until\n"
     ]
    }
   ],
   "source": [
    "import numpy as np \n",
    "import pandas as pd\n",
    "import pandas.util.testing as tm\n",
    "import matplotlib.pyplot as plt\n",
    "import seaborn as sns\n",
    "import datetime\n",
    "import calendar\n",
    "\n",
    "plt.style.use('seaborn')\n",
    "\n",
    "%matplotlib inline"
   ]
  },
  {
   "cell_type": "code",
   "execution_count": 2,
   "metadata": {},
   "outputs": [],
   "source": [
    "data_path = 'C:/Users/Jesse/Desktop/midterm_data/data/'"
   ]
  },
  {
   "cell_type": "markdown",
   "metadata": {},
   "source": [
    "#### **Task 4**: How taxi times changing during the day? Does higher traffic lead to bigger taxi times?"
   ]
  },
  {
   "cell_type": "code",
   "execution_count": 3,
   "metadata": {},
   "outputs": [
    {
     "name": "stderr",
     "output_type": "stream",
     "text": [
      "C:\\Users\\Jesse\\Anaconda3\\lib\\site-packages\\IPython\\core\\interactiveshell.py:3058: DtypeWarning: Columns (25) have mixed types.Specify dtype option on import or set low_memory=False.\n",
      "  interactivity=interactivity, compiler=compiler, result=result)\n"
     ]
    },
    {
     "data": {
      "text/html": [
       "<div>\n",
       "<style scoped>\n",
       "    .dataframe tbody tr th:only-of-type {\n",
       "        vertical-align: middle;\n",
       "    }\n",
       "\n",
       "    .dataframe tbody tr th {\n",
       "        vertical-align: top;\n",
       "    }\n",
       "\n",
       "    .dataframe thead th {\n",
       "        text-align: right;\n",
       "    }\n",
       "</style>\n",
       "<table border=\"1\" class=\"dataframe\">\n",
       "  <thead>\n",
       "    <tr style=\"text-align: right;\">\n",
       "      <th></th>\n",
       "      <th>fl_date</th>\n",
       "      <th>mkt_unique_carrier</th>\n",
       "      <th>branded_code_share</th>\n",
       "      <th>mkt_carrier</th>\n",
       "      <th>mkt_carrier_fl_num</th>\n",
       "      <th>op_unique_carrier</th>\n",
       "      <th>tail_num</th>\n",
       "      <th>op_carrier_fl_num</th>\n",
       "      <th>origin_airport_id</th>\n",
       "      <th>origin</th>\n",
       "      <th>...</th>\n",
       "      <th>distance</th>\n",
       "      <th>carrier_delay</th>\n",
       "      <th>weather_delay</th>\n",
       "      <th>nas_delay</th>\n",
       "      <th>security_delay</th>\n",
       "      <th>late_aircraft_delay</th>\n",
       "      <th>first_dep_time</th>\n",
       "      <th>total_add_gtime</th>\n",
       "      <th>longest_add_gtime</th>\n",
       "      <th>no_name</th>\n",
       "    </tr>\n",
       "  </thead>\n",
       "  <tbody>\n",
       "    <tr>\n",
       "      <th>0</th>\n",
       "      <td>2019-08-22</td>\n",
       "      <td>B6</td>\n",
       "      <td>B6</td>\n",
       "      <td>B6</td>\n",
       "      <td>984</td>\n",
       "      <td>B6</td>\n",
       "      <td>N281JB</td>\n",
       "      <td>984</td>\n",
       "      <td>14492</td>\n",
       "      <td>RDU</td>\n",
       "      <td>...</td>\n",
       "      <td>612</td>\n",
       "      <td>NaN</td>\n",
       "      <td>NaN</td>\n",
       "      <td>NaN</td>\n",
       "      <td>NaN</td>\n",
       "      <td>NaN</td>\n",
       "      <td>NaN</td>\n",
       "      <td>NaN</td>\n",
       "      <td>NaN</td>\n",
       "      <td>NaN</td>\n",
       "    </tr>\n",
       "    <tr>\n",
       "      <th>1</th>\n",
       "      <td>2019-08-22</td>\n",
       "      <td>B6</td>\n",
       "      <td>B6</td>\n",
       "      <td>B6</td>\n",
       "      <td>987</td>\n",
       "      <td>B6</td>\n",
       "      <td>N978JB</td>\n",
       "      <td>987</td>\n",
       "      <td>10721</td>\n",
       "      <td>BOS</td>\n",
       "      <td>...</td>\n",
       "      <td>2611</td>\n",
       "      <td>39.0</td>\n",
       "      <td>0.0</td>\n",
       "      <td>0.0</td>\n",
       "      <td>0.0</td>\n",
       "      <td>0.0</td>\n",
       "      <td>NaN</td>\n",
       "      <td>NaN</td>\n",
       "      <td>NaN</td>\n",
       "      <td>NaN</td>\n",
       "    </tr>\n",
       "    <tr>\n",
       "      <th>2</th>\n",
       "      <td>2019-08-22</td>\n",
       "      <td>B6</td>\n",
       "      <td>B6</td>\n",
       "      <td>B6</td>\n",
       "      <td>988</td>\n",
       "      <td>B6</td>\n",
       "      <td>N983JT</td>\n",
       "      <td>988</td>\n",
       "      <td>12892</td>\n",
       "      <td>LAX</td>\n",
       "      <td>...</td>\n",
       "      <td>2611</td>\n",
       "      <td>NaN</td>\n",
       "      <td>NaN</td>\n",
       "      <td>NaN</td>\n",
       "      <td>NaN</td>\n",
       "      <td>NaN</td>\n",
       "      <td>NaN</td>\n",
       "      <td>NaN</td>\n",
       "      <td>NaN</td>\n",
       "      <td>NaN</td>\n",
       "    </tr>\n",
       "    <tr>\n",
       "      <th>3</th>\n",
       "      <td>2019-08-22</td>\n",
       "      <td>B6</td>\n",
       "      <td>B6</td>\n",
       "      <td>B6</td>\n",
       "      <td>989</td>\n",
       "      <td>B6</td>\n",
       "      <td>N339JB</td>\n",
       "      <td>989</td>\n",
       "      <td>10721</td>\n",
       "      <td>BOS</td>\n",
       "      <td>...</td>\n",
       "      <td>399</td>\n",
       "      <td>18.0</td>\n",
       "      <td>0.0</td>\n",
       "      <td>0.0</td>\n",
       "      <td>0.0</td>\n",
       "      <td>0.0</td>\n",
       "      <td>NaN</td>\n",
       "      <td>NaN</td>\n",
       "      <td>NaN</td>\n",
       "      <td>NaN</td>\n",
       "    </tr>\n",
       "    <tr>\n",
       "      <th>4</th>\n",
       "      <td>2019-08-22</td>\n",
       "      <td>B6</td>\n",
       "      <td>B6</td>\n",
       "      <td>B6</td>\n",
       "      <td>990</td>\n",
       "      <td>B6</td>\n",
       "      <td>N583JB</td>\n",
       "      <td>990</td>\n",
       "      <td>13204</td>\n",
       "      <td>MCO</td>\n",
       "      <td>...</td>\n",
       "      <td>944</td>\n",
       "      <td>NaN</td>\n",
       "      <td>NaN</td>\n",
       "      <td>NaN</td>\n",
       "      <td>NaN</td>\n",
       "      <td>NaN</td>\n",
       "      <td>NaN</td>\n",
       "      <td>NaN</td>\n",
       "      <td>NaN</td>\n",
       "      <td>NaN</td>\n",
       "    </tr>\n",
       "  </tbody>\n",
       "</table>\n",
       "<p>5 rows × 42 columns</p>\n",
       "</div>"
      ],
      "text/plain": [
       "      fl_date mkt_unique_carrier branded_code_share mkt_carrier  \\\n",
       "0  2019-08-22                 B6                 B6          B6   \n",
       "1  2019-08-22                 B6                 B6          B6   \n",
       "2  2019-08-22                 B6                 B6          B6   \n",
       "3  2019-08-22                 B6                 B6          B6   \n",
       "4  2019-08-22                 B6                 B6          B6   \n",
       "\n",
       "   mkt_carrier_fl_num op_unique_carrier tail_num  op_carrier_fl_num  \\\n",
       "0                 984                B6   N281JB                984   \n",
       "1                 987                B6   N978JB                987   \n",
       "2                 988                B6   N983JT                988   \n",
       "3                 989                B6   N339JB                989   \n",
       "4                 990                B6   N583JB                990   \n",
       "\n",
       "   origin_airport_id origin  ... distance  carrier_delay weather_delay  \\\n",
       "0              14492    RDU  ...      612            NaN           NaN   \n",
       "1              10721    BOS  ...     2611           39.0           0.0   \n",
       "2              12892    LAX  ...     2611            NaN           NaN   \n",
       "3              10721    BOS  ...      399           18.0           0.0   \n",
       "4              13204    MCO  ...      944            NaN           NaN   \n",
       "\n",
       "  nas_delay  security_delay  late_aircraft_delay  first_dep_time  \\\n",
       "0       NaN             NaN                  NaN             NaN   \n",
       "1       0.0             0.0                  0.0             NaN   \n",
       "2       NaN             NaN                  NaN             NaN   \n",
       "3       0.0             0.0                  0.0             NaN   \n",
       "4       NaN             NaN                  NaN             NaN   \n",
       "\n",
       "   total_add_gtime  longest_add_gtime  no_name  \n",
       "0              NaN                NaN      NaN  \n",
       "1              NaN                NaN      NaN  \n",
       "2              NaN                NaN      NaN  \n",
       "3              NaN                NaN      NaN  \n",
       "4              NaN                NaN      NaN  \n",
       "\n",
       "[5 rows x 42 columns]"
      ]
     },
     "execution_count": 3,
     "metadata": {},
     "output_type": "execute_result"
    }
   ],
   "source": [
    "flights_df = pd.read_csv(data_path + 'flights.csv')\n",
    "flights_df.head()"
   ]
  },
  {
   "cell_type": "code",
   "execution_count": 15,
   "metadata": {},
   "outputs": [
    {
     "data": {
      "text/plain": [
       "fl_date                       0\n",
       "mkt_unique_carrier            0\n",
       "branded_code_share            0\n",
       "mkt_carrier                   0\n",
       "mkt_carrier_fl_num            0\n",
       "op_unique_carrier             0\n",
       "tail_num                  49269\n",
       "op_carrier_fl_num             0\n",
       "origin_airport_id             0\n",
       "origin                        0\n",
       "origin_city_name              0\n",
       "dest_airport_id               0\n",
       "dest                          0\n",
       "dest_city_name                0\n",
       "crs_dep_time                  0\n",
       "dep_time                 258814\n",
       "dep_delay                263754\n",
       "taxi_out                 273274\n",
       "wheels_off               273264\n",
       "wheels_on                281162\n",
       "taxi_in                  281172\n",
       "crs_arr_time                  0\n",
       "arr_time                 275079\n",
       "arr_delay                311744\n",
       "cancelled                     0\n",
       "cancellation_code      15658277\n",
       "diverted                      0\n",
       "dup                           0\n",
       "crs_elapsed_time             20\n",
       "actual_elapsed_time      309157\n",
       "air_time                 315221\n",
       "flights                       0\n",
       "distance                      0\n",
       "carrier_delay          12918001\n",
       "weather_delay          12918001\n",
       "nas_delay              12918001\n",
       "security_delay         12918001\n",
       "late_aircraft_delay    12918001\n",
       "first_dep_time         15818547\n",
       "total_add_gtime        15818552\n",
       "longest_add_gtime      15818549\n",
       "no_name                15927485\n",
       "dtype: int64"
      ]
     },
     "execution_count": 15,
     "metadata": {},
     "output_type": "execute_result"
    }
   ],
   "source": [
    "# There are missing values in taxi_out, taxi_in, dep_time and arr_time\n",
    "\n",
    "flights_df.isna().sum()"
   ]
  },
  {
   "cell_type": "code",
   "execution_count": 4,
   "metadata": {},
   "outputs": [],
   "source": [
    "# Taxi_out time and departure time\n",
    "taxiout_depart_df = flights_df.loc[(flights_df['taxi_out'].notna()) & (flights_df['dep_time'].notna())]\n",
    "taxiin_arrival_df = flights_df.loc[(flights_df['taxi_in'].notna()) & (flights_df['arr_time'].notna())]"
   ]
  },
  {
   "cell_type": "code",
   "execution_count": 5,
   "metadata": {},
   "outputs": [],
   "source": [
    "# This will convert the int to a string format 'hh:mm'\n",
    "def convert_time_to_string(x):\n",
    "    if np.isnan(x):\n",
    "        return '00:00'\n",
    "    \n",
    "    if x == 2400:\n",
    "        return '23:59'\n",
    "    \n",
    "    string = str(int(x))\n",
    "    \n",
    "    if len(string) < 4:\n",
    "        for _ in range(4-len(string)):\n",
    "            string = '0' + string\n",
    "    \n",
    "    return string[:2] + ':' + string[2:]\n",
    "\n",
    "\n",
    "# After conversion to string we then convert to date time\n",
    "# Then we set up a column just for hour \n",
    "# Group by hour and watch taxi_out time change throughout the day"
   ]
  },
  {
   "cell_type": "code",
   "execution_count": 6,
   "metadata": {},
   "outputs": [
    {
     "data": {
      "text/plain": [
       "'03:45'"
      ]
     },
     "execution_count": 6,
     "metadata": {},
     "output_type": "execute_result"
    }
   ],
   "source": [
    "# Example\n",
    "convert_time_to_string(345)"
   ]
  },
  {
   "cell_type": "code",
   "execution_count": 7,
   "metadata": {},
   "outputs": [
    {
     "name": "stderr",
     "output_type": "stream",
     "text": [
      "C:\\Users\\Jesse\\Anaconda3\\lib\\site-packages\\ipykernel_launcher.py:1: SettingWithCopyWarning: \n",
      "A value is trying to be set on a copy of a slice from a DataFrame.\n",
      "Try using .loc[row_indexer,col_indexer] = value instead\n",
      "\n",
      "See the caveats in the documentation: https://pandas.pydata.org/pandas-docs/stable/user_guide/indexing.html#returning-a-view-versus-a-copy\n",
      "  \"\"\"Entry point for launching an IPython kernel.\n",
      "C:\\Users\\Jesse\\Anaconda3\\lib\\site-packages\\ipykernel_launcher.py:2: SettingWithCopyWarning: \n",
      "A value is trying to be set on a copy of a slice from a DataFrame.\n",
      "Try using .loc[row_indexer,col_indexer] = value instead\n",
      "\n",
      "See the caveats in the documentation: https://pandas.pydata.org/pandas-docs/stable/user_guide/indexing.html#returning-a-view-versus-a-copy\n",
      "  \n",
      "C:\\Users\\Jesse\\Anaconda3\\lib\\site-packages\\ipykernel_launcher.py:3: SettingWithCopyWarning: \n",
      "A value is trying to be set on a copy of a slice from a DataFrame.\n",
      "Try using .loc[row_indexer,col_indexer] = value instead\n",
      "\n",
      "See the caveats in the documentation: https://pandas.pydata.org/pandas-docs/stable/user_guide/indexing.html#returning-a-view-versus-a-copy\n",
      "  This is separate from the ipykernel package so we can avoid doing imports until\n",
      "C:\\Users\\Jesse\\Anaconda3\\lib\\site-packages\\ipykernel_launcher.py:7: SettingWithCopyWarning: \n",
      "A value is trying to be set on a copy of a slice from a DataFrame.\n",
      "Try using .loc[row_indexer,col_indexer] = value instead\n",
      "\n",
      "See the caveats in the documentation: https://pandas.pydata.org/pandas-docs/stable/user_guide/indexing.html#returning-a-view-versus-a-copy\n",
      "  import sys\n",
      "C:\\Users\\Jesse\\Anaconda3\\lib\\site-packages\\ipykernel_launcher.py:8: SettingWithCopyWarning: \n",
      "A value is trying to be set on a copy of a slice from a DataFrame.\n",
      "Try using .loc[row_indexer,col_indexer] = value instead\n",
      "\n",
      "See the caveats in the documentation: https://pandas.pydata.org/pandas-docs/stable/user_guide/indexing.html#returning-a-view-versus-a-copy\n",
      "  \n",
      "C:\\Users\\Jesse\\Anaconda3\\lib\\site-packages\\ipykernel_launcher.py:9: SettingWithCopyWarning: \n",
      "A value is trying to be set on a copy of a slice from a DataFrame.\n",
      "Try using .loc[row_indexer,col_indexer] = value instead\n",
      "\n",
      "See the caveats in the documentation: https://pandas.pydata.org/pandas-docs/stable/user_guide/indexing.html#returning-a-view-versus-a-copy\n",
      "  if __name__ == '__main__':\n"
     ]
    }
   ],
   "source": [
    "taxiout_depart_df['dep_time'] = taxiout_depart_df['dep_time'].apply(lambda x: convert_time_to_string(x))\n",
    "taxiout_depart_df['dep_time'] = pd.to_datetime(taxiout_depart_df['dep_time'], format ='%H:%M')\n",
    "taxiout_depart_df['dep_hour'] = taxiout_depart_df['dep_time'].dt.hour\n",
    "\n",
    "\n",
    "\n",
    "taxiin_arrival_df['arr_time'] = taxiin_arrival_df['arr_time'].apply(lambda x: convert_time_to_string(x))\n",
    "taxiin_arrival_df['arr_time'] = pd.to_datetime(taxiin_arrival_df['arr_time'], format ='%H:%M')\n",
    "taxiin_arrival_df['arr_hour'] = taxiin_arrival_df['arr_time'].dt.hour\n",
    "\n",
    "\n",
    "dep_hour_taxi_out = taxiout_depart_df.groupby('dep_hour')['taxi_out'].mean()\n",
    "arr_hour_taxi_in = taxiin_arrival_df.groupby('arr_hour')['taxi_in'].mean()"
   ]
  },
  {
   "cell_type": "code",
   "execution_count": null,
   "metadata": {},
   "outputs": [],
   "source": []
  },
  {
   "cell_type": "code",
   "execution_count": null,
   "metadata": {},
   "outputs": [],
   "source": []
  },
  {
   "cell_type": "code",
   "execution_count": null,
   "metadata": {},
   "outputs": [],
   "source": []
  },
  {
   "cell_type": "code",
   "execution_count": 22,
   "metadata": {},
   "outputs": [
    {
     "data": {
      "image/png": "[encoded data removed]",
      "text/plain": [
       "<Figure size 576x432 with 1 Axes>"
      ]
     },
     "metadata": {
      "needs_background": "light"
     },
     "output_type": "display_data"
    }
   ],
   "source": [
    "plt.figure(figsize=(8,6))\n",
    "\n",
    "plt.plot(dep_hour_taxi_out.index, dep_hour_taxi_out.values, label='Taxi Out')\n",
    "plt.plot(arr_hour_taxi_in.index, arr_hour_taxi_in.values, label='Taxi In')\n",
    "\n",
    "\n",
    "plt.xticks(dep_hour_taxi_out.index);\n",
    "plt.title('Time of Day vs Taxi Time')\n",
    "plt.xlabel('Hour of Day (24hr)')\n",
    "plt.ylabel('Taxi Time (Min)')\n",
    "\n",
    "plt.legend()\n",
    "plt.show()"
   ]
  },
  {
   "cell_type": "markdown",
   "metadata": {},
   "source": [
    "How taxi times changing during the day? Does higher traffic lead to bigger taxi times?"
   ]
  },
  {
   "cell_type": "code",
   "execution_count": 17,
   "metadata": {},
   "outputs": [],
   "source": [
    "flights_per_hour = taxiout_depart_df.loc[taxiout_depart_df['cancelled'] != 1].groupby('dep_hour')['fl_date'].count()"
   ]
  },
  {
   "cell_type": "code",
   "execution_count": 25,
   "metadata": {},
   "outputs": [
    {
     "data": {
      "image/png": "[encoded data removed]",
      "text/plain": [
       "<Figure size 576x432 with 1 Axes>"
      ]
     },
     "metadata": {
      "needs_background": "light"
     },
     "output_type": "display_data"
    }
   ],
   "source": [
    "plt.figure(figsize=(8,6))\n",
    "\n",
    "plt.plot(flights_per_hour.index, flights_per_hour.values)\n",
    "plt.xticks(flights_per_hour.index)\n",
    "plt.title('Number of Flights at Certain Hours of Day')\n",
    "plt.xlabel('Hour of Day (24hr)')\n",
    "plt.ylabel('Number of flights (per Million)');"
   ]
  },
  {
   "cell_type": "code",
   "execution_count": null,
   "metadata": {},
   "outputs": [],
   "source": []
  }
 ],
 "metadata": {
  "kernelspec": {
   "display_name": "Python 3",
   "language": "python",
   "name": "python3"
  },
  "language_info": {
   "codemirror_mode": {
    "name": "ipython",
    "version": 3
   },
   "file_extension": ".py",
   "mimetype": "text/x-python",
   "name": "python",
   "nbconvert_exporter": "python",
   "pygments_lexer": "ipython3",
   "version": "3.7.4"
  }
 },
 "nbformat": 4,
 "nbformat_minor": 2
}
