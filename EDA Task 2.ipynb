{
 "cells": [
  {
   "cell_type": "code",
   "execution_count": 39,
   "metadata": {},
   "outputs": [],
   "source": [
    "import numpy as np \n",
    "import pandas as pd\n",
    "import matplotlib.pyplot as plt\n",
    "import seaborn as sns\n",
    "import datetime\n",
    "import calendar"
   ]
  },
  {
   "cell_type": "markdown",
   "metadata": {},
   "source": [
    "#### **Task 2**: Is average/median monthly delay different during the year? If yes, which are months with the biggest delays and what could be the reason?"
   ]
  },
  {
   "cell_type": "markdown",
   "metadata": {},
   "source": [
    "Reasons for possible aircraft delays:\n",
    "   * Weather, natural disasters\n",
    "   * Congestion\n",
    "   * Human errors, malfunctions, technical issues\n",
    "   * Refueling, maintenance\n",
    "   * Security"
   ]
  },
  {
   "cell_type": "code",
   "execution_count": 40,
   "metadata": {},
   "outputs": [],
   "source": [
    "flights_df = pd.read_csv('/home/jewelle/data_bootcamp/flights_df_clean.csv')"
   ]
  },
  {
   "cell_type": "code",
   "execution_count": 41,
   "metadata": {},
   "outputs": [
    {
     "data": {
      "text/html": [
       "<div>\n",
       "<style scoped>\n",
       "    .dataframe tbody tr th:only-of-type {\n",
       "        vertical-align: middle;\n",
       "    }\n",
       "\n",
       "    .dataframe tbody tr th {\n",
       "        vertical-align: top;\n",
       "    }\n",
       "\n",
       "    .dataframe thead th {\n",
       "        text-align: right;\n",
       "    }\n",
       "</style>\n",
       "<table border=\"1\" class=\"dataframe\">\n",
       "  <thead>\n",
       "    <tr style=\"text-align: right;\">\n",
       "      <th></th>\n",
       "      <th>fl_date</th>\n",
       "      <th>branded_code_share</th>\n",
       "      <th>mkt_carrier</th>\n",
       "      <th>mkt_carrier_fl_num</th>\n",
       "      <th>op_unique_carrier</th>\n",
       "      <th>tail_num</th>\n",
       "      <th>op_carrier_fl_num</th>\n",
       "      <th>origin_airport_id</th>\n",
       "      <th>origin</th>\n",
       "      <th>origin_city_name</th>\n",
       "      <th>...</th>\n",
       "      <th>crs_elapsed_time</th>\n",
       "      <th>actual_elapsed_time</th>\n",
       "      <th>air_time</th>\n",
       "      <th>flights</th>\n",
       "      <th>distance</th>\n",
       "      <th>carrier_delay</th>\n",
       "      <th>weather_delay</th>\n",
       "      <th>nas_delay</th>\n",
       "      <th>security_delay</th>\n",
       "      <th>late_aircraft_delay</th>\n",
       "    </tr>\n",
       "  </thead>\n",
       "  <tbody>\n",
       "    <tr>\n",
       "      <th>0</th>\n",
       "      <td>2018-01-23 00:00:00</td>\n",
       "      <td>UA_CODESHARE</td>\n",
       "      <td>UA</td>\n",
       "      <td>3405</td>\n",
       "      <td>YX</td>\n",
       "      <td>N653RW</td>\n",
       "      <td>3405</td>\n",
       "      <td>10821</td>\n",
       "      <td>BWI</td>\n",
       "      <td>Baltimore, MD</td>\n",
       "      <td>...</td>\n",
       "      <td>75.0</td>\n",
       "      <td>89.0</td>\n",
       "      <td>49.0</td>\n",
       "      <td>1.0</td>\n",
       "      <td>169.0</td>\n",
       "      <td>0.0</td>\n",
       "      <td>0.0</td>\n",
       "      <td>0.0</td>\n",
       "      <td>0.0</td>\n",
       "      <td>0.0</td>\n",
       "    </tr>\n",
       "    <tr>\n",
       "      <th>1</th>\n",
       "      <td>2018-11-15 00:00:00</td>\n",
       "      <td>AA_CODESHARE</td>\n",
       "      <td>AA</td>\n",
       "      <td>5683</td>\n",
       "      <td>OH</td>\n",
       "      <td>N594NN</td>\n",
       "      <td>5683</td>\n",
       "      <td>11057</td>\n",
       "      <td>CLT</td>\n",
       "      <td>Charlotte, NC</td>\n",
       "      <td>...</td>\n",
       "      <td>136.0</td>\n",
       "      <td>122.0</td>\n",
       "      <td>99.0</td>\n",
       "      <td>1.0</td>\n",
       "      <td>640.0</td>\n",
       "      <td>0.0</td>\n",
       "      <td>0.0</td>\n",
       "      <td>0.0</td>\n",
       "      <td>0.0</td>\n",
       "      <td>0.0</td>\n",
       "    </tr>\n",
       "    <tr>\n",
       "      <th>2</th>\n",
       "      <td>2019-10-29 00:00:00</td>\n",
       "      <td>WN</td>\n",
       "      <td>WN</td>\n",
       "      <td>2434</td>\n",
       "      <td>WN</td>\n",
       "      <td>N432WN</td>\n",
       "      <td>2434</td>\n",
       "      <td>12889</td>\n",
       "      <td>LAS</td>\n",
       "      <td>Las Vegas, NV</td>\n",
       "      <td>...</td>\n",
       "      <td>155.0</td>\n",
       "      <td>156.0</td>\n",
       "      <td>139.0</td>\n",
       "      <td>1.0</td>\n",
       "      <td>867.0</td>\n",
       "      <td>0.0</td>\n",
       "      <td>0.0</td>\n",
       "      <td>0.0</td>\n",
       "      <td>0.0</td>\n",
       "      <td>0.0</td>\n",
       "    </tr>\n",
       "    <tr>\n",
       "      <th>3</th>\n",
       "      <td>2019-11-14 00:00:00</td>\n",
       "      <td>B6</td>\n",
       "      <td>B6</td>\n",
       "      <td>577</td>\n",
       "      <td>B6</td>\n",
       "      <td>N968JT</td>\n",
       "      <td>577</td>\n",
       "      <td>11697</td>\n",
       "      <td>FLL</td>\n",
       "      <td>Fort Lauderdale, FL</td>\n",
       "      <td>...</td>\n",
       "      <td>385.0</td>\n",
       "      <td>371.0</td>\n",
       "      <td>346.0</td>\n",
       "      <td>1.0</td>\n",
       "      <td>2584.0</td>\n",
       "      <td>0.0</td>\n",
       "      <td>0.0</td>\n",
       "      <td>0.0</td>\n",
       "      <td>0.0</td>\n",
       "      <td>0.0</td>\n",
       "    </tr>\n",
       "    <tr>\n",
       "      <th>4</th>\n",
       "      <td>2019-05-22 00:00:00</td>\n",
       "      <td>DL_CODESHARE</td>\n",
       "      <td>DL</td>\n",
       "      <td>3762</td>\n",
       "      <td>OO</td>\n",
       "      <td>N8933B</td>\n",
       "      <td>3762</td>\n",
       "      <td>10397</td>\n",
       "      <td>ATL</td>\n",
       "      <td>Atlanta, GA</td>\n",
       "      <td>...</td>\n",
       "      <td>107.0</td>\n",
       "      <td>90.0</td>\n",
       "      <td>73.0</td>\n",
       "      <td>1.0</td>\n",
       "      <td>508.0</td>\n",
       "      <td>0.0</td>\n",
       "      <td>0.0</td>\n",
       "      <td>0.0</td>\n",
       "      <td>0.0</td>\n",
       "      <td>0.0</td>\n",
       "    </tr>\n",
       "  </tbody>\n",
       "</table>\n",
       "<p>5 rows × 35 columns</p>\n",
       "</div>"
      ],
      "text/plain": [
       "               fl_date branded_code_share mkt_carrier  mkt_carrier_fl_num  \\\n",
       "0  2018-01-23 00:00:00       UA_CODESHARE          UA                3405   \n",
       "1  2018-11-15 00:00:00       AA_CODESHARE          AA                5683   \n",
       "2  2019-10-29 00:00:00                 WN          WN                2434   \n",
       "3  2019-11-14 00:00:00                 B6          B6                 577   \n",
       "4  2019-05-22 00:00:00       DL_CODESHARE          DL                3762   \n",
       "\n",
       "  op_unique_carrier tail_num  op_carrier_fl_num  origin_airport_id origin  \\\n",
       "0                YX   N653RW               3405              10821    BWI   \n",
       "1                OH   N594NN               5683              11057    CLT   \n",
       "2                WN   N432WN               2434              12889    LAS   \n",
       "3                B6   N968JT                577              11697    FLL   \n",
       "4                OO   N8933B               3762              10397    ATL   \n",
       "\n",
       "      origin_city_name  ...  crs_elapsed_time actual_elapsed_time air_time  \\\n",
       "0        Baltimore, MD  ...              75.0                89.0     49.0   \n",
       "1        Charlotte, NC  ...             136.0               122.0     99.0   \n",
       "2        Las Vegas, NV  ...             155.0               156.0    139.0   \n",
       "3  Fort Lauderdale, FL  ...             385.0               371.0    346.0   \n",
       "4          Atlanta, GA  ...             107.0                90.0     73.0   \n",
       "\n",
       "  flights distance  carrier_delay  weather_delay nas_delay security_delay  \\\n",
       "0     1.0    169.0            0.0            0.0       0.0            0.0   \n",
       "1     1.0    640.0            0.0            0.0       0.0            0.0   \n",
       "2     1.0    867.0            0.0            0.0       0.0            0.0   \n",
       "3     1.0   2584.0            0.0            0.0       0.0            0.0   \n",
       "4     1.0    508.0            0.0            0.0       0.0            0.0   \n",
       "\n",
       "   late_aircraft_delay  \n",
       "0                  0.0  \n",
       "1                  0.0  \n",
       "2                  0.0  \n",
       "3                  0.0  \n",
       "4                  0.0  \n",
       "\n",
       "[5 rows x 35 columns]"
      ]
     },
     "execution_count": 41,
     "metadata": {},
     "output_type": "execute_result"
    }
   ],
   "source": [
    "flights_df.head()"
   ]
  },
  {
   "cell_type": "code",
   "execution_count": 42,
   "metadata": {},
   "outputs": [
    {
     "data": {
      "text/html": [
       "<div>\n",
       "<style scoped>\n",
       "    .dataframe tbody tr th:only-of-type {\n",
       "        vertical-align: middle;\n",
       "    }\n",
       "\n",
       "    .dataframe tbody tr th {\n",
       "        vertical-align: top;\n",
       "    }\n",
       "\n",
       "    .dataframe thead th {\n",
       "        text-align: right;\n",
       "    }\n",
       "</style>\n",
       "<table border=\"1\" class=\"dataframe\">\n",
       "  <thead>\n",
       "    <tr style=\"text-align: right;\">\n",
       "      <th></th>\n",
       "      <th>fl_date</th>\n",
       "      <th>branded_code_share</th>\n",
       "      <th>mkt_carrier</th>\n",
       "      <th>mkt_carrier_fl_num</th>\n",
       "      <th>op_unique_carrier</th>\n",
       "      <th>tail_num</th>\n",
       "      <th>op_carrier_fl_num</th>\n",
       "      <th>origin_airport_id</th>\n",
       "      <th>origin</th>\n",
       "      <th>origin_city_name</th>\n",
       "      <th>...</th>\n",
       "      <th>crs_elapsed_time</th>\n",
       "      <th>actual_elapsed_time</th>\n",
       "      <th>air_time</th>\n",
       "      <th>flights</th>\n",
       "      <th>distance</th>\n",
       "      <th>carrier_delay</th>\n",
       "      <th>weather_delay</th>\n",
       "      <th>nas_delay</th>\n",
       "      <th>security_delay</th>\n",
       "      <th>late_aircraft_delay</th>\n",
       "    </tr>\n",
       "  </thead>\n",
       "  <tbody>\n",
       "    <tr>\n",
       "      <th>0</th>\n",
       "      <td>2018-01-23 00:00:00</td>\n",
       "      <td>UA_CODESHARE</td>\n",
       "      <td>UA</td>\n",
       "      <td>3405</td>\n",
       "      <td>YX</td>\n",
       "      <td>N653RW</td>\n",
       "      <td>3405</td>\n",
       "      <td>10821</td>\n",
       "      <td>BWI</td>\n",
       "      <td>Baltimore, MD</td>\n",
       "      <td>...</td>\n",
       "      <td>75.0</td>\n",
       "      <td>89.0</td>\n",
       "      <td>49.0</td>\n",
       "      <td>1.0</td>\n",
       "      <td>169.0</td>\n",
       "      <td>0.0</td>\n",
       "      <td>0.0</td>\n",
       "      <td>0.0</td>\n",
       "      <td>0.0</td>\n",
       "      <td>0.0</td>\n",
       "    </tr>\n",
       "    <tr>\n",
       "      <th>1</th>\n",
       "      <td>2018-11-15 00:00:00</td>\n",
       "      <td>AA_CODESHARE</td>\n",
       "      <td>AA</td>\n",
       "      <td>5683</td>\n",
       "      <td>OH</td>\n",
       "      <td>N594NN</td>\n",
       "      <td>5683</td>\n",
       "      <td>11057</td>\n",
       "      <td>CLT</td>\n",
       "      <td>Charlotte, NC</td>\n",
       "      <td>...</td>\n",
       "      <td>136.0</td>\n",
       "      <td>122.0</td>\n",
       "      <td>99.0</td>\n",
       "      <td>1.0</td>\n",
       "      <td>640.0</td>\n",
       "      <td>0.0</td>\n",
       "      <td>0.0</td>\n",
       "      <td>0.0</td>\n",
       "      <td>0.0</td>\n",
       "      <td>0.0</td>\n",
       "    </tr>\n",
       "    <tr>\n",
       "      <th>2</th>\n",
       "      <td>2019-10-29 00:00:00</td>\n",
       "      <td>WN</td>\n",
       "      <td>WN</td>\n",
       "      <td>2434</td>\n",
       "      <td>WN</td>\n",
       "      <td>N432WN</td>\n",
       "      <td>2434</td>\n",
       "      <td>12889</td>\n",
       "      <td>LAS</td>\n",
       "      <td>Las Vegas, NV</td>\n",
       "      <td>...</td>\n",
       "      <td>155.0</td>\n",
       "      <td>156.0</td>\n",
       "      <td>139.0</td>\n",
       "      <td>1.0</td>\n",
       "      <td>867.0</td>\n",
       "      <td>0.0</td>\n",
       "      <td>0.0</td>\n",
       "      <td>0.0</td>\n",
       "      <td>0.0</td>\n",
       "      <td>0.0</td>\n",
       "    </tr>\n",
       "    <tr>\n",
       "      <th>3</th>\n",
       "      <td>2019-11-14 00:00:00</td>\n",
       "      <td>B6</td>\n",
       "      <td>B6</td>\n",
       "      <td>577</td>\n",
       "      <td>B6</td>\n",
       "      <td>N968JT</td>\n",
       "      <td>577</td>\n",
       "      <td>11697</td>\n",
       "      <td>FLL</td>\n",
       "      <td>Fort Lauderdale, FL</td>\n",
       "      <td>...</td>\n",
       "      <td>385.0</td>\n",
       "      <td>371.0</td>\n",
       "      <td>346.0</td>\n",
       "      <td>1.0</td>\n",
       "      <td>2584.0</td>\n",
       "      <td>0.0</td>\n",
       "      <td>0.0</td>\n",
       "      <td>0.0</td>\n",
       "      <td>0.0</td>\n",
       "      <td>0.0</td>\n",
       "    </tr>\n",
       "    <tr>\n",
       "      <th>4</th>\n",
       "      <td>2019-05-22 00:00:00</td>\n",
       "      <td>DL_CODESHARE</td>\n",
       "      <td>DL</td>\n",
       "      <td>3762</td>\n",
       "      <td>OO</td>\n",
       "      <td>N8933B</td>\n",
       "      <td>3762</td>\n",
       "      <td>10397</td>\n",
       "      <td>ATL</td>\n",
       "      <td>Atlanta, GA</td>\n",
       "      <td>...</td>\n",
       "      <td>107.0</td>\n",
       "      <td>90.0</td>\n",
       "      <td>73.0</td>\n",
       "      <td>1.0</td>\n",
       "      <td>508.0</td>\n",
       "      <td>0.0</td>\n",
       "      <td>0.0</td>\n",
       "      <td>0.0</td>\n",
       "      <td>0.0</td>\n",
       "      <td>0.0</td>\n",
       "    </tr>\n",
       "  </tbody>\n",
       "</table>\n",
       "<p>5 rows × 35 columns</p>\n",
       "</div>"
      ],
      "text/plain": [
       "               fl_date branded_code_share mkt_carrier  mkt_carrier_fl_num  \\\n",
       "0  2018-01-23 00:00:00       UA_CODESHARE          UA                3405   \n",
       "1  2018-11-15 00:00:00       AA_CODESHARE          AA                5683   \n",
       "2  2019-10-29 00:00:00                 WN          WN                2434   \n",
       "3  2019-11-14 00:00:00                 B6          B6                 577   \n",
       "4  2019-05-22 00:00:00       DL_CODESHARE          DL                3762   \n",
       "\n",
       "  op_unique_carrier tail_num  op_carrier_fl_num  origin_airport_id origin  \\\n",
       "0                YX   N653RW               3405              10821    BWI   \n",
       "1                OH   N594NN               5683              11057    CLT   \n",
       "2                WN   N432WN               2434              12889    LAS   \n",
       "3                B6   N968JT                577              11697    FLL   \n",
       "4                OO   N8933B               3762              10397    ATL   \n",
       "\n",
       "      origin_city_name  ...  crs_elapsed_time actual_elapsed_time air_time  \\\n",
       "0        Baltimore, MD  ...              75.0                89.0     49.0   \n",
       "1        Charlotte, NC  ...             136.0               122.0     99.0   \n",
       "2        Las Vegas, NV  ...             155.0               156.0    139.0   \n",
       "3  Fort Lauderdale, FL  ...             385.0               371.0    346.0   \n",
       "4          Atlanta, GA  ...             107.0                90.0     73.0   \n",
       "\n",
       "  flights distance  carrier_delay  weather_delay nas_delay security_delay  \\\n",
       "0     1.0    169.0            0.0            0.0       0.0            0.0   \n",
       "1     1.0    640.0            0.0            0.0       0.0            0.0   \n",
       "2     1.0    867.0            0.0            0.0       0.0            0.0   \n",
       "3     1.0   2584.0            0.0            0.0       0.0            0.0   \n",
       "4     1.0    508.0            0.0            0.0       0.0            0.0   \n",
       "\n",
       "   late_aircraft_delay  \n",
       "0                  0.0  \n",
       "1                  0.0  \n",
       "2                  0.0  \n",
       "3                  0.0  \n",
       "4                  0.0  \n",
       "\n",
       "[5 rows x 35 columns]"
      ]
     },
     "execution_count": 42,
     "metadata": {},
     "output_type": "execute_result"
    }
   ],
   "source": [
    "#only need flights that were delayed, so remove rows where dep_delay and arr_delay have 0.0 values\n",
    "flights_df.loc[(flights_df[['dep_delay', 'arr_delay']] != 0).all(axis=1)]\n",
    "flights_df.head()"
   ]
  },
  {
   "cell_type": "code",
   "execution_count": 43,
   "metadata": {},
   "outputs": [
    {
     "data": {
      "text/plain": [
       "fl_date                 object\n",
       "branded_code_share      object\n",
       "mkt_carrier             object\n",
       "mkt_carrier_fl_num       int64\n",
       "op_unique_carrier       object\n",
       "tail_num                object\n",
       "op_carrier_fl_num        int64\n",
       "origin_airport_id        int64\n",
       "origin                  object\n",
       "origin_city_name        object\n",
       "dest_airport_id          int64\n",
       "dest                    object\n",
       "dest_city_name          object\n",
       "crs_dep_time            object\n",
       "dep_time                object\n",
       "dep_delay              float64\n",
       "taxi_out               float64\n",
       "wheels_off              object\n",
       "wheels_on               object\n",
       "taxi_in                float64\n",
       "crs_arr_time            object\n",
       "arr_time                object\n",
       "arr_delay              float64\n",
       "cancelled              float64\n",
       "diverted               float64\n",
       "crs_elapsed_time       float64\n",
       "actual_elapsed_time    float64\n",
       "air_time               float64\n",
       "flights                float64\n",
       "distance               float64\n",
       "carrier_delay          float64\n",
       "weather_delay          float64\n",
       "nas_delay              float64\n",
       "security_delay         float64\n",
       "late_aircraft_delay    float64\n",
       "dtype: object"
      ]
     },
     "execution_count": 43,
     "metadata": {},
     "output_type": "execute_result"
    }
   ],
   "source": [
    "flights_df.dtypes"
   ]
  },
  {
   "cell_type": "code",
   "execution_count": 44,
   "metadata": {},
   "outputs": [],
   "source": [
    "#convert fl_date to datetime\n",
    "flights_df['fl_date'] = pd.to_datetime(flights_df['fl_date'], format='%Y-%m-%d')"
   ]
  },
  {
   "cell_type": "code",
   "execution_count": 45,
   "metadata": {},
   "outputs": [
    {
     "data": {
      "text/plain": [
       "array([2018, 2019])"
      ]
     },
     "execution_count": 45,
     "metadata": {},
     "output_type": "execute_result"
    }
   ],
   "source": [
    "#need to get delay data by month/year, so separate these into new columns\n",
    "flights_df['fl_date'].dt.year.unique() "
   ]
  },
  {
   "cell_type": "code",
   "execution_count": 46,
   "metadata": {},
   "outputs": [],
   "source": [
    "#new columns for year and month\n",
    "flights_df['year'] = flights_df['fl_date'].dt.year\n",
    "flights_df['month'] = flights_df['fl_date'].dt.month"
   ]
  },
  {
   "cell_type": "code",
   "execution_count": 47,
   "metadata": {},
   "outputs": [
    {
     "data": {
      "text/html": [
       "<div>\n",
       "<style scoped>\n",
       "    .dataframe tbody tr th:only-of-type {\n",
       "        vertical-align: middle;\n",
       "    }\n",
       "\n",
       "    .dataframe tbody tr th {\n",
       "        vertical-align: top;\n",
       "    }\n",
       "\n",
       "    .dataframe thead th {\n",
       "        text-align: right;\n",
       "    }\n",
       "</style>\n",
       "<table border=\"1\" class=\"dataframe\">\n",
       "  <thead>\n",
       "    <tr style=\"text-align: right;\">\n",
       "      <th></th>\n",
       "      <th>fl_date</th>\n",
       "      <th>branded_code_share</th>\n",
       "      <th>mkt_carrier</th>\n",
       "      <th>mkt_carrier_fl_num</th>\n",
       "      <th>op_unique_carrier</th>\n",
       "      <th>tail_num</th>\n",
       "      <th>op_carrier_fl_num</th>\n",
       "      <th>origin_airport_id</th>\n",
       "      <th>origin</th>\n",
       "      <th>origin_city_name</th>\n",
       "      <th>...</th>\n",
       "      <th>air_time</th>\n",
       "      <th>flights</th>\n",
       "      <th>distance</th>\n",
       "      <th>carrier_delay</th>\n",
       "      <th>weather_delay</th>\n",
       "      <th>nas_delay</th>\n",
       "      <th>security_delay</th>\n",
       "      <th>late_aircraft_delay</th>\n",
       "      <th>year</th>\n",
       "      <th>month</th>\n",
       "    </tr>\n",
       "  </thead>\n",
       "  <tbody>\n",
       "    <tr>\n",
       "      <th>0</th>\n",
       "      <td>2018-01-23</td>\n",
       "      <td>UA_CODESHARE</td>\n",
       "      <td>UA</td>\n",
       "      <td>3405</td>\n",
       "      <td>YX</td>\n",
       "      <td>N653RW</td>\n",
       "      <td>3405</td>\n",
       "      <td>10821</td>\n",
       "      <td>BWI</td>\n",
       "      <td>Baltimore, MD</td>\n",
       "      <td>...</td>\n",
       "      <td>49.0</td>\n",
       "      <td>1.0</td>\n",
       "      <td>169.0</td>\n",
       "      <td>0.0</td>\n",
       "      <td>0.0</td>\n",
       "      <td>0.0</td>\n",
       "      <td>0.0</td>\n",
       "      <td>0.0</td>\n",
       "      <td>2018</td>\n",
       "      <td>1</td>\n",
       "    </tr>\n",
       "    <tr>\n",
       "      <th>1</th>\n",
       "      <td>2018-11-15</td>\n",
       "      <td>AA_CODESHARE</td>\n",
       "      <td>AA</td>\n",
       "      <td>5683</td>\n",
       "      <td>OH</td>\n",
       "      <td>N594NN</td>\n",
       "      <td>5683</td>\n",
       "      <td>11057</td>\n",
       "      <td>CLT</td>\n",
       "      <td>Charlotte, NC</td>\n",
       "      <td>...</td>\n",
       "      <td>99.0</td>\n",
       "      <td>1.0</td>\n",
       "      <td>640.0</td>\n",
       "      <td>0.0</td>\n",
       "      <td>0.0</td>\n",
       "      <td>0.0</td>\n",
       "      <td>0.0</td>\n",
       "      <td>0.0</td>\n",
       "      <td>2018</td>\n",
       "      <td>11</td>\n",
       "    </tr>\n",
       "    <tr>\n",
       "      <th>2</th>\n",
       "      <td>2019-10-29</td>\n",
       "      <td>WN</td>\n",
       "      <td>WN</td>\n",
       "      <td>2434</td>\n",
       "      <td>WN</td>\n",
       "      <td>N432WN</td>\n",
       "      <td>2434</td>\n",
       "      <td>12889</td>\n",
       "      <td>LAS</td>\n",
       "      <td>Las Vegas, NV</td>\n",
       "      <td>...</td>\n",
       "      <td>139.0</td>\n",
       "      <td>1.0</td>\n",
       "      <td>867.0</td>\n",
       "      <td>0.0</td>\n",
       "      <td>0.0</td>\n",
       "      <td>0.0</td>\n",
       "      <td>0.0</td>\n",
       "      <td>0.0</td>\n",
       "      <td>2019</td>\n",
       "      <td>10</td>\n",
       "    </tr>\n",
       "    <tr>\n",
       "      <th>3</th>\n",
       "      <td>2019-11-14</td>\n",
       "      <td>B6</td>\n",
       "      <td>B6</td>\n",
       "      <td>577</td>\n",
       "      <td>B6</td>\n",
       "      <td>N968JT</td>\n",
       "      <td>577</td>\n",
       "      <td>11697</td>\n",
       "      <td>FLL</td>\n",
       "      <td>Fort Lauderdale, FL</td>\n",
       "      <td>...</td>\n",
       "      <td>346.0</td>\n",
       "      <td>1.0</td>\n",
       "      <td>2584.0</td>\n",
       "      <td>0.0</td>\n",
       "      <td>0.0</td>\n",
       "      <td>0.0</td>\n",
       "      <td>0.0</td>\n",
       "      <td>0.0</td>\n",
       "      <td>2019</td>\n",
       "      <td>11</td>\n",
       "    </tr>\n",
       "    <tr>\n",
       "      <th>4</th>\n",
       "      <td>2019-05-22</td>\n",
       "      <td>DL_CODESHARE</td>\n",
       "      <td>DL</td>\n",
       "      <td>3762</td>\n",
       "      <td>OO</td>\n",
       "      <td>N8933B</td>\n",
       "      <td>3762</td>\n",
       "      <td>10397</td>\n",
       "      <td>ATL</td>\n",
       "      <td>Atlanta, GA</td>\n",
       "      <td>...</td>\n",
       "      <td>73.0</td>\n",
       "      <td>1.0</td>\n",
       "      <td>508.0</td>\n",
       "      <td>0.0</td>\n",
       "      <td>0.0</td>\n",
       "      <td>0.0</td>\n",
       "      <td>0.0</td>\n",
       "      <td>0.0</td>\n",
       "      <td>2019</td>\n",
       "      <td>5</td>\n",
       "    </tr>\n",
       "  </tbody>\n",
       "</table>\n",
       "<p>5 rows × 37 columns</p>\n",
       "</div>"
      ],
      "text/plain": [
       "     fl_date branded_code_share mkt_carrier  mkt_carrier_fl_num  \\\n",
       "0 2018-01-23       UA_CODESHARE          UA                3405   \n",
       "1 2018-11-15       AA_CODESHARE          AA                5683   \n",
       "2 2019-10-29                 WN          WN                2434   \n",
       "3 2019-11-14                 B6          B6                 577   \n",
       "4 2019-05-22       DL_CODESHARE          DL                3762   \n",
       "\n",
       "  op_unique_carrier tail_num  op_carrier_fl_num  origin_airport_id origin  \\\n",
       "0                YX   N653RW               3405              10821    BWI   \n",
       "1                OH   N594NN               5683              11057    CLT   \n",
       "2                WN   N432WN               2434              12889    LAS   \n",
       "3                B6   N968JT                577              11697    FLL   \n",
       "4                OO   N8933B               3762              10397    ATL   \n",
       "\n",
       "      origin_city_name  ...  air_time flights distance carrier_delay  \\\n",
       "0        Baltimore, MD  ...      49.0     1.0    169.0           0.0   \n",
       "1        Charlotte, NC  ...      99.0     1.0    640.0           0.0   \n",
       "2        Las Vegas, NV  ...     139.0     1.0    867.0           0.0   \n",
       "3  Fort Lauderdale, FL  ...     346.0     1.0   2584.0           0.0   \n",
       "4          Atlanta, GA  ...      73.0     1.0    508.0           0.0   \n",
       "\n",
       "  weather_delay  nas_delay  security_delay late_aircraft_delay  year  month  \n",
       "0           0.0        0.0             0.0                 0.0  2018      1  \n",
       "1           0.0        0.0             0.0                 0.0  2018     11  \n",
       "2           0.0        0.0             0.0                 0.0  2019     10  \n",
       "3           0.0        0.0             0.0                 0.0  2019     11  \n",
       "4           0.0        0.0             0.0                 0.0  2019      5  \n",
       "\n",
       "[5 rows x 37 columns]"
      ]
     },
     "execution_count": 47,
     "metadata": {},
     "output_type": "execute_result"
    }
   ],
   "source": [
    "flights_df.head()"
   ]
  },
  {
   "cell_type": "markdown",
   "metadata": {},
   "source": [
    "Note: My dataset is a subset of 10000 randomly selected rows from the original table and may not be wholly representative of the original data. "
   ]
  },
  {
   "cell_type": "code",
   "execution_count": 60,
   "metadata": {},
   "outputs": [
    {
     "name": "stdout",
     "output_type": "stream",
     "text": [
      "12.490253411306043\n",
      "-2.0\n"
     ]
    }
   ],
   "source": [
    "#average dep_delays over year 2019\n",
    "avg_dep_delay_2019 = flights_df.groupby('year')['dep_delay'].mean()[2019]\n",
    "med_dep_delay_2019 = flights_df.groupby('year')['dep_delay'].median()[2019]\n",
    "print(avg_dep_delay_2019)\n",
    "print(med_dep_delay_2019)\n",
    "#in minutes"
   ]
  },
  {
   "cell_type": "code",
   "execution_count": 61,
   "metadata": {},
   "outputs": [
    {
     "name": "stdout",
     "output_type": "stream",
     "text": [
      "10.205954825462012\n",
      "-2.0\n"
     ]
    }
   ],
   "source": [
    "#average dep_delays over year 2018\n",
    "avg_dep_delay_2018 = flights_df.groupby('year')['dep_delay'].mean()[2018]\n",
    "med_dep_delay_2018 = flights_df.groupby('year')['dep_delay'].median()[2018]\n",
    "print(avg_dep_delay_2018)\n",
    "print(med_dep_delay_2018)\n",
    "#in minutes"
   ]
  },
  {
   "cell_type": "code",
   "execution_count": 62,
   "metadata": {},
   "outputs": [
    {
     "name": "stdout",
     "output_type": "stream",
     "text": [
      "7.264717348927875\n",
      "-6.0\n"
     ]
    }
   ],
   "source": [
    "#average arr_delays over year 2019\n",
    "avg_arr_delay_2019 = flights_df.groupby('year')['arr_delay'].mean()[2019]\n",
    "med_arr_delay_2019 = flights_df.groupby('year')['arr_delay'].median()[2019]\n",
    "#specify year when dataset has more than one\n",
    "print(avg_arr_delay_2019)\n",
    "print(med_arr_delay_2019)\n",
    "#in minutes"
   ]
  },
  {
   "cell_type": "code",
   "execution_count": 63,
   "metadata": {},
   "outputs": [
    {
     "name": "stdout",
     "output_type": "stream",
     "text": [
      "5.565913757700205\n",
      "-5.0\n"
     ]
    }
   ],
   "source": [
    "#average arr_delays over year 2018\n",
    "avg_arr_delay_2018 = flights_df.groupby('year')['arr_delay'].mean()[2018]\n",
    "med_arr_delay_2018 = flights_df.groupby('year')['arr_delay'].median()[2018]\n",
    "#specify year when dataset has more than one\n",
    "print(avg_arr_delay_2018)\n",
    "print(med_arr_delay_2018)\n",
    "#in minutes"
   ]
  },
  {
   "cell_type": "code",
   "execution_count": 65,
   "metadata": {},
   "outputs": [
    {
     "data": {
      "text/plain": [
       "month\n",
       "1      9.635165\n",
       "2     25.375000\n",
       "3     11.115632\n",
       "4      9.983908\n",
       "5     13.201754\n",
       "6     16.872685\n",
       "7     15.427368\n",
       "8     16.109557\n",
       "9      7.855721\n",
       "10     5.453901\n",
       "11     5.007752\n",
       "12    14.414758\n",
       "Name: dep_delay, dtype: float64"
      ]
     },
     "execution_count": 65,
     "metadata": {},
     "output_type": "execute_result"
    }
   ],
   "source": [
    "#average dep_delay by month in 2019\n",
    "dep_delay_months_2019 = flights_df.loc[flights_df['year']==2019].groupby('month')['dep_delay'].mean()\n",
    "dep_delay_months_2019"
   ]
  },
  {
   "cell_type": "code",
   "execution_count": 66,
   "metadata": {},
   "outputs": [
    {
     "data": {
      "text/plain": [
       "month\n",
       "1     11.679666\n",
       "2      6.864198\n",
       "3      7.267857\n",
       "4      7.665823\n",
       "5     11.542334\n",
       "6     16.031891\n",
       "7     11.203980\n",
       "8     12.672686\n",
       "9      8.489583\n",
       "10     5.315920\n",
       "11     8.814385\n",
       "12    13.807882\n",
       "Name: dep_delay, dtype: float64"
      ]
     },
     "execution_count": 66,
     "metadata": {},
     "output_type": "execute_result"
    }
   ],
   "source": [
    "#average dep_delay by month in 2018\n",
    "dep_delay_months_2018 = flights_df.loc[flights_df['year']==2018].groupby('month')['dep_delay'].mean()\n",
    "dep_delay_months_2018"
   ]
  },
  {
   "cell_type": "code",
   "execution_count": 67,
   "metadata": {},
   "outputs": [
    {
     "data": {
      "image/png": "[encoded data removed]",
      "text/plain": [
       "<Figure size 432x288 with 1 Axes>"
      ]
     },
     "metadata": {
      "needs_background": "light"
     },
     "output_type": "display_data"
    }
   ],
   "source": [
    "#plot dep_delay_months_2019\n",
    "ax = sns.barplot(x=dep_delay_months_2019.values, \n",
    "                 y=[calendar.month_name[i] for i in dep_delay_months_2019.index])\n",
    "\n",
    "ax.set(title='Average Departure Delay by Month in 2019', xlabel='Average Departure Delay in minutes');"
   ]
  },
  {
   "cell_type": "code",
   "execution_count": 70,
   "metadata": {},
   "outputs": [
    {
     "data": {
      "image/png": "[encoded data removed]",
      "text/plain": [
       "<Figure size 432x288 with 1 Axes>"
      ]
     },
     "metadata": {
      "needs_background": "light"
     },
     "output_type": "display_data"
    }
   ],
   "source": [
    "#plot dep_delay_months_2018\n",
    "ax = sns.barplot(x=dep_delay_months_2018.values, \n",
    "                 y=[calendar.month_name[i] for i in dep_delay_months_2018.index])\n",
    "\n",
    "ax.set(title='Average Departure Delay by Month in 2018', xlabel='Average Departure Delay in minutes');"
   ]
  },
  {
   "cell_type": "code",
   "execution_count": 68,
   "metadata": {},
   "outputs": [
    {
     "data": {
      "text/plain": [
       "month\n",
       "1      4.542857\n",
       "2     20.425532\n",
       "3      5.284797\n",
       "4      4.294253\n",
       "5      7.861842\n",
       "6     14.592593\n",
       "7      9.267368\n",
       "8     10.375291\n",
       "9      2.104478\n",
       "10     0.345154\n",
       "11    -0.912145\n",
       "12     9.679389\n",
       "Name: arr_delay, dtype: float64"
      ]
     },
     "execution_count": 68,
     "metadata": {},
     "output_type": "execute_result"
    }
   ],
   "source": [
    "#average arrival delay by month in 2019\n",
    "arr_delay_months_2019 = flights_df.loc[flights_df['year']==2019].groupby('month')['arr_delay'].mean()\n",
    "arr_delay_months_2019"
   ]
  },
  {
   "cell_type": "code",
   "execution_count": 69,
   "metadata": {},
   "outputs": [
    {
     "data": {
      "text/plain": [
       "month\n",
       "1      3.727019\n",
       "2      1.012346\n",
       "3      2.160714\n",
       "4      3.268354\n",
       "5      6.926773\n",
       "6     11.364465\n",
       "7      7.151741\n",
       "8      9.358916\n",
       "9      4.700521\n",
       "10     1.656716\n",
       "11     4.793503\n",
       "12     8.884236\n",
       "Name: arr_delay, dtype: float64"
      ]
     },
     "execution_count": 69,
     "metadata": {},
     "output_type": "execute_result"
    }
   ],
   "source": [
    "#average arrival delay by month in 2018\n",
    "arr_delay_months_2018 = flights_df.loc[flights_df['year']==2018].groupby('month')['arr_delay'].mean()\n",
    "arr_delay_months_2018"
   ]
  },
  {
   "cell_type": "code",
   "execution_count": 71,
   "metadata": {},
   "outputs": [
    {
     "data": {
      "image/png": "[encoded data removed]",
      "text/plain": [
       "<Figure size 432x288 with 1 Axes>"
      ]
     },
     "metadata": {
      "needs_background": "light"
     },
     "output_type": "display_data"
    }
   ],
   "source": [
    "#plot arr_delay_months_2019\n",
    "ax = sns.barplot(x=arr_delay_months_2019.values, \n",
    "                 y=[calendar.month_name[i] for i in arr_delay_months_2019.index])\n",
    "\n",
    "ax.set(title='Average Arrival Delay by Month in 2019', xlabel='Average Arrival Delay in minutes');"
   ]
  },
  {
   "cell_type": "code",
   "execution_count": 73,
   "metadata": {},
   "outputs": [
    {
     "data": {
      "image/png": "[encoded data removed]",
      "text/plain": [
       "<Figure size 432x288 with 1 Axes>"
      ]
     },
     "metadata": {
      "needs_background": "light"
     },
     "output_type": "display_data"
    }
   ],
   "source": [
    "#plot arr_delay_months_2018\n",
    "ax = sns.barplot(x=dep_delay_months_2018.values, \n",
    "                 y=[calendar.month_name[i] for i in dep_delay_months_2018.index])\n",
    "\n",
    "ax.set(title='Average Arrival Delay by Month in 2018', xlabel='Average Arrival Delay in minutes');"
   ]
  },
  {
   "cell_type": "code",
   "execution_count": null,
   "metadata": {},
   "outputs": [],
   "source": []
  },
  {
   "cell_type": "code",
   "execution_count": null,
   "metadata": {},
   "outputs": [],
   "source": []
  }
 ],
 "metadata": {
  "kernelspec": {
   "display_name": "Python 3",
   "language": "python",
   "name": "python3"
  },
  "language_info": {
   "codemirror_mode": {
    "name": "ipython",
    "version": 3
   },
   "file_extension": ".py",
   "mimetype": "text/x-python",
   "name": "python",
   "nbconvert_exporter": "python",
   "pygments_lexer": "ipython3",
   "version": "3.7.6"
  }
 },
 "nbformat": 4,
 "nbformat_minor": 4
}
