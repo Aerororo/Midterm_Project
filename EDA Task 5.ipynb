{
 "cells": [
  {
   "cell_type": "code",
   "execution_count": 2,
   "metadata": {},
   "outputs": [],
   "source": [
    "import numpy as np\n",
    "import pandas as pd\n",
    "from scipy import stats\n",
    "import seaborn as sns\n",
    "import matplotlib.pyplot as plt"
   ]
  },
  {
   "cell_type": "markdown",
   "metadata": {},
   "source": [
    "#### **Task 5**: What is the average percentage of delays that is already created before departure? (aka are arrival delays caused by departure delays?)"
   ]
  },
  {
   "cell_type": "markdown",
   "metadata": {},
   "source": [
    "* Problem of dependent probability, so Bayes' Theorem?"
   ]
  },
  {
   "cell_type": "code",
   "execution_count": 3,
   "metadata": {},
   "outputs": [],
   "source": [
    "path = '/home/jewelle/data_bootcamp/'"
   ]
  },
  {
   "cell_type": "code",
   "execution_count": 4,
   "metadata": {},
   "outputs": [],
   "source": [
    "flights_df =  pd.read_csv(path +'flights_df_clean.csv')"
   ]
  },
  {
   "cell_type": "code",
   "execution_count": 5,
   "metadata": {},
   "outputs": [
    {
     "data": {
      "text/html": [
       "<div>\n",
       "<style scoped>\n",
       "    .dataframe tbody tr th:only-of-type {\n",
       "        vertical-align: middle;\n",
       "    }\n",
       "\n",
       "    .dataframe tbody tr th {\n",
       "        vertical-align: top;\n",
       "    }\n",
       "\n",
       "    .dataframe thead th {\n",
       "        text-align: right;\n",
       "    }\n",
       "</style>\n",
       "<table border=\"1\" class=\"dataframe\">\n",
       "  <thead>\n",
       "    <tr style=\"text-align: right;\">\n",
       "      <th></th>\n",
       "      <th>fl_date</th>\n",
       "      <th>branded_code_share</th>\n",
       "      <th>mkt_carrier</th>\n",
       "      <th>mkt_carrier_fl_num</th>\n",
       "      <th>op_unique_carrier</th>\n",
       "      <th>tail_num</th>\n",
       "      <th>op_carrier_fl_num</th>\n",
       "      <th>origin_airport_id</th>\n",
       "      <th>origin</th>\n",
       "      <th>origin_city_name</th>\n",
       "      <th>...</th>\n",
       "      <th>crs_elapsed_time</th>\n",
       "      <th>actual_elapsed_time</th>\n",
       "      <th>air_time</th>\n",
       "      <th>flights</th>\n",
       "      <th>distance</th>\n",
       "      <th>carrier_delay</th>\n",
       "      <th>weather_delay</th>\n",
       "      <th>nas_delay</th>\n",
       "      <th>security_delay</th>\n",
       "      <th>late_aircraft_delay</th>\n",
       "    </tr>\n",
       "  </thead>\n",
       "  <tbody>\n",
       "    <tr>\n",
       "      <th>0</th>\n",
       "      <td>2018-01-23 00:00:00</td>\n",
       "      <td>UA_CODESHARE</td>\n",
       "      <td>UA</td>\n",
       "      <td>3405</td>\n",
       "      <td>YX</td>\n",
       "      <td>N653RW</td>\n",
       "      <td>3405</td>\n",
       "      <td>10821</td>\n",
       "      <td>BWI</td>\n",
       "      <td>Baltimore, MD</td>\n",
       "      <td>...</td>\n",
       "      <td>75.0</td>\n",
       "      <td>89.0</td>\n",
       "      <td>49.0</td>\n",
       "      <td>1.0</td>\n",
       "      <td>169.0</td>\n",
       "      <td>0.0</td>\n",
       "      <td>0.0</td>\n",
       "      <td>0.0</td>\n",
       "      <td>0.0</td>\n",
       "      <td>0.0</td>\n",
       "    </tr>\n",
       "    <tr>\n",
       "      <th>1</th>\n",
       "      <td>2018-11-15 00:00:00</td>\n",
       "      <td>AA_CODESHARE</td>\n",
       "      <td>AA</td>\n",
       "      <td>5683</td>\n",
       "      <td>OH</td>\n",
       "      <td>N594NN</td>\n",
       "      <td>5683</td>\n",
       "      <td>11057</td>\n",
       "      <td>CLT</td>\n",
       "      <td>Charlotte, NC</td>\n",
       "      <td>...</td>\n",
       "      <td>136.0</td>\n",
       "      <td>122.0</td>\n",
       "      <td>99.0</td>\n",
       "      <td>1.0</td>\n",
       "      <td>640.0</td>\n",
       "      <td>0.0</td>\n",
       "      <td>0.0</td>\n",
       "      <td>0.0</td>\n",
       "      <td>0.0</td>\n",
       "      <td>0.0</td>\n",
       "    </tr>\n",
       "    <tr>\n",
       "      <th>2</th>\n",
       "      <td>2019-10-29 00:00:00</td>\n",
       "      <td>WN</td>\n",
       "      <td>WN</td>\n",
       "      <td>2434</td>\n",
       "      <td>WN</td>\n",
       "      <td>N432WN</td>\n",
       "      <td>2434</td>\n",
       "      <td>12889</td>\n",
       "      <td>LAS</td>\n",
       "      <td>Las Vegas, NV</td>\n",
       "      <td>...</td>\n",
       "      <td>155.0</td>\n",
       "      <td>156.0</td>\n",
       "      <td>139.0</td>\n",
       "      <td>1.0</td>\n",
       "      <td>867.0</td>\n",
       "      <td>0.0</td>\n",
       "      <td>0.0</td>\n",
       "      <td>0.0</td>\n",
       "      <td>0.0</td>\n",
       "      <td>0.0</td>\n",
       "    </tr>\n",
       "    <tr>\n",
       "      <th>3</th>\n",
       "      <td>2019-11-14 00:00:00</td>\n",
       "      <td>B6</td>\n",
       "      <td>B6</td>\n",
       "      <td>577</td>\n",
       "      <td>B6</td>\n",
       "      <td>N968JT</td>\n",
       "      <td>577</td>\n",
       "      <td>11697</td>\n",
       "      <td>FLL</td>\n",
       "      <td>Fort Lauderdale, FL</td>\n",
       "      <td>...</td>\n",
       "      <td>385.0</td>\n",
       "      <td>371.0</td>\n",
       "      <td>346.0</td>\n",
       "      <td>1.0</td>\n",
       "      <td>2584.0</td>\n",
       "      <td>0.0</td>\n",
       "      <td>0.0</td>\n",
       "      <td>0.0</td>\n",
       "      <td>0.0</td>\n",
       "      <td>0.0</td>\n",
       "    </tr>\n",
       "    <tr>\n",
       "      <th>4</th>\n",
       "      <td>2019-05-22 00:00:00</td>\n",
       "      <td>DL_CODESHARE</td>\n",
       "      <td>DL</td>\n",
       "      <td>3762</td>\n",
       "      <td>OO</td>\n",
       "      <td>N8933B</td>\n",
       "      <td>3762</td>\n",
       "      <td>10397</td>\n",
       "      <td>ATL</td>\n",
       "      <td>Atlanta, GA</td>\n",
       "      <td>...</td>\n",
       "      <td>107.0</td>\n",
       "      <td>90.0</td>\n",
       "      <td>73.0</td>\n",
       "      <td>1.0</td>\n",
       "      <td>508.0</td>\n",
       "      <td>0.0</td>\n",
       "      <td>0.0</td>\n",
       "      <td>0.0</td>\n",
       "      <td>0.0</td>\n",
       "      <td>0.0</td>\n",
       "    </tr>\n",
       "  </tbody>\n",
       "</table>\n",
       "<p>5 rows × 35 columns</p>\n",
       "</div>"
      ],
      "text/plain": [
       "               fl_date branded_code_share mkt_carrier  mkt_carrier_fl_num  \\\n",
       "0  2018-01-23 00:00:00       UA_CODESHARE          UA                3405   \n",
       "1  2018-11-15 00:00:00       AA_CODESHARE          AA                5683   \n",
       "2  2019-10-29 00:00:00                 WN          WN                2434   \n",
       "3  2019-11-14 00:00:00                 B6          B6                 577   \n",
       "4  2019-05-22 00:00:00       DL_CODESHARE          DL                3762   \n",
       "\n",
       "  op_unique_carrier tail_num  op_carrier_fl_num  origin_airport_id origin  \\\n",
       "0                YX   N653RW               3405              10821    BWI   \n",
       "1                OH   N594NN               5683              11057    CLT   \n",
       "2                WN   N432WN               2434              12889    LAS   \n",
       "3                B6   N968JT                577              11697    FLL   \n",
       "4                OO   N8933B               3762              10397    ATL   \n",
       "\n",
       "      origin_city_name  ...  crs_elapsed_time actual_elapsed_time air_time  \\\n",
       "0        Baltimore, MD  ...              75.0                89.0     49.0   \n",
       "1        Charlotte, NC  ...             136.0               122.0     99.0   \n",
       "2        Las Vegas, NV  ...             155.0               156.0    139.0   \n",
       "3  Fort Lauderdale, FL  ...             385.0               371.0    346.0   \n",
       "4          Atlanta, GA  ...             107.0                90.0     73.0   \n",
       "\n",
       "  flights distance  carrier_delay  weather_delay nas_delay security_delay  \\\n",
       "0     1.0    169.0            0.0            0.0       0.0            0.0   \n",
       "1     1.0    640.0            0.0            0.0       0.0            0.0   \n",
       "2     1.0    867.0            0.0            0.0       0.0            0.0   \n",
       "3     1.0   2584.0            0.0            0.0       0.0            0.0   \n",
       "4     1.0    508.0            0.0            0.0       0.0            0.0   \n",
       "\n",
       "   late_aircraft_delay  \n",
       "0                  0.0  \n",
       "1                  0.0  \n",
       "2                  0.0  \n",
       "3                  0.0  \n",
       "4                  0.0  \n",
       "\n",
       "[5 rows x 35 columns]"
      ]
     },
     "execution_count": 5,
     "metadata": {},
     "output_type": "execute_result"
    }
   ],
   "source": [
    "flights_df.head()"
   ]
  },
  {
   "cell_type": "code",
   "execution_count": 11,
   "metadata": {},
   "outputs": [],
   "source": [
    "#once again take arr_delay and dep_delay as variables; pick values > 0\n",
    "delays = flights_df[['dep_delay', 'arr_delay']]\n",
    "arr_delays = delays.loc[delays['arr_delay'] > 0]\n",
    "dep_delays = delays.loc[delays['dep_delay'] > 0]"
   ]
  },
  {
   "cell_type": "code",
   "execution_count": 34,
   "metadata": {},
   "outputs": [
    {
     "name": "stdout",
     "output_type": "stream",
     "text": [
      "Probability of arr_delay given dep_delay: 0.7288795686039544\n"
     ]
    }
   ],
   "source": [
    "#Bayes Theorem\n",
    "p_dep_delay = delays.loc[delays['dep_delay'] > 0].shape[0]/(delays.shape[0])\n",
    "p_arr_delay = delays.loc[delays['arr_delay'] > 0].shape[0]/(delays.shape[0])\n",
    "\n",
    "pdep_of_parr = arr_delays.loc[arr_delays['dep_delay'] > 0].shape[0]/arr_delays.shape[0]\n",
    "\n",
    "parr_of_pdep = (pdep_of_parr*p_arr_delay)/(p_dep_delay)\n",
    "\n",
    "print('Probability of arr_delay given dep_delay:',parr_of_pdep)"
   ]
  },
  {
   "cell_type": "code",
   "execution_count": 42,
   "metadata": {},
   "outputs": [],
   "source": [
    "#All dep_delay > 0 and arr_delay > 0, divided by delays where arr_delay > 0, dep_delay >= 0\n",
    "d = delays.loc[(delays['dep_delay'] > 0) & (delays['arr_delay'] > 0)].shape[0]/delays.shape[0]"
   ]
  },
  {
   "cell_type": "code",
   "execution_count": 43,
   "metadata": {},
   "outputs": [
    {
     "name": "stdout",
     "output_type": "stream",
     "text": [
      "Avg % of delays where arrival delay resulted from departure delay: 24.0 %\n"
     ]
    }
   ],
   "source": [
    "print('Avg % of delays where arrival delay resulted from departure delay:', round(d, 2)*100,'%')"
   ]
  },
  {
   "cell_type": "markdown",
   "metadata": {},
   "source": [
    "#### Are airlines able to lower the delay during the flights?"
   ]
  },
  {
   "cell_type": "code",
   "execution_count": 45,
   "metadata": {},
   "outputs": [
    {
     "name": "stdout",
     "output_type": "stream",
     "text": [
      "% of flights that lowered delay time between departure and arrival: 69.0 %\n"
     ]
    }
   ],
   "source": [
    "#Where arr_delay < dep_delay means recovered time in between\n",
    "x = delays.loc[(delays['arr_delay'] < delays['dep_delay'])].shape[0]/delays.shape[0]\n",
    "\n",
    "print('% of flights that lowered delay time between departure and arrival:', round(x, 2)*100, '%')\n",
    "\n",
    "#Most flights are able to lower delay during flights"
   ]
  },
  {
   "cell_type": "code",
   "execution_count": null,
   "metadata": {},
   "outputs": [],
   "source": []
  }
 ],
 "metadata": {
  "kernelspec": {
   "display_name": "Python 3",
   "language": "python",
   "name": "python3"
  },
  "language_info": {
   "codemirror_mode": {
    "name": "ipython",
    "version": 3
   },
   "file_extension": ".py",
   "mimetype": "text/x-python",
   "name": "python",
   "nbconvert_exporter": "python",
   "pygments_lexer": "ipython3",
   "version": "3.7.6"
  }
 },
 "nbformat": 4,
 "nbformat_minor": 4
}
