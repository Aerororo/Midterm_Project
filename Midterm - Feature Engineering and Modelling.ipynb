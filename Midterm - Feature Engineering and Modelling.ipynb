{
 "cells": [
  {
   "cell_type": "code",
   "execution_count": 586,
   "metadata": {},
   "outputs": [],
   "source": [
    "import pandas as pd\n",
    "import numpy as np\n",
    "import seaborn as sns\n",
    "import matplotlib.pyplot as plt\n",
    "from collections import OrderedDict\n",
    "from sklearn import metrics, linear_model\n",
    "from sklearn.metrics import accuracy_score, confusion_matrix, mean_squared_error, classification_report, average_precision_score\n",
    "from sklearn.linear_model import LinearRegression, LogisticRegression, SGDClassifier\n",
    "from sklearn.preprocessing import PolynomialFeatures, StandardScaler\n",
    "from sklearn.preprocessing import LabelEncoder, OneHotEncoder\n",
    "from sklearn.model_selection import train_test_split, cross_val_score, cross_val_predict, StratifiedKFold\n",
    "from sklearn.naive_bayes import MultinomialNB\n",
    "from sklearn.decomposition import PCA\n",
    "from sklearn.svm import SVC\n",
    "from sklearn.ensemble import ExtraTreesClassifier, RandomForestRegressor\n",
    "from sklearn.naive_bayes import GaussianNB\n",
    "import xgboost as xgb\n",
    "import datetime, warnings, scipy "
   ]
  },
  {
   "cell_type": "code",
   "execution_count": 473,
   "metadata": {},
   "outputs": [
    {
     "data": {
      "text/html": [
       "<div>\n",
       "<style scoped>\n",
       "    .dataframe tbody tr th:only-of-type {\n",
       "        vertical-align: middle;\n",
       "    }\n",
       "\n",
       "    .dataframe tbody tr th {\n",
       "        vertical-align: top;\n",
       "    }\n",
       "\n",
       "    .dataframe thead th {\n",
       "        text-align: right;\n",
       "    }\n",
       "</style>\n",
       "<table border=\"1\" class=\"dataframe\">\n",
       "  <thead>\n",
       "    <tr style=\"text-align: right;\">\n",
       "      <th></th>\n",
       "      <th>Unnamed: 0</th>\n",
       "      <th>fl_date</th>\n",
       "      <th>mkt_unique_carrier</th>\n",
       "      <th>branded_code_share</th>\n",
       "      <th>mkt_carrier</th>\n",
       "      <th>mkt_carrier_fl_num</th>\n",
       "      <th>op_unique_carrier</th>\n",
       "      <th>tail_num</th>\n",
       "      <th>op_carrier_fl_num</th>\n",
       "      <th>origin_airport_id</th>\n",
       "      <th>...</th>\n",
       "      <th>distance</th>\n",
       "      <th>carrier_delay</th>\n",
       "      <th>weather_delay</th>\n",
       "      <th>nas_delay</th>\n",
       "      <th>security_delay</th>\n",
       "      <th>late_aircraft_delay</th>\n",
       "      <th>first_dep_time</th>\n",
       "      <th>total_add_gtime</th>\n",
       "      <th>longest_add_gtime</th>\n",
       "      <th>no_name</th>\n",
       "    </tr>\n",
       "  </thead>\n",
       "  <tbody>\n",
       "    <tr>\n",
       "      <th>0</th>\n",
       "      <td>0</td>\n",
       "      <td>2018-01-23</td>\n",
       "      <td>UA</td>\n",
       "      <td>UA_CODESHARE</td>\n",
       "      <td>UA</td>\n",
       "      <td>3405</td>\n",
       "      <td>YX</td>\n",
       "      <td>N653RW</td>\n",
       "      <td>3405</td>\n",
       "      <td>10821</td>\n",
       "      <td>...</td>\n",
       "      <td>169.0</td>\n",
       "      <td>NaN</td>\n",
       "      <td>NaN</td>\n",
       "      <td>NaN</td>\n",
       "      <td>NaN</td>\n",
       "      <td>NaN</td>\n",
       "      <td>NaN</td>\n",
       "      <td>NaN</td>\n",
       "      <td>NaN</td>\n",
       "      <td>NaN</td>\n",
       "    </tr>\n",
       "    <tr>\n",
       "      <th>1</th>\n",
       "      <td>1</td>\n",
       "      <td>2018-11-15</td>\n",
       "      <td>AA</td>\n",
       "      <td>AA_CODESHARE</td>\n",
       "      <td>AA</td>\n",
       "      <td>5683</td>\n",
       "      <td>OH</td>\n",
       "      <td>N594NN</td>\n",
       "      <td>5683</td>\n",
       "      <td>11057</td>\n",
       "      <td>...</td>\n",
       "      <td>640.0</td>\n",
       "      <td>NaN</td>\n",
       "      <td>NaN</td>\n",
       "      <td>NaN</td>\n",
       "      <td>NaN</td>\n",
       "      <td>NaN</td>\n",
       "      <td>NaN</td>\n",
       "      <td>NaN</td>\n",
       "      <td>NaN</td>\n",
       "      <td>NaN</td>\n",
       "    </tr>\n",
       "    <tr>\n",
       "      <th>2</th>\n",
       "      <td>2</td>\n",
       "      <td>2019-10-29</td>\n",
       "      <td>WN</td>\n",
       "      <td>WN</td>\n",
       "      <td>WN</td>\n",
       "      <td>2434</td>\n",
       "      <td>WN</td>\n",
       "      <td>N432WN</td>\n",
       "      <td>2434</td>\n",
       "      <td>12889</td>\n",
       "      <td>...</td>\n",
       "      <td>867.0</td>\n",
       "      <td>NaN</td>\n",
       "      <td>NaN</td>\n",
       "      <td>NaN</td>\n",
       "      <td>NaN</td>\n",
       "      <td>NaN</td>\n",
       "      <td>NaN</td>\n",
       "      <td>NaN</td>\n",
       "      <td>NaN</td>\n",
       "      <td>NaN</td>\n",
       "    </tr>\n",
       "    <tr>\n",
       "      <th>3</th>\n",
       "      <td>3</td>\n",
       "      <td>2019-11-14</td>\n",
       "      <td>B6</td>\n",
       "      <td>B6</td>\n",
       "      <td>B6</td>\n",
       "      <td>577</td>\n",
       "      <td>B6</td>\n",
       "      <td>N968JT</td>\n",
       "      <td>577</td>\n",
       "      <td>11697</td>\n",
       "      <td>...</td>\n",
       "      <td>2584.0</td>\n",
       "      <td>NaN</td>\n",
       "      <td>NaN</td>\n",
       "      <td>NaN</td>\n",
       "      <td>NaN</td>\n",
       "      <td>NaN</td>\n",
       "      <td>NaN</td>\n",
       "      <td>NaN</td>\n",
       "      <td>NaN</td>\n",
       "      <td>NaN</td>\n",
       "    </tr>\n",
       "    <tr>\n",
       "      <th>4</th>\n",
       "      <td>4</td>\n",
       "      <td>2019-05-22</td>\n",
       "      <td>DL</td>\n",
       "      <td>DL_CODESHARE</td>\n",
       "      <td>DL</td>\n",
       "      <td>3762</td>\n",
       "      <td>OO</td>\n",
       "      <td>N8933B</td>\n",
       "      <td>3762</td>\n",
       "      <td>10397</td>\n",
       "      <td>...</td>\n",
       "      <td>508.0</td>\n",
       "      <td>NaN</td>\n",
       "      <td>NaN</td>\n",
       "      <td>NaN</td>\n",
       "      <td>NaN</td>\n",
       "      <td>NaN</td>\n",
       "      <td>NaN</td>\n",
       "      <td>NaN</td>\n",
       "      <td>NaN</td>\n",
       "      <td>NaN</td>\n",
       "    </tr>\n",
       "  </tbody>\n",
       "</table>\n",
       "<p>5 rows × 43 columns</p>\n",
       "</div>"
      ],
      "text/plain": [
       "   Unnamed: 0    fl_date mkt_unique_carrier branded_code_share mkt_carrier  \\\n",
       "0           0 2018-01-23                 UA       UA_CODESHARE          UA   \n",
       "1           1 2018-11-15                 AA       AA_CODESHARE          AA   \n",
       "2           2 2019-10-29                 WN                 WN          WN   \n",
       "3           3 2019-11-14                 B6                 B6          B6   \n",
       "4           4 2019-05-22                 DL       DL_CODESHARE          DL   \n",
       "\n",
       "   mkt_carrier_fl_num op_unique_carrier tail_num  op_carrier_fl_num  \\\n",
       "0                3405                YX   N653RW               3405   \n",
       "1                5683                OH   N594NN               5683   \n",
       "2                2434                WN   N432WN               2434   \n",
       "3                 577                B6   N968JT                577   \n",
       "4                3762                OO   N8933B               3762   \n",
       "\n",
       "   origin_airport_id  ... distance carrier_delay  weather_delay nas_delay  \\\n",
       "0              10821  ...    169.0           NaN            NaN       NaN   \n",
       "1              11057  ...    640.0           NaN            NaN       NaN   \n",
       "2              12889  ...    867.0           NaN            NaN       NaN   \n",
       "3              11697  ...   2584.0           NaN            NaN       NaN   \n",
       "4              10397  ...    508.0           NaN            NaN       NaN   \n",
       "\n",
       "  security_delay  late_aircraft_delay  first_dep_time  total_add_gtime  \\\n",
       "0            NaN                  NaN             NaN              NaN   \n",
       "1            NaN                  NaN             NaN              NaN   \n",
       "2            NaN                  NaN             NaN              NaN   \n",
       "3            NaN                  NaN             NaN              NaN   \n",
       "4            NaN                  NaN             NaN              NaN   \n",
       "\n",
       "   longest_add_gtime  no_name  \n",
       "0                NaN      NaN  \n",
       "1                NaN      NaN  \n",
       "2                NaN      NaN  \n",
       "3                NaN      NaN  \n",
       "4                NaN      NaN  \n",
       "\n",
       "[5 rows x 43 columns]"
      ]
     },
     "execution_count": 473,
     "metadata": {},
     "output_type": "execute_result"
    }
   ],
   "source": [
    "path = '/home/jewelle/data_bootcamp/'\n",
    "flights_df =  pd.read_csv(path +'flights_sub.csv', parse_dates=['fl_date'])\n",
    "flights_df.head()"
   ]
  },
  {
   "cell_type": "code",
   "execution_count": 474,
   "metadata": {},
   "outputs": [],
   "source": [
    "flights_df.drop(['Unnamed: 0', 'mkt_unique_carrier', 'dup', 'no_name'], axis=1, inplace=True)"
   ]
  },
  {
   "cell_type": "code",
   "execution_count": 475,
   "metadata": {},
   "outputs": [
    {
     "data": {
      "text/html": [
       "<div>\n",
       "<style scoped>\n",
       "    .dataframe tbody tr th:only-of-type {\n",
       "        vertical-align: middle;\n",
       "    }\n",
       "\n",
       "    .dataframe tbody tr th {\n",
       "        vertical-align: top;\n",
       "    }\n",
       "\n",
       "    .dataframe thead th {\n",
       "        text-align: right;\n",
       "    }\n",
       "</style>\n",
       "<table border=\"1\" class=\"dataframe\">\n",
       "  <thead>\n",
       "    <tr style=\"text-align: right;\">\n",
       "      <th></th>\n",
       "      <th>Total</th>\n",
       "      <th>Percent</th>\n",
       "    </tr>\n",
       "  </thead>\n",
       "  <tbody>\n",
       "    <tr>\n",
       "      <th>longest_add_gtime</th>\n",
       "      <td>9928</td>\n",
       "      <td>0.9928</td>\n",
       "    </tr>\n",
       "    <tr>\n",
       "      <th>first_dep_time</th>\n",
       "      <td>9928</td>\n",
       "      <td>0.9928</td>\n",
       "    </tr>\n",
       "    <tr>\n",
       "      <th>total_add_gtime</th>\n",
       "      <td>9928</td>\n",
       "      <td>0.9928</td>\n",
       "    </tr>\n",
       "    <tr>\n",
       "      <th>cancellation_code</th>\n",
       "      <td>9828</td>\n",
       "      <td>0.9828</td>\n",
       "    </tr>\n",
       "    <tr>\n",
       "      <th>late_aircraft_delay</th>\n",
       "      <td>8140</td>\n",
       "      <td>0.8140</td>\n",
       "    </tr>\n",
       "  </tbody>\n",
       "</table>\n",
       "</div>"
      ],
      "text/plain": [
       "                     Total  Percent\n",
       "longest_add_gtime     9928   0.9928\n",
       "first_dep_time        9928   0.9928\n",
       "total_add_gtime       9928   0.9928\n",
       "cancellation_code     9828   0.9828\n",
       "late_aircraft_delay   8140   0.8140"
      ]
     },
     "execution_count": 475,
     "metadata": {},
     "output_type": "execute_result"
    }
   ],
   "source": [
    "#check for missing values\n",
    "total = flights_df.isnull().sum().sort_values(ascending=False)\n",
    "percent = (flights_df.isnull().sum()/flights_df.isnull().count()).sort_values(ascending=False)\n",
    "missing_data = pd.concat([total, percent], axis=1, keys=['Total', 'Percent'])\n",
    "missing_data.head()"
   ]
  },
  {
   "cell_type": "code",
   "execution_count": 476,
   "metadata": {},
   "outputs": [],
   "source": [
    "#drop columns with mostly missing data\n",
    "drop_columns = missing_data[missing_data['Percent'] > 0.82].index.tolist()\n",
    "flights_df.drop(drop_columns, axis=1, inplace=True)"
   ]
  },
  {
   "cell_type": "code",
   "execution_count": 477,
   "metadata": {},
   "outputs": [],
   "source": [
    "flights_df.dropna(subset=['air_time', 'actual_elapsed_time', 'taxi_in', 'taxi_out'], inplace=True)"
   ]
  },
  {
   "cell_type": "code",
   "execution_count": 478,
   "metadata": {},
   "outputs": [],
   "source": [
    "float_cols = flights_df.columns[flights_df.dtypes=='float64']\n",
    "flights_df[float_cols] = flights_df[float_cols].fillna('0.0')\n",
    "flights_df.fillna(0,inplace=True)"
   ]
  },
  {
   "cell_type": "code",
   "execution_count": 479,
   "metadata": {},
   "outputs": [],
   "source": [
    "flights_df[['carrier_delay', 'weather_delay', 'nas_delay', 'security_delay',\n",
    "            'late_aircraft_delay', 'arr_delay', 'dep_delay']] = flights_df[['carrier_delay', 'weather_delay', \n",
    "                                                                            'nas_delay', 'security_delay', \n",
    "                                                                            'late_aircraft_delay', 'arr_delay', \n",
    "                                                                            'dep_delay']].apply(pd.to_numeric)"
   ]
  },
  {
   "cell_type": "code",
   "execution_count": 480,
   "metadata": {},
   "outputs": [
    {
     "data": {
      "text/html": [
       "<div>\n",
       "<style scoped>\n",
       "    .dataframe tbody tr th:only-of-type {\n",
       "        vertical-align: middle;\n",
       "    }\n",
       "\n",
       "    .dataframe tbody tr th {\n",
       "        vertical-align: top;\n",
       "    }\n",
       "\n",
       "    .dataframe thead th {\n",
       "        text-align: right;\n",
       "    }\n",
       "</style>\n",
       "<table border=\"1\" class=\"dataframe\">\n",
       "  <thead>\n",
       "    <tr style=\"text-align: right;\">\n",
       "      <th></th>\n",
       "      <th>fl_date</th>\n",
       "      <th>branded_code_share</th>\n",
       "      <th>mkt_carrier</th>\n",
       "      <th>mkt_carrier_fl_num</th>\n",
       "      <th>op_unique_carrier</th>\n",
       "      <th>tail_num</th>\n",
       "      <th>op_carrier_fl_num</th>\n",
       "      <th>origin_airport_id</th>\n",
       "      <th>origin</th>\n",
       "      <th>origin_city_name</th>\n",
       "      <th>...</th>\n",
       "      <th>crs_elapsed_time</th>\n",
       "      <th>actual_elapsed_time</th>\n",
       "      <th>air_time</th>\n",
       "      <th>flights</th>\n",
       "      <th>distance</th>\n",
       "      <th>carrier_delay</th>\n",
       "      <th>weather_delay</th>\n",
       "      <th>nas_delay</th>\n",
       "      <th>security_delay</th>\n",
       "      <th>late_aircraft_delay</th>\n",
       "    </tr>\n",
       "  </thead>\n",
       "  <tbody>\n",
       "    <tr>\n",
       "      <th>0</th>\n",
       "      <td>2018-01-23</td>\n",
       "      <td>UA_CODESHARE</td>\n",
       "      <td>UA</td>\n",
       "      <td>3405</td>\n",
       "      <td>YX</td>\n",
       "      <td>N653RW</td>\n",
       "      <td>3405</td>\n",
       "      <td>10821</td>\n",
       "      <td>BWI</td>\n",
       "      <td>Baltimore, MD</td>\n",
       "      <td>...</td>\n",
       "      <td>75.0</td>\n",
       "      <td>89.0</td>\n",
       "      <td>49.0</td>\n",
       "      <td>1.0</td>\n",
       "      <td>169.0</td>\n",
       "      <td>0.0</td>\n",
       "      <td>0.0</td>\n",
       "      <td>0.0</td>\n",
       "      <td>0.0</td>\n",
       "      <td>0.0</td>\n",
       "    </tr>\n",
       "    <tr>\n",
       "      <th>1</th>\n",
       "      <td>2018-11-15</td>\n",
       "      <td>AA_CODESHARE</td>\n",
       "      <td>AA</td>\n",
       "      <td>5683</td>\n",
       "      <td>OH</td>\n",
       "      <td>N594NN</td>\n",
       "      <td>5683</td>\n",
       "      <td>11057</td>\n",
       "      <td>CLT</td>\n",
       "      <td>Charlotte, NC</td>\n",
       "      <td>...</td>\n",
       "      <td>136.0</td>\n",
       "      <td>122.0</td>\n",
       "      <td>99.0</td>\n",
       "      <td>1.0</td>\n",
       "      <td>640.0</td>\n",
       "      <td>0.0</td>\n",
       "      <td>0.0</td>\n",
       "      <td>0.0</td>\n",
       "      <td>0.0</td>\n",
       "      <td>0.0</td>\n",
       "    </tr>\n",
       "    <tr>\n",
       "      <th>2</th>\n",
       "      <td>2019-10-29</td>\n",
       "      <td>WN</td>\n",
       "      <td>WN</td>\n",
       "      <td>2434</td>\n",
       "      <td>WN</td>\n",
       "      <td>N432WN</td>\n",
       "      <td>2434</td>\n",
       "      <td>12889</td>\n",
       "      <td>LAS</td>\n",
       "      <td>Las Vegas, NV</td>\n",
       "      <td>...</td>\n",
       "      <td>155.0</td>\n",
       "      <td>156.0</td>\n",
       "      <td>139.0</td>\n",
       "      <td>1.0</td>\n",
       "      <td>867.0</td>\n",
       "      <td>0.0</td>\n",
       "      <td>0.0</td>\n",
       "      <td>0.0</td>\n",
       "      <td>0.0</td>\n",
       "      <td>0.0</td>\n",
       "    </tr>\n",
       "    <tr>\n",
       "      <th>3</th>\n",
       "      <td>2019-11-14</td>\n",
       "      <td>B6</td>\n",
       "      <td>B6</td>\n",
       "      <td>577</td>\n",
       "      <td>B6</td>\n",
       "      <td>N968JT</td>\n",
       "      <td>577</td>\n",
       "      <td>11697</td>\n",
       "      <td>FLL</td>\n",
       "      <td>Fort Lauderdale, FL</td>\n",
       "      <td>...</td>\n",
       "      <td>385.0</td>\n",
       "      <td>371.0</td>\n",
       "      <td>346.0</td>\n",
       "      <td>1.0</td>\n",
       "      <td>2584.0</td>\n",
       "      <td>0.0</td>\n",
       "      <td>0.0</td>\n",
       "      <td>0.0</td>\n",
       "      <td>0.0</td>\n",
       "      <td>0.0</td>\n",
       "    </tr>\n",
       "    <tr>\n",
       "      <th>4</th>\n",
       "      <td>2019-05-22</td>\n",
       "      <td>DL_CODESHARE</td>\n",
       "      <td>DL</td>\n",
       "      <td>3762</td>\n",
       "      <td>OO</td>\n",
       "      <td>N8933B</td>\n",
       "      <td>3762</td>\n",
       "      <td>10397</td>\n",
       "      <td>ATL</td>\n",
       "      <td>Atlanta, GA</td>\n",
       "      <td>...</td>\n",
       "      <td>107.0</td>\n",
       "      <td>90.0</td>\n",
       "      <td>73.0</td>\n",
       "      <td>1.0</td>\n",
       "      <td>508.0</td>\n",
       "      <td>0.0</td>\n",
       "      <td>0.0</td>\n",
       "      <td>0.0</td>\n",
       "      <td>0.0</td>\n",
       "      <td>0.0</td>\n",
       "    </tr>\n",
       "  </tbody>\n",
       "</table>\n",
       "<p>5 rows × 35 columns</p>\n",
       "</div>"
      ],
      "text/plain": [
       "     fl_date branded_code_share mkt_carrier  mkt_carrier_fl_num  \\\n",
       "0 2018-01-23       UA_CODESHARE          UA                3405   \n",
       "1 2018-11-15       AA_CODESHARE          AA                5683   \n",
       "2 2019-10-29                 WN          WN                2434   \n",
       "3 2019-11-14                 B6          B6                 577   \n",
       "4 2019-05-22       DL_CODESHARE          DL                3762   \n",
       "\n",
       "  op_unique_carrier tail_num  op_carrier_fl_num  origin_airport_id origin  \\\n",
       "0                YX   N653RW               3405              10821    BWI   \n",
       "1                OH   N594NN               5683              11057    CLT   \n",
       "2                WN   N432WN               2434              12889    LAS   \n",
       "3                B6   N968JT                577              11697    FLL   \n",
       "4                OO   N8933B               3762              10397    ATL   \n",
       "\n",
       "      origin_city_name  ...  crs_elapsed_time actual_elapsed_time air_time  \\\n",
       "0        Baltimore, MD  ...              75.0                89.0     49.0   \n",
       "1        Charlotte, NC  ...             136.0               122.0     99.0   \n",
       "2        Las Vegas, NV  ...             155.0               156.0    139.0   \n",
       "3  Fort Lauderdale, FL  ...             385.0               371.0    346.0   \n",
       "4          Atlanta, GA  ...             107.0                90.0     73.0   \n",
       "\n",
       "   flights  distance  carrier_delay  weather_delay  nas_delay  security_delay  \\\n",
       "0      1.0     169.0            0.0            0.0        0.0             0.0   \n",
       "1      1.0     640.0            0.0            0.0        0.0             0.0   \n",
       "2      1.0     867.0            0.0            0.0        0.0             0.0   \n",
       "3      1.0    2584.0            0.0            0.0        0.0             0.0   \n",
       "4      1.0     508.0            0.0            0.0        0.0             0.0   \n",
       "\n",
       "   late_aircraft_delay  \n",
       "0                  0.0  \n",
       "1                  0.0  \n",
       "2                  0.0  \n",
       "3                  0.0  \n",
       "4                  0.0  \n",
       "\n",
       "[5 rows x 35 columns]"
      ]
     },
     "execution_count": 480,
     "metadata": {},
     "output_type": "execute_result"
    }
   ],
   "source": [
    "flights_df.head()"
   ]
  },
  {
   "cell_type": "markdown",
   "metadata": {},
   "source": [
    "#### Feature Engineering"
   ]
  },
  {
   "cell_type": "markdown",
   "metadata": {},
   "source": [
    "* weather: we can use some weather API to look for the weather in time of the scheduled departure and scheduled arrival.\n",
    "* statistics (avg, mean, median, std, min, max...): we can take a look at previous delays and compute descriptive statistics\n",
    "* airports encoding: we need to think about what to do with the airports and other categorical variables\n",
    "* time of the day: the delay probably depends on the airport traffic which varies during the day.\n",
    "* airport traffic\n",
    "* unsupervised learning as feature engineering?\n",
    "\n",
    "what are the additional options?: Think about what we could do more to improve the model."
   ]
  },
  {
   "cell_type": "code",
   "execution_count": null,
   "metadata": {},
   "outputs": [],
   "source": [
    "#sns.heatmap(flights_df, xticklabels=flights_df.columns, yticklabels=flights_df.columns, annot=True)"
   ]
  },
  {
   "cell_type": "code",
   "execution_count": 481,
   "metadata": {},
   "outputs": [],
   "source": [
    "flights_df['delayed'] = flights_df['arr_delay'].apply(lambda x: x > 0)\n",
    "flights_df['delayed'] = flights_df['delayed'].astype(int)"
   ]
  },
  {
   "cell_type": "code",
   "execution_count": 482,
   "metadata": {},
   "outputs": [],
   "source": [
    "dt_col = ['crs_dep_time', 'dep_time', 'crs_arr_time', 'arr_time', 'wheels_off', 'wheels_on']"
   ]
  },
  {
   "cell_type": "code",
   "execution_count": 483,
   "metadata": {},
   "outputs": [],
   "source": [
    "def convert_time(x):\n",
    "    if np.isnan(x):\n",
    "        return '00:00'\n",
    "    \n",
    "    if x == 2400:\n",
    "        return '23:59'   \n",
    "    string = str(int(x))\n",
    "    \n",
    "    if len(string)< 4:\n",
    "        for _ in range(4-len(string)):\n",
    "            string = '0' + string\n",
    "    \n",
    "    return string[:2] + ':' + string[2:]"
   ]
  },
  {
   "cell_type": "code",
   "execution_count": 484,
   "metadata": {},
   "outputs": [],
   "source": [
    "#run convert_time\n",
    "flights_df['crs_dep_time'] = flights_df['crs_dep_time'].apply(lambda x: convert_time(x))\n",
    "flights_df['crs_dep_time'] = pd.to_datetime(flights_df['crs_dep_time'], format = '%H:%M')\n",
    "\n",
    "flights_df['dep_time'] = flights_df['dep_time'].apply(lambda x: convert_time(x))\n",
    "flights_df['dep_time'] = pd.to_datetime(flights_df['dep_time'], format = '%H:%M')\n",
    "flights_df['dep_hour'] = flights_df['dep_time'].dt.hour\n",
    "\n",
    "flights_df['crs_arr_time'] = flights_df['crs_arr_time'].apply(lambda x: convert_time(x))\n",
    "flights_df['crs_arr_time'] = pd.to_datetime(flights_df['crs_arr_time'], format = '%H:%M')\n",
    "\n",
    "flights_df['arr_time'] = flights_df['arr_time'].apply(lambda x: convert_time(x))\n",
    "flights_df['arr_time'] = pd.to_datetime(flights_df['arr_time'], format = '%H:%M')\n",
    "flights_df['arr_hour'] = flights_df['arr_time'].dt.hour\n",
    "\n",
    "flights_df['wheels_off'] = flights_df['wheels_off'].apply(lambda x: convert_time(x))\n",
    "flights_df['wheels_off'] = pd.to_datetime(flights_df['wheels_off'], format = '%H:%M')\n",
    "\n",
    "flights_df['wheels_on'] = flights_df['wheels_on'].apply(lambda x: convert_time(x))\n",
    "flights_df['wheels_on'] = pd.to_datetime(flights_df['wheels_on'], format = '%H:%M')"
   ]
  },
  {
   "cell_type": "code",
   "execution_count": 485,
   "metadata": {},
   "outputs": [],
   "source": [
    "def haul_distance(x):\n",
    "    if x < 2600:\n",
    "        return 'SHORT'\n",
    "    elif x >= 2600 and x < 3000:\n",
    "        return 'MEDIUM'\n",
    "    elif x >= 3000:\n",
    "        return 'LONG'"
   ]
  },
  {
   "cell_type": "code",
   "execution_count": 486,
   "metadata": {},
   "outputs": [],
   "source": [
    "flights_df['haul'] = flights_df['distance'].apply(lambda x: haul_distance(x))"
   ]
  },
  {
   "cell_type": "code",
   "execution_count": 487,
   "metadata": {},
   "outputs": [],
   "source": [
    "flights_df['month'] = flights_df['fl_date'].dt.month"
   ]
  },
  {
   "cell_type": "code",
   "execution_count": 488,
   "metadata": {},
   "outputs": [],
   "source": [
    "flights_df[\"season\"] = \"winter\"\n",
    "flights_df.loc[flights_df[\"month\"].between(3,5), \"season\"] = \"spring\"\n",
    "flights_df.loc[flights_df[\"month\"].between(6,8), \"season\"] = \"summer\"\n",
    "flights_df.loc[flights_df[\"month\"].between(9,11), \"season\"] = \"autumn\""
   ]
  },
  {
   "cell_type": "code",
   "execution_count": 489,
   "metadata": {},
   "outputs": [],
   "source": [
    "flights_df[\"dep_time_of_the_day\"] = \"night\"\n",
    "flights_df.loc[flights_df[\"dep_hour\"].between(6,11), \"dep_time_of_the_day\"] = \"morning\"\n",
    "flights_df.loc[flights_df[\"dep_hour\"].between(12,17), \"dep_time_of_the_day\"] = \"afternoon\"\n",
    "flights_df.loc[flights_df[\"dep_hour\"].between(18,21), \"dep_time_of_the_day\"] = \"evening\""
   ]
  },
  {
   "cell_type": "code",
   "execution_count": 514,
   "metadata": {},
   "outputs": [
    {
     "data": {
      "text/html": [
       "<div>\n",
       "<style scoped>\n",
       "    .dataframe tbody tr th:only-of-type {\n",
       "        vertical-align: middle;\n",
       "    }\n",
       "\n",
       "    .dataframe tbody tr th {\n",
       "        vertical-align: top;\n",
       "    }\n",
       "\n",
       "    .dataframe thead th {\n",
       "        text-align: right;\n",
       "    }\n",
       "</style>\n",
       "<table border=\"1\" class=\"dataframe\">\n",
       "  <thead>\n",
       "    <tr style=\"text-align: right;\">\n",
       "      <th></th>\n",
       "    </tr>\n",
       "  </thead>\n",
       "  <tbody>\n",
       "    <tr>\n",
       "      <th>0</th>\n",
       "    </tr>\n",
       "    <tr>\n",
       "      <th>1</th>\n",
       "    </tr>\n",
       "    <tr>\n",
       "      <th>2</th>\n",
       "    </tr>\n",
       "    <tr>\n",
       "      <th>3</th>\n",
       "    </tr>\n",
       "    <tr>\n",
       "      <th>4</th>\n",
       "    </tr>\n",
       "    <tr>\n",
       "      <th>...</th>\n",
       "    </tr>\n",
       "    <tr>\n",
       "      <th>9994</th>\n",
       "    </tr>\n",
       "    <tr>\n",
       "      <th>9995</th>\n",
       "    </tr>\n",
       "    <tr>\n",
       "      <th>9996</th>\n",
       "    </tr>\n",
       "    <tr>\n",
       "      <th>9998</th>\n",
       "    </tr>\n",
       "    <tr>\n",
       "      <th>9999</th>\n",
       "    </tr>\n",
       "  </tbody>\n",
       "</table>\n",
       "<p>9796 rows × 0 columns</p>\n",
       "</div>"
      ],
      "text/plain": [
       "Empty DataFrame\n",
       "Columns: []\n",
       "Index: [0, 1, 2, 3, 4, 5, 6, 7, 8, 9, 10, 11, 12, 13, 14, 15, 16, 17, 18, 19, 20, 21, 22, 23, 24, 25, 26, 27, 28, 29, 30, 31, 32, 33, 34, 35, 36, 37, 38, 39, 40, 41, 42, 43, 44, 45, 46, 47, 48, 49, 50, 51, 52, 53, 54, 55, 56, 57, 58, 60, 61, 62, 63, 64, 65, 66, 67, 68, 69, 70, 71, 72, 73, 74, 75, 76, 77, 78, 79, 80, 81, 82, 83, 84, 85, 86, 87, 88, 89, 90, 91, 92, 93, 94, 95, 96, 97, 98, 99, 100, ...]\n",
       "\n",
       "[9796 rows x 0 columns]"
      ]
     },
     "execution_count": 514,
     "metadata": {},
     "output_type": "execute_result"
    }
   ],
   "source": [
    "flights_df.select_dtypes(include=['object'])"
   ]
  },
  {
   "cell_type": "code",
   "execution_count": 491,
   "metadata": {},
   "outputs": [
    {
     "data": {
      "text/html": [
       "<div>\n",
       "<style scoped>\n",
       "    .dataframe tbody tr th:only-of-type {\n",
       "        vertical-align: middle;\n",
       "    }\n",
       "\n",
       "    .dataframe tbody tr th {\n",
       "        vertical-align: top;\n",
       "    }\n",
       "\n",
       "    .dataframe thead th {\n",
       "        text-align: right;\n",
       "    }\n",
       "</style>\n",
       "<table border=\"1\" class=\"dataframe\">\n",
       "  <thead>\n",
       "    <tr style=\"text-align: right;\">\n",
       "      <th></th>\n",
       "      <th>origin</th>\n",
       "      <th>origin_code</th>\n",
       "    </tr>\n",
       "  </thead>\n",
       "  <tbody>\n",
       "    <tr>\n",
       "      <th>0</th>\n",
       "      <td>BWI</td>\n",
       "      <td>46</td>\n",
       "    </tr>\n",
       "    <tr>\n",
       "      <th>1</th>\n",
       "      <td>CLT</td>\n",
       "      <td>58</td>\n",
       "    </tr>\n",
       "    <tr>\n",
       "      <th>2</th>\n",
       "      <td>LAS</td>\n",
       "      <td>158</td>\n",
       "    </tr>\n",
       "    <tr>\n",
       "      <th>3</th>\n",
       "      <td>FLL</td>\n",
       "      <td>107</td>\n",
       "    </tr>\n",
       "    <tr>\n",
       "      <th>4</th>\n",
       "      <td>ATL</td>\n",
       "      <td>16</td>\n",
       "    </tr>\n",
       "  </tbody>\n",
       "</table>\n",
       "</div>"
      ],
      "text/plain": [
       "  origin  origin_code\n",
       "0    BWI           46\n",
       "1    CLT           58\n",
       "2    LAS          158\n",
       "3    FLL          107\n",
       "4    ATL           16"
      ]
     },
     "execution_count": 491,
     "metadata": {},
     "output_type": "execute_result"
    }
   ],
   "source": [
    "#Try label encoding?\n",
    "lb_make = LabelEncoder()\n",
    "flights_df[\"dest_code\"] = lb_make.fit_transform(flights_df[\"dest\"])\n",
    "flights_df[[\"dest\", \"dest_code\"]].head()\n",
    "\n",
    "flights_df[\"carrier_code\"] = lb_make.fit_transform(flights_df[\"mkt_carrier\"])\n",
    "flights_df[[\"mkt_carrier\", \"carrier_code\"]].head()\n",
    "\n",
    "flights_df['unique_carrier_code'] = lb_make.fit_transform(flights_df['op_unique_carrier'])\n",
    "flights_df[['op_unique_carrier', 'unique_carrier_code']].head()\n",
    "\n",
    "flights_df['origin_code'] = lb_make.fit_transform(flights_df['origin'])\n",
    "flights_df[['origin', 'origin_code']].head()"
   ]
  },
  {
   "cell_type": "code",
   "execution_count": 494,
   "metadata": {},
   "outputs": [],
   "source": [
    "#one-hot encoding\n",
    "cat_cols = ['haul', 'season', 'dep_time_of_the_day']\n",
    "df_cat = pd.get_dummies(flights_df[cat_cols])"
   ]
  },
  {
   "cell_type": "code",
   "execution_count": 495,
   "metadata": {},
   "outputs": [],
   "source": [
    "flights_df = pd.concat([flights_df, df_cat], axis=1)"
   ]
  },
  {
   "cell_type": "code",
   "execution_count": 496,
   "metadata": {},
   "outputs": [],
   "source": [
    "#drop remaining unused columns\n",
    "flights_df.drop(['branded_code_share','tail_num', 'origin_city_name', 'dest_city_name', 'taxi_in', 'taxi_out', 'diverted'], axis=1, inplace=True)"
   ]
  },
  {
   "cell_type": "code",
   "execution_count": 497,
   "metadata": {},
   "outputs": [
    {
     "data": {
      "text/html": [
       "<div>\n",
       "<style scoped>\n",
       "    .dataframe tbody tr th:only-of-type {\n",
       "        vertical-align: middle;\n",
       "    }\n",
       "\n",
       "    .dataframe tbody tr th {\n",
       "        vertical-align: top;\n",
       "    }\n",
       "\n",
       "    .dataframe thead th {\n",
       "        text-align: right;\n",
       "    }\n",
       "</style>\n",
       "<table border=\"1\" class=\"dataframe\">\n",
       "  <thead>\n",
       "    <tr style=\"text-align: right;\">\n",
       "      <th></th>\n",
       "      <th>mkt_carrier_fl_num</th>\n",
       "      <th>op_carrier_fl_num</th>\n",
       "      <th>origin_airport_id</th>\n",
       "      <th>dest_airport_id</th>\n",
       "      <th>dep_delay</th>\n",
       "      <th>arr_delay</th>\n",
       "      <th>cancelled</th>\n",
       "      <th>crs_elapsed_time</th>\n",
       "      <th>actual_elapsed_time</th>\n",
       "      <th>air_time</th>\n",
       "      <th>...</th>\n",
       "      <th>haul_MEDIUM</th>\n",
       "      <th>haul_SHORT</th>\n",
       "      <th>season_autumn</th>\n",
       "      <th>season_spring</th>\n",
       "      <th>season_summer</th>\n",
       "      <th>season_winter</th>\n",
       "      <th>dep_time_of_the_day_afternoon</th>\n",
       "      <th>dep_time_of_the_day_evening</th>\n",
       "      <th>dep_time_of_the_day_morning</th>\n",
       "      <th>dep_time_of_the_day_night</th>\n",
       "    </tr>\n",
       "  </thead>\n",
       "  <tbody>\n",
       "    <tr>\n",
       "      <th>count</th>\n",
       "      <td>9796.000000</td>\n",
       "      <td>9796.000000</td>\n",
       "      <td>9796.000000</td>\n",
       "      <td>9796.000000</td>\n",
       "      <td>9796.000000</td>\n",
       "      <td>9796.000000</td>\n",
       "      <td>9796.0</td>\n",
       "      <td>9796.000000</td>\n",
       "      <td>9796.000000</td>\n",
       "      <td>9796.000000</td>\n",
       "      <td>...</td>\n",
       "      <td>9796.000000</td>\n",
       "      <td>9796.000000</td>\n",
       "      <td>9796.000000</td>\n",
       "      <td>9796.000000</td>\n",
       "      <td>9796.000000</td>\n",
       "      <td>9796.000000</td>\n",
       "      <td>9796.000000</td>\n",
       "      <td>9796.000000</td>\n",
       "      <td>9796.000000</td>\n",
       "      <td>9796.000000</td>\n",
       "    </tr>\n",
       "    <tr>\n",
       "      <th>mean</th>\n",
       "      <td>2742.266946</td>\n",
       "      <td>2742.170682</td>\n",
       "      <td>12697.933953</td>\n",
       "      <td>12694.789098</td>\n",
       "      <td>11.519192</td>\n",
       "      <td>6.571458</td>\n",
       "      <td>0.0</td>\n",
       "      <td>138.490710</td>\n",
       "      <td>133.542977</td>\n",
       "      <td>108.349633</td>\n",
       "      <td>...</td>\n",
       "      <td>0.007248</td>\n",
       "      <td>0.991833</td>\n",
       "      <td>0.244181</td>\n",
       "      <td>0.261739</td>\n",
       "      <td>0.262760</td>\n",
       "      <td>0.231319</td>\n",
       "      <td>0.349530</td>\n",
       "      <td>0.201511</td>\n",
       "      <td>0.363618</td>\n",
       "      <td>0.085341</td>\n",
       "    </tr>\n",
       "    <tr>\n",
       "      <th>std</th>\n",
       "      <td>1877.928588</td>\n",
       "      <td>1877.879666</td>\n",
       "      <td>1531.991851</td>\n",
       "      <td>1524.609721</td>\n",
       "      <td>55.213045</td>\n",
       "      <td>57.336280</td>\n",
       "      <td>0.0</td>\n",
       "      <td>71.256475</td>\n",
       "      <td>71.020837</td>\n",
       "      <td>69.223201</td>\n",
       "      <td>...</td>\n",
       "      <td>0.084830</td>\n",
       "      <td>0.090004</td>\n",
       "      <td>0.429623</td>\n",
       "      <td>0.439604</td>\n",
       "      <td>0.440156</td>\n",
       "      <td>0.421697</td>\n",
       "      <td>0.476846</td>\n",
       "      <td>0.401149</td>\n",
       "      <td>0.481065</td>\n",
       "      <td>0.279403</td>\n",
       "    </tr>\n",
       "    <tr>\n",
       "      <th>min</th>\n",
       "      <td>1.000000</td>\n",
       "      <td>1.000000</td>\n",
       "      <td>10135.000000</td>\n",
       "      <td>10135.000000</td>\n",
       "      <td>-25.000000</td>\n",
       "      <td>-69.000000</td>\n",
       "      <td>0.0</td>\n",
       "      <td>24.000000</td>\n",
       "      <td>27.000000</td>\n",
       "      <td>11.000000</td>\n",
       "      <td>...</td>\n",
       "      <td>0.000000</td>\n",
       "      <td>0.000000</td>\n",
       "      <td>0.000000</td>\n",
       "      <td>0.000000</td>\n",
       "      <td>0.000000</td>\n",
       "      <td>0.000000</td>\n",
       "      <td>0.000000</td>\n",
       "      <td>0.000000</td>\n",
       "      <td>0.000000</td>\n",
       "      <td>0.000000</td>\n",
       "    </tr>\n",
       "    <tr>\n",
       "      <th>25%</th>\n",
       "      <td>1108.750000</td>\n",
       "      <td>1108.750000</td>\n",
       "      <td>11292.000000</td>\n",
       "      <td>11292.000000</td>\n",
       "      <td>-6.000000</td>\n",
       "      <td>-15.000000</td>\n",
       "      <td>0.0</td>\n",
       "      <td>87.000000</td>\n",
       "      <td>82.000000</td>\n",
       "      <td>58.000000</td>\n",
       "      <td>...</td>\n",
       "      <td>0.000000</td>\n",
       "      <td>1.000000</td>\n",
       "      <td>0.000000</td>\n",
       "      <td>0.000000</td>\n",
       "      <td>0.000000</td>\n",
       "      <td>0.000000</td>\n",
       "      <td>0.000000</td>\n",
       "      <td>0.000000</td>\n",
       "      <td>0.000000</td>\n",
       "      <td>0.000000</td>\n",
       "    </tr>\n",
       "    <tr>\n",
       "      <th>50%</th>\n",
       "      <td>2308.000000</td>\n",
       "      <td>2308.000000</td>\n",
       "      <td>12889.000000</td>\n",
       "      <td>12889.000000</td>\n",
       "      <td>-2.000000</td>\n",
       "      <td>-6.000000</td>\n",
       "      <td>0.0</td>\n",
       "      <td>120.000000</td>\n",
       "      <td>115.000000</td>\n",
       "      <td>89.000000</td>\n",
       "      <td>...</td>\n",
       "      <td>0.000000</td>\n",
       "      <td>1.000000</td>\n",
       "      <td>0.000000</td>\n",
       "      <td>0.000000</td>\n",
       "      <td>0.000000</td>\n",
       "      <td>0.000000</td>\n",
       "      <td>0.000000</td>\n",
       "      <td>0.000000</td>\n",
       "      <td>0.000000</td>\n",
       "      <td>0.000000</td>\n",
       "    </tr>\n",
       "    <tr>\n",
       "      <th>75%</th>\n",
       "      <td>4367.000000</td>\n",
       "      <td>4367.000000</td>\n",
       "      <td>14057.000000</td>\n",
       "      <td>14057.000000</td>\n",
       "      <td>7.000000</td>\n",
       "      <td>8.000000</td>\n",
       "      <td>0.0</td>\n",
       "      <td>170.000000</td>\n",
       "      <td>163.000000</td>\n",
       "      <td>137.000000</td>\n",
       "      <td>...</td>\n",
       "      <td>0.000000</td>\n",
       "      <td>1.000000</td>\n",
       "      <td>0.000000</td>\n",
       "      <td>1.000000</td>\n",
       "      <td>1.000000</td>\n",
       "      <td>0.000000</td>\n",
       "      <td>1.000000</td>\n",
       "      <td>0.000000</td>\n",
       "      <td>1.000000</td>\n",
       "      <td>0.000000</td>\n",
       "    </tr>\n",
       "    <tr>\n",
       "      <th>max</th>\n",
       "      <td>9391.000000</td>\n",
       "      <td>9391.000000</td>\n",
       "      <td>16218.000000</td>\n",
       "      <td>16218.000000</td>\n",
       "      <td>1345.000000</td>\n",
       "      <td>1415.000000</td>\n",
       "      <td>0.0</td>\n",
       "      <td>576.000000</td>\n",
       "      <td>594.000000</td>\n",
       "      <td>561.000000</td>\n",
       "      <td>...</td>\n",
       "      <td>1.000000</td>\n",
       "      <td>1.000000</td>\n",
       "      <td>1.000000</td>\n",
       "      <td>1.000000</td>\n",
       "      <td>1.000000</td>\n",
       "      <td>1.000000</td>\n",
       "      <td>1.000000</td>\n",
       "      <td>1.000000</td>\n",
       "      <td>1.000000</td>\n",
       "      <td>1.000000</td>\n",
       "    </tr>\n",
       "  </tbody>\n",
       "</table>\n",
       "<p>8 rows × 36 columns</p>\n",
       "</div>"
      ],
      "text/plain": [
       "       mkt_carrier_fl_num  op_carrier_fl_num  origin_airport_id  \\\n",
       "count         9796.000000        9796.000000        9796.000000   \n",
       "mean          2742.266946        2742.170682       12697.933953   \n",
       "std           1877.928588        1877.879666        1531.991851   \n",
       "min              1.000000           1.000000       10135.000000   \n",
       "25%           1108.750000        1108.750000       11292.000000   \n",
       "50%           2308.000000        2308.000000       12889.000000   \n",
       "75%           4367.000000        4367.000000       14057.000000   \n",
       "max           9391.000000        9391.000000       16218.000000   \n",
       "\n",
       "       dest_airport_id    dep_delay    arr_delay  cancelled  crs_elapsed_time  \\\n",
       "count      9796.000000  9796.000000  9796.000000     9796.0       9796.000000   \n",
       "mean      12694.789098    11.519192     6.571458        0.0        138.490710   \n",
       "std        1524.609721    55.213045    57.336280        0.0         71.256475   \n",
       "min       10135.000000   -25.000000   -69.000000        0.0         24.000000   \n",
       "25%       11292.000000    -6.000000   -15.000000        0.0         87.000000   \n",
       "50%       12889.000000    -2.000000    -6.000000        0.0        120.000000   \n",
       "75%       14057.000000     7.000000     8.000000        0.0        170.000000   \n",
       "max       16218.000000  1345.000000  1415.000000        0.0        576.000000   \n",
       "\n",
       "       actual_elapsed_time     air_time  ...  haul_MEDIUM   haul_SHORT  \\\n",
       "count          9796.000000  9796.000000  ...  9796.000000  9796.000000   \n",
       "mean            133.542977   108.349633  ...     0.007248     0.991833   \n",
       "std              71.020837    69.223201  ...     0.084830     0.090004   \n",
       "min              27.000000    11.000000  ...     0.000000     0.000000   \n",
       "25%              82.000000    58.000000  ...     0.000000     1.000000   \n",
       "50%             115.000000    89.000000  ...     0.000000     1.000000   \n",
       "75%             163.000000   137.000000  ...     0.000000     1.000000   \n",
       "max             594.000000   561.000000  ...     1.000000     1.000000   \n",
       "\n",
       "       season_autumn  season_spring  season_summer  season_winter  \\\n",
       "count    9796.000000    9796.000000    9796.000000    9796.000000   \n",
       "mean        0.244181       0.261739       0.262760       0.231319   \n",
       "std         0.429623       0.439604       0.440156       0.421697   \n",
       "min         0.000000       0.000000       0.000000       0.000000   \n",
       "25%         0.000000       0.000000       0.000000       0.000000   \n",
       "50%         0.000000       0.000000       0.000000       0.000000   \n",
       "75%         0.000000       1.000000       1.000000       0.000000   \n",
       "max         1.000000       1.000000       1.000000       1.000000   \n",
       "\n",
       "       dep_time_of_the_day_afternoon  dep_time_of_the_day_evening  \\\n",
       "count                    9796.000000                  9796.000000   \n",
       "mean                        0.349530                     0.201511   \n",
       "std                         0.476846                     0.401149   \n",
       "min                         0.000000                     0.000000   \n",
       "25%                         0.000000                     0.000000   \n",
       "50%                         0.000000                     0.000000   \n",
       "75%                         1.000000                     0.000000   \n",
       "max                         1.000000                     1.000000   \n",
       "\n",
       "       dep_time_of_the_day_morning  dep_time_of_the_day_night  \n",
       "count                  9796.000000                9796.000000  \n",
       "mean                      0.363618                   0.085341  \n",
       "std                       0.481065                   0.279403  \n",
       "min                       0.000000                   0.000000  \n",
       "25%                       0.000000                   0.000000  \n",
       "50%                       0.000000                   0.000000  \n",
       "75%                       1.000000                   0.000000  \n",
       "max                       1.000000                   1.000000  \n",
       "\n",
       "[8 rows x 36 columns]"
      ]
     },
     "execution_count": 497,
     "metadata": {},
     "output_type": "execute_result"
    }
   ],
   "source": [
    "flights_df.describe()"
   ]
  },
  {
   "cell_type": "code",
   "execution_count": 498,
   "metadata": {},
   "outputs": [
    {
     "data": {
      "text/plain": [
       "0       -2.0\n",
       "1      -14.0\n",
       "2        9.0\n",
       "3      -23.0\n",
       "4       -1.0\n",
       "        ... \n",
       "9994   -20.0\n",
       "9995    -7.0\n",
       "9996    -3.0\n",
       "9998   -17.0\n",
       "9999   -10.0\n",
       "Name: arr_delay, Length: 9796, dtype: float64"
      ]
     },
     "execution_count": 498,
     "metadata": {},
     "output_type": "execute_result"
    }
   ],
   "source": [
    "flights_df.arr_delay"
   ]
  },
  {
   "cell_type": "code",
   "execution_count": 499,
   "metadata": {},
   "outputs": [
    {
     "data": {
      "text/html": [
       "<div>\n",
       "<style scoped>\n",
       "    .dataframe tbody tr th:only-of-type {\n",
       "        vertical-align: middle;\n",
       "    }\n",
       "\n",
       "    .dataframe tbody tr th {\n",
       "        vertical-align: top;\n",
       "    }\n",
       "\n",
       "    .dataframe thead th {\n",
       "        text-align: right;\n",
       "    }\n",
       "</style>\n",
       "<table border=\"1\" class=\"dataframe\">\n",
       "  <thead>\n",
       "    <tr style=\"text-align: right;\">\n",
       "      <th></th>\n",
       "      <th>fl_date</th>\n",
       "      <th>crs_dep_time</th>\n",
       "      <th>dep_time</th>\n",
       "      <th>wheels_off</th>\n",
       "      <th>wheels_on</th>\n",
       "      <th>crs_arr_time</th>\n",
       "      <th>arr_time</th>\n",
       "    </tr>\n",
       "  </thead>\n",
       "  <tbody>\n",
       "    <tr>\n",
       "      <th>0</th>\n",
       "      <td>2018-01-23</td>\n",
       "      <td>1900-01-01 06:15:00</td>\n",
       "      <td>1900-01-01 05:59:00</td>\n",
       "      <td>1900-01-01 06:27:00</td>\n",
       "      <td>1900-01-01 07:16:00</td>\n",
       "      <td>1900-01-01 07:30:00</td>\n",
       "      <td>1900-01-01 07:28:00</td>\n",
       "    </tr>\n",
       "    <tr>\n",
       "      <th>1</th>\n",
       "      <td>2018-11-15</td>\n",
       "      <td>1900-01-01 09:13:00</td>\n",
       "      <td>1900-01-01 09:13:00</td>\n",
       "      <td>1900-01-01 09:30:00</td>\n",
       "      <td>1900-01-01 10:09:00</td>\n",
       "      <td>1900-01-01 10:29:00</td>\n",
       "      <td>1900-01-01 10:15:00</td>\n",
       "    </tr>\n",
       "    <tr>\n",
       "      <th>2</th>\n",
       "      <td>2019-10-29</td>\n",
       "      <td>1900-01-01 20:55:00</td>\n",
       "      <td>1900-01-01 21:03:00</td>\n",
       "      <td>1900-01-01 21:14:00</td>\n",
       "      <td>1900-01-01 23:33:00</td>\n",
       "      <td>1900-01-01 23:30:00</td>\n",
       "      <td>1900-01-01 23:39:00</td>\n",
       "    </tr>\n",
       "    <tr>\n",
       "      <th>3</th>\n",
       "      <td>2019-11-14</td>\n",
       "      <td>1900-01-01 08:33:00</td>\n",
       "      <td>1900-01-01 08:24:00</td>\n",
       "      <td>1900-01-01 08:37:00</td>\n",
       "      <td>1900-01-01 11:23:00</td>\n",
       "      <td>1900-01-01 11:58:00</td>\n",
       "      <td>1900-01-01 11:35:00</td>\n",
       "    </tr>\n",
       "    <tr>\n",
       "      <th>4</th>\n",
       "      <td>2019-05-22</td>\n",
       "      <td>1900-01-01 13:45:00</td>\n",
       "      <td>1900-01-01 14:01:00</td>\n",
       "      <td>1900-01-01 14:14:00</td>\n",
       "      <td>1900-01-01 15:27:00</td>\n",
       "      <td>1900-01-01 15:32:00</td>\n",
       "      <td>1900-01-01 15:31:00</td>\n",
       "    </tr>\n",
       "    <tr>\n",
       "      <th>...</th>\n",
       "      <td>...</td>\n",
       "      <td>...</td>\n",
       "      <td>...</td>\n",
       "      <td>...</td>\n",
       "      <td>...</td>\n",
       "      <td>...</td>\n",
       "      <td>...</td>\n",
       "    </tr>\n",
       "    <tr>\n",
       "      <th>9994</th>\n",
       "      <td>2018-02-28</td>\n",
       "      <td>1900-01-01 19:35:00</td>\n",
       "      <td>1900-01-01 19:25:00</td>\n",
       "      <td>1900-01-01 19:33:00</td>\n",
       "      <td>1900-01-01 20:21:00</td>\n",
       "      <td>1900-01-01 20:53:00</td>\n",
       "      <td>1900-01-01 20:33:00</td>\n",
       "    </tr>\n",
       "    <tr>\n",
       "      <th>9995</th>\n",
       "      <td>2019-04-12</td>\n",
       "      <td>1900-01-01 14:00:00</td>\n",
       "      <td>1900-01-01 14:12:00</td>\n",
       "      <td>1900-01-01 14:24:00</td>\n",
       "      <td>1900-01-01 15:27:00</td>\n",
       "      <td>1900-01-01 15:40:00</td>\n",
       "      <td>1900-01-01 15:33:00</td>\n",
       "    </tr>\n",
       "    <tr>\n",
       "      <th>9996</th>\n",
       "      <td>2018-03-30</td>\n",
       "      <td>1900-01-01 16:55:00</td>\n",
       "      <td>1900-01-01 17:00:00</td>\n",
       "      <td>1900-01-01 17:08:00</td>\n",
       "      <td>1900-01-01 17:54:00</td>\n",
       "      <td>1900-01-01 18:00:00</td>\n",
       "      <td>1900-01-01 17:57:00</td>\n",
       "    </tr>\n",
       "    <tr>\n",
       "      <th>9998</th>\n",
       "      <td>2019-06-05</td>\n",
       "      <td>1900-01-01 14:59:00</td>\n",
       "      <td>1900-01-01 14:55:00</td>\n",
       "      <td>1900-01-01 15:14:00</td>\n",
       "      <td>1900-01-01 16:53:00</td>\n",
       "      <td>1900-01-01 17:20:00</td>\n",
       "      <td>1900-01-01 17:03:00</td>\n",
       "    </tr>\n",
       "    <tr>\n",
       "      <th>9999</th>\n",
       "      <td>2019-12-20</td>\n",
       "      <td>1900-01-01 18:15:00</td>\n",
       "      <td>1900-01-01 18:14:00</td>\n",
       "      <td>1900-01-01 18:30:00</td>\n",
       "      <td>1900-01-01 21:20:00</td>\n",
       "      <td>1900-01-01 21:38:00</td>\n",
       "      <td>1900-01-01 21:28:00</td>\n",
       "    </tr>\n",
       "  </tbody>\n",
       "</table>\n",
       "<p>9796 rows × 7 columns</p>\n",
       "</div>"
      ],
      "text/plain": [
       "        fl_date        crs_dep_time            dep_time          wheels_off  \\\n",
       "0    2018-01-23 1900-01-01 06:15:00 1900-01-01 05:59:00 1900-01-01 06:27:00   \n",
       "1    2018-11-15 1900-01-01 09:13:00 1900-01-01 09:13:00 1900-01-01 09:30:00   \n",
       "2    2019-10-29 1900-01-01 20:55:00 1900-01-01 21:03:00 1900-01-01 21:14:00   \n",
       "3    2019-11-14 1900-01-01 08:33:00 1900-01-01 08:24:00 1900-01-01 08:37:00   \n",
       "4    2019-05-22 1900-01-01 13:45:00 1900-01-01 14:01:00 1900-01-01 14:14:00   \n",
       "...         ...                 ...                 ...                 ...   \n",
       "9994 2018-02-28 1900-01-01 19:35:00 1900-01-01 19:25:00 1900-01-01 19:33:00   \n",
       "9995 2019-04-12 1900-01-01 14:00:00 1900-01-01 14:12:00 1900-01-01 14:24:00   \n",
       "9996 2018-03-30 1900-01-01 16:55:00 1900-01-01 17:00:00 1900-01-01 17:08:00   \n",
       "9998 2019-06-05 1900-01-01 14:59:00 1900-01-01 14:55:00 1900-01-01 15:14:00   \n",
       "9999 2019-12-20 1900-01-01 18:15:00 1900-01-01 18:14:00 1900-01-01 18:30:00   \n",
       "\n",
       "               wheels_on        crs_arr_time            arr_time  \n",
       "0    1900-01-01 07:16:00 1900-01-01 07:30:00 1900-01-01 07:28:00  \n",
       "1    1900-01-01 10:09:00 1900-01-01 10:29:00 1900-01-01 10:15:00  \n",
       "2    1900-01-01 23:33:00 1900-01-01 23:30:00 1900-01-01 23:39:00  \n",
       "3    1900-01-01 11:23:00 1900-01-01 11:58:00 1900-01-01 11:35:00  \n",
       "4    1900-01-01 15:27:00 1900-01-01 15:32:00 1900-01-01 15:31:00  \n",
       "...                  ...                 ...                 ...  \n",
       "9994 1900-01-01 20:21:00 1900-01-01 20:53:00 1900-01-01 20:33:00  \n",
       "9995 1900-01-01 15:27:00 1900-01-01 15:40:00 1900-01-01 15:33:00  \n",
       "9996 1900-01-01 17:54:00 1900-01-01 18:00:00 1900-01-01 17:57:00  \n",
       "9998 1900-01-01 16:53:00 1900-01-01 17:20:00 1900-01-01 17:03:00  \n",
       "9999 1900-01-01 21:20:00 1900-01-01 21:38:00 1900-01-01 21:28:00  \n",
       "\n",
       "[9796 rows x 7 columns]"
      ]
     },
     "execution_count": 499,
     "metadata": {},
     "output_type": "execute_result"
    }
   ],
   "source": [
    "dt_cols=flights_df.select_dtypes(include=['datetime64'])\n",
    "dt_cols"
   ]
  },
  {
   "cell_type": "code",
   "execution_count": 500,
   "metadata": {},
   "outputs": [],
   "source": [
    "flights_df.drop(['crs_dep_time', 'dep_time', 'wheels_off', 'wheels_on', 'crs_arr_time', 'arr_time'], axis=1, inplace=True)"
   ]
  },
  {
   "cell_type": "code",
   "execution_count": 501,
   "metadata": {},
   "outputs": [],
   "source": [
    "flights_df['fl_date']=flights_df['fl_date'].dt.strftime(\"%Y%m%d\").astype(int)"
   ]
  },
  {
   "cell_type": "code",
   "execution_count": 502,
   "metadata": {},
   "outputs": [],
   "source": [
    "flights_df.drop(['mkt_carrier', 'op_unique_carrier'], axis=1, inplace=True)"
   ]
  },
  {
   "cell_type": "code",
   "execution_count": 503,
   "metadata": {},
   "outputs": [
    {
     "data": {
      "text/html": [
       "<div>\n",
       "<style scoped>\n",
       "    .dataframe tbody tr th:only-of-type {\n",
       "        vertical-align: middle;\n",
       "    }\n",
       "\n",
       "    .dataframe tbody tr th {\n",
       "        vertical-align: top;\n",
       "    }\n",
       "\n",
       "    .dataframe thead th {\n",
       "        text-align: right;\n",
       "    }\n",
       "</style>\n",
       "<table border=\"1\" class=\"dataframe\">\n",
       "  <thead>\n",
       "    <tr style=\"text-align: right;\">\n",
       "      <th></th>\n",
       "      <th>fl_date</th>\n",
       "      <th>mkt_carrier_fl_num</th>\n",
       "      <th>op_carrier_fl_num</th>\n",
       "      <th>origin_airport_id</th>\n",
       "      <th>origin</th>\n",
       "      <th>dest_airport_id</th>\n",
       "      <th>dest</th>\n",
       "      <th>dep_delay</th>\n",
       "      <th>arr_delay</th>\n",
       "      <th>cancelled</th>\n",
       "      <th>...</th>\n",
       "      <th>haul_MEDIUM</th>\n",
       "      <th>haul_SHORT</th>\n",
       "      <th>season_autumn</th>\n",
       "      <th>season_spring</th>\n",
       "      <th>season_summer</th>\n",
       "      <th>season_winter</th>\n",
       "      <th>dep_time_of_the_day_afternoon</th>\n",
       "      <th>dep_time_of_the_day_evening</th>\n",
       "      <th>dep_time_of_the_day_morning</th>\n",
       "      <th>dep_time_of_the_day_night</th>\n",
       "    </tr>\n",
       "  </thead>\n",
       "  <tbody>\n",
       "    <tr>\n",
       "      <th>0</th>\n",
       "      <td>20180123</td>\n",
       "      <td>3405</td>\n",
       "      <td>3405</td>\n",
       "      <td>10821</td>\n",
       "      <td>BWI</td>\n",
       "      <td>11618</td>\n",
       "      <td>EWR</td>\n",
       "      <td>-16.0</td>\n",
       "      <td>-2.0</td>\n",
       "      <td>0.0</td>\n",
       "      <td>...</td>\n",
       "      <td>0</td>\n",
       "      <td>1</td>\n",
       "      <td>0</td>\n",
       "      <td>0</td>\n",
       "      <td>0</td>\n",
       "      <td>1</td>\n",
       "      <td>0</td>\n",
       "      <td>0</td>\n",
       "      <td>0</td>\n",
       "      <td>1</td>\n",
       "    </tr>\n",
       "    <tr>\n",
       "      <th>1</th>\n",
       "      <td>20181115</td>\n",
       "      <td>5683</td>\n",
       "      <td>5683</td>\n",
       "      <td>11057</td>\n",
       "      <td>CLT</td>\n",
       "      <td>12992</td>\n",
       "      <td>LIT</td>\n",
       "      <td>0.0</td>\n",
       "      <td>-14.0</td>\n",
       "      <td>0.0</td>\n",
       "      <td>...</td>\n",
       "      <td>0</td>\n",
       "      <td>1</td>\n",
       "      <td>1</td>\n",
       "      <td>0</td>\n",
       "      <td>0</td>\n",
       "      <td>0</td>\n",
       "      <td>0</td>\n",
       "      <td>0</td>\n",
       "      <td>1</td>\n",
       "      <td>0</td>\n",
       "    </tr>\n",
       "    <tr>\n",
       "      <th>2</th>\n",
       "      <td>20191029</td>\n",
       "      <td>2434</td>\n",
       "      <td>2434</td>\n",
       "      <td>12889</td>\n",
       "      <td>LAS</td>\n",
       "      <td>14747</td>\n",
       "      <td>SEA</td>\n",
       "      <td>8.0</td>\n",
       "      <td>9.0</td>\n",
       "      <td>0.0</td>\n",
       "      <td>...</td>\n",
       "      <td>0</td>\n",
       "      <td>1</td>\n",
       "      <td>1</td>\n",
       "      <td>0</td>\n",
       "      <td>0</td>\n",
       "      <td>0</td>\n",
       "      <td>0</td>\n",
       "      <td>1</td>\n",
       "      <td>0</td>\n",
       "      <td>0</td>\n",
       "    </tr>\n",
       "    <tr>\n",
       "      <th>3</th>\n",
       "      <td>20191114</td>\n",
       "      <td>577</td>\n",
       "      <td>577</td>\n",
       "      <td>11697</td>\n",
       "      <td>FLL</td>\n",
       "      <td>14771</td>\n",
       "      <td>SFO</td>\n",
       "      <td>-9.0</td>\n",
       "      <td>-23.0</td>\n",
       "      <td>0.0</td>\n",
       "      <td>...</td>\n",
       "      <td>0</td>\n",
       "      <td>1</td>\n",
       "      <td>1</td>\n",
       "      <td>0</td>\n",
       "      <td>0</td>\n",
       "      <td>0</td>\n",
       "      <td>0</td>\n",
       "      <td>0</td>\n",
       "      <td>1</td>\n",
       "      <td>0</td>\n",
       "    </tr>\n",
       "    <tr>\n",
       "      <th>4</th>\n",
       "      <td>20190522</td>\n",
       "      <td>3762</td>\n",
       "      <td>3762</td>\n",
       "      <td>10397</td>\n",
       "      <td>ATL</td>\n",
       "      <td>11823</td>\n",
       "      <td>FWA</td>\n",
       "      <td>16.0</td>\n",
       "      <td>-1.0</td>\n",
       "      <td>0.0</td>\n",
       "      <td>...</td>\n",
       "      <td>0</td>\n",
       "      <td>1</td>\n",
       "      <td>0</td>\n",
       "      <td>1</td>\n",
       "      <td>0</td>\n",
       "      <td>0</td>\n",
       "      <td>1</td>\n",
       "      <td>0</td>\n",
       "      <td>0</td>\n",
       "      <td>0</td>\n",
       "    </tr>\n",
       "  </tbody>\n",
       "</table>\n",
       "<p>5 rows × 42 columns</p>\n",
       "</div>"
      ],
      "text/plain": [
       "    fl_date  mkt_carrier_fl_num  op_carrier_fl_num  origin_airport_id origin  \\\n",
       "0  20180123                3405               3405              10821    BWI   \n",
       "1  20181115                5683               5683              11057    CLT   \n",
       "2  20191029                2434               2434              12889    LAS   \n",
       "3  20191114                 577                577              11697    FLL   \n",
       "4  20190522                3762               3762              10397    ATL   \n",
       "\n",
       "   dest_airport_id dest  dep_delay  arr_delay  cancelled  ...  haul_MEDIUM  \\\n",
       "0            11618  EWR      -16.0       -2.0        0.0  ...            0   \n",
       "1            12992  LIT        0.0      -14.0        0.0  ...            0   \n",
       "2            14747  SEA        8.0        9.0        0.0  ...            0   \n",
       "3            14771  SFO       -9.0      -23.0        0.0  ...            0   \n",
       "4            11823  FWA       16.0       -1.0        0.0  ...            0   \n",
       "\n",
       "   haul_SHORT  season_autumn  season_spring  season_summer  season_winter  \\\n",
       "0           1              0              0              0              1   \n",
       "1           1              1              0              0              0   \n",
       "2           1              1              0              0              0   \n",
       "3           1              1              0              0              0   \n",
       "4           1              0              1              0              0   \n",
       "\n",
       "   dep_time_of_the_day_afternoon  dep_time_of_the_day_evening  \\\n",
       "0                              0                            0   \n",
       "1                              0                            0   \n",
       "2                              0                            1   \n",
       "3                              0                            0   \n",
       "4                              1                            0   \n",
       "\n",
       "   dep_time_of_the_day_morning  dep_time_of_the_day_night  \n",
       "0                            0                          1  \n",
       "1                            1                          0  \n",
       "2                            0                          0  \n",
       "3                            1                          0  \n",
       "4                            0                          0  \n",
       "\n",
       "[5 rows x 42 columns]"
      ]
     },
     "execution_count": 503,
     "metadata": {},
     "output_type": "execute_result"
    }
   ],
   "source": [
    "flights_df.head()"
   ]
  },
  {
   "cell_type": "code",
   "execution_count": 469,
   "metadata": {},
   "outputs": [],
   "source": [
    "#flights_df.to_csv(path +'flights_p.csv',index=False)"
   ]
  },
  {
   "cell_type": "code",
   "execution_count": 470,
   "metadata": {},
   "outputs": [
    {
     "data": {
      "text/html": [
       "<div>\n",
       "<style scoped>\n",
       "    .dataframe tbody tr th:only-of-type {\n",
       "        vertical-align: middle;\n",
       "    }\n",
       "\n",
       "    .dataframe tbody tr th {\n",
       "        vertical-align: top;\n",
       "    }\n",
       "\n",
       "    .dataframe thead th {\n",
       "        text-align: right;\n",
       "    }\n",
       "</style>\n",
       "<table border=\"1\" class=\"dataframe\">\n",
       "  <thead>\n",
       "    <tr style=\"text-align: right;\">\n",
       "      <th></th>\n",
       "      <th>carrier_code</th>\n",
       "      <th>arr_delay</th>\n",
       "      <th>dep_delay</th>\n",
       "      <th>carrier_delay</th>\n",
       "      <th>weather_delay</th>\n",
       "      <th>nas_delay</th>\n",
       "      <th>security_delay</th>\n",
       "      <th>late_aircraft_delay</th>\n",
       "      <th>month</th>\n",
       "    </tr>\n",
       "  </thead>\n",
       "  <tbody>\n",
       "    <tr>\n",
       "      <th>0</th>\n",
       "      <td>8</td>\n",
       "      <td>-2.0</td>\n",
       "      <td>-16.0</td>\n",
       "      <td>0.0</td>\n",
       "      <td>0.0</td>\n",
       "      <td>0.0</td>\n",
       "      <td>0.0</td>\n",
       "      <td>0.0</td>\n",
       "      <td>1</td>\n",
       "    </tr>\n",
       "    <tr>\n",
       "      <th>1</th>\n",
       "      <td>0</td>\n",
       "      <td>-14.0</td>\n",
       "      <td>0.0</td>\n",
       "      <td>0.0</td>\n",
       "      <td>0.0</td>\n",
       "      <td>0.0</td>\n",
       "      <td>0.0</td>\n",
       "      <td>0.0</td>\n",
       "      <td>11</td>\n",
       "    </tr>\n",
       "    <tr>\n",
       "      <th>2</th>\n",
       "      <td>10</td>\n",
       "      <td>9.0</td>\n",
       "      <td>8.0</td>\n",
       "      <td>0.0</td>\n",
       "      <td>0.0</td>\n",
       "      <td>0.0</td>\n",
       "      <td>0.0</td>\n",
       "      <td>0.0</td>\n",
       "      <td>10</td>\n",
       "    </tr>\n",
       "    <tr>\n",
       "      <th>3</th>\n",
       "      <td>2</td>\n",
       "      <td>-23.0</td>\n",
       "      <td>-9.0</td>\n",
       "      <td>0.0</td>\n",
       "      <td>0.0</td>\n",
       "      <td>0.0</td>\n",
       "      <td>0.0</td>\n",
       "      <td>0.0</td>\n",
       "      <td>11</td>\n",
       "    </tr>\n",
       "    <tr>\n",
       "      <th>4</th>\n",
       "      <td>3</td>\n",
       "      <td>-1.0</td>\n",
       "      <td>16.0</td>\n",
       "      <td>0.0</td>\n",
       "      <td>0.0</td>\n",
       "      <td>0.0</td>\n",
       "      <td>0.0</td>\n",
       "      <td>0.0</td>\n",
       "      <td>5</td>\n",
       "    </tr>\n",
       "  </tbody>\n",
       "</table>\n",
       "</div>"
      ],
      "text/plain": [
       "   carrier_code  arr_delay  dep_delay  carrier_delay  weather_delay  \\\n",
       "0             8       -2.0      -16.0            0.0            0.0   \n",
       "1             0      -14.0        0.0            0.0            0.0   \n",
       "2            10        9.0        8.0            0.0            0.0   \n",
       "3             2      -23.0       -9.0            0.0            0.0   \n",
       "4             3       -1.0       16.0            0.0            0.0   \n",
       "\n",
       "   nas_delay  security_delay  late_aircraft_delay  month  \n",
       "0        0.0             0.0                  0.0      1  \n",
       "1        0.0             0.0                  0.0     11  \n",
       "2        0.0             0.0                  0.0     10  \n",
       "3        0.0             0.0                  0.0     11  \n",
       "4        0.0             0.0                  0.0      5  "
      ]
     },
     "execution_count": 470,
     "metadata": {},
     "output_type": "execute_result"
    }
   ],
   "source": [
    "delays = flights_df[['carrier_code', 'arr_delay', 'dep_delay', 'carrier_delay', 'weather_delay', 'nas_delay', 'security_delay',\n",
    "            'late_aircraft_delay', 'month']]\n",
    "delays.head()"
   ]
  },
  {
   "cell_type": "code",
   "execution_count": 492,
   "metadata": {},
   "outputs": [],
   "source": [
    "def get_stats(group):\n",
    "    return {'min': group.min(), 'max': group.max(),\n",
    "            'count': group.count(), 'mean': group.mean()}"
   ]
  },
  {
   "cell_type": "code",
   "execution_count": 493,
   "metadata": {},
   "outputs": [
    {
     "data": {
      "text/html": [
       "<div>\n",
       "<style scoped>\n",
       "    .dataframe tbody tr th:only-of-type {\n",
       "        vertical-align: middle;\n",
       "    }\n",
       "\n",
       "    .dataframe tbody tr th {\n",
       "        vertical-align: top;\n",
       "    }\n",
       "\n",
       "    .dataframe thead th {\n",
       "        text-align: right;\n",
       "    }\n",
       "</style>\n",
       "<table border=\"1\" class=\"dataframe\">\n",
       "  <thead>\n",
       "    <tr style=\"text-align: right;\">\n",
       "      <th></th>\n",
       "      <th>min</th>\n",
       "      <th>max</th>\n",
       "      <th>count</th>\n",
       "      <th>mean</th>\n",
       "    </tr>\n",
       "    <tr>\n",
       "      <th>mkt_carrier</th>\n",
       "      <th></th>\n",
       "      <th></th>\n",
       "      <th></th>\n",
       "      <th></th>\n",
       "    </tr>\n",
       "  </thead>\n",
       "  <tbody>\n",
       "    <tr>\n",
       "      <th>VX</th>\n",
       "      <td>-12.0</td>\n",
       "      <td>28.0</td>\n",
       "      <td>11.0</td>\n",
       "      <td>2.636364</td>\n",
       "    </tr>\n",
       "    <tr>\n",
       "      <th>HA</th>\n",
       "      <td>-15.0</td>\n",
       "      <td>46.0</td>\n",
       "      <td>105.0</td>\n",
       "      <td>-1.552381</td>\n",
       "    </tr>\n",
       "    <tr>\n",
       "      <th>G4</th>\n",
       "      <td>-25.0</td>\n",
       "      <td>125.0</td>\n",
       "      <td>138.0</td>\n",
       "      <td>4.101449</td>\n",
       "    </tr>\n",
       "    <tr>\n",
       "      <th>F9</th>\n",
       "      <td>-15.0</td>\n",
       "      <td>434.0</td>\n",
       "      <td>166.0</td>\n",
       "      <td>22.120482</td>\n",
       "    </tr>\n",
       "    <tr>\n",
       "      <th>NK</th>\n",
       "      <td>-18.0</td>\n",
       "      <td>995.0</td>\n",
       "      <td>242.0</td>\n",
       "      <td>15.607438</td>\n",
       "    </tr>\n",
       "    <tr>\n",
       "      <th>B6</th>\n",
       "      <td>-18.0</td>\n",
       "      <td>803.0</td>\n",
       "      <td>377.0</td>\n",
       "      <td>21.228117</td>\n",
       "    </tr>\n",
       "    <tr>\n",
       "      <th>AS</th>\n",
       "      <td>-24.0</td>\n",
       "      <td>223.0</td>\n",
       "      <td>525.0</td>\n",
       "      <td>2.817143</td>\n",
       "    </tr>\n",
       "    <tr>\n",
       "      <th>WN</th>\n",
       "      <td>-14.0</td>\n",
       "      <td>302.0</td>\n",
       "      <td>1687.0</td>\n",
       "      <td>10.710136</td>\n",
       "    </tr>\n",
       "    <tr>\n",
       "      <th>UA</th>\n",
       "      <td>-22.0</td>\n",
       "      <td>1023.0</td>\n",
       "      <td>1876.0</td>\n",
       "      <td>15.539979</td>\n",
       "    </tr>\n",
       "    <tr>\n",
       "      <th>DL</th>\n",
       "      <td>-18.0</td>\n",
       "      <td>768.0</td>\n",
       "      <td>2117.0</td>\n",
       "      <td>9.366084</td>\n",
       "    </tr>\n",
       "    <tr>\n",
       "      <th>AA</th>\n",
       "      <td>-21.0</td>\n",
       "      <td>1345.0</td>\n",
       "      <td>2552.0</td>\n",
       "      <td>11.140282</td>\n",
       "    </tr>\n",
       "  </tbody>\n",
       "</table>\n",
       "</div>"
      ],
      "text/plain": [
       "              min     max   count       mean\n",
       "mkt_carrier                                 \n",
       "VX          -12.0    28.0    11.0   2.636364\n",
       "HA          -15.0    46.0   105.0  -1.552381\n",
       "G4          -25.0   125.0   138.0   4.101449\n",
       "F9          -15.0   434.0   166.0  22.120482\n",
       "NK          -18.0   995.0   242.0  15.607438\n",
       "B6          -18.0   803.0   377.0  21.228117\n",
       "AS          -24.0   223.0   525.0   2.817143\n",
       "WN          -14.0   302.0  1687.0  10.710136\n",
       "UA          -22.0  1023.0  1876.0  15.539979\n",
       "DL          -18.0   768.0  2117.0   9.366084\n",
       "AA          -21.0  1345.0  2552.0  11.140282"
      ]
     },
     "execution_count": 493,
     "metadata": {},
     "output_type": "execute_result"
    }
   ],
   "source": [
    "stats_dep_delay = flights_df['dep_delay'].groupby(flights_df['mkt_carrier']).apply(get_stats).unstack()\n",
    "stats_dep_delay = stats_dep_delay.sort_values('count')\n",
    "stats_dep_delay"
   ]
  },
  {
   "cell_type": "code",
   "execution_count": 26,
   "metadata": {},
   "outputs": [
    {
     "data": {
      "image/png": "[encoded data removed]",
      "text/plain": [
       "<Figure size 432x288 with 1 Axes>"
      ]
     },
     "metadata": {
      "needs_background": "light"
     },
     "output_type": "display_data"
    }
   ],
   "source": [
    "ax3 = sns.stripplot(y=\"mkt_carrier\", x=\"dep_delay\", size=10, data=flights_df, linewidth = 0.5)\n",
    "plt.setp(ax3.get_xticklabels(), fontsize=10)\n",
    "plt.setp(ax3.get_yticklabels(), fontsize=10)\n",
    "ax3.set_xticklabels(['{:2.0f}h{:2.0f}m'.format(*[int(y) for y in divmod(x,60)])\n",
    "                         for x in ax3.get_xticks()])\n",
    "plt.xlabel('Departure delay', fontsize=18)\n",
    "ax3.yaxis.label.set_visible(False)"
   ]
  },
  {
   "cell_type": "code",
   "execution_count": 398,
   "metadata": {},
   "outputs": [
    {
     "data": {
      "image/png": "[encoded data removed]",
      "text/plain": [
       "<Figure size 1152x432 with 1 Axes>"
      ]
     },
     "metadata": {
      "needs_background": "light"
     },
     "output_type": "display_data"
    }
   ],
   "source": [
    "fig = plt.figure(1, figsize=(16,6))\n",
    "ax = sns.barplot(x=\"dep_delay\", y=\"mkt_carrier\", data=flights_df, ci=None)\n",
    "ax = sns.barplot(x=\"arr_delay\", y=\"mkt_carrier\", data=flights_df, color=\"r\", hatch = '///', alpha = 0.0, ci=None)\n",
    "\n",
    "ax.set_yticklabels(flights_df['mkt_carrier'])\n",
    "ax.yaxis.label.set_visible(False)\n",
    "plt.xlabel('Mean delay(min) [departure:solid, arrival:hatch lines]',\n",
    "           fontsize=14, labelpad=10);"
   ]
  },
  {
   "cell_type": "markdown",
   "metadata": {},
   "source": [
    "#### Regression\n",
    "The target variable is **ARR_DELAY**. We need to be careful which columns to use and which don't. For example, DEP_DELAY is going to be the perfect predictor, but we can't use it because in real-life scenario, we want to predict the delay before the flight takes of --> We can use average delay from earlier days but not the one from the actual flight we predict.\n",
    "\n",
    "For example, variables **CARRIER_DELAY, WEATHER_DELAY, NAS_DELAY, SECURITY_DELAY, LATE_AIRCRAFT_DELAY** shouldn't be used directly as predictors as well. However, we can create various transformations from earlier values.\n",
    "\n",
    "We will be evaluating your models by predicting the ARR_DELAY for all flights 1 week in advance."
   ]
  },
  {
   "cell_type": "code",
   "execution_count": 515,
   "metadata": {},
   "outputs": [],
   "source": [
    "flights_df['label'] = (flights_df.arr_delay >= 0).astype('int')"
   ]
  },
  {
   "cell_type": "code",
   "execution_count": 516,
   "metadata": {},
   "outputs": [],
   "source": [
    "def prevalence (y_actual):\n",
    "    return (sum(y_actual)/len(y_actual))"
   ]
  },
  {
   "cell_type": "code",
   "execution_count": 517,
   "metadata": {},
   "outputs": [
    {
     "name": "stdout",
     "output_type": "stream",
     "text": [
      "prevalence 0.371\n"
     ]
    }
   ],
   "source": [
    "print ('prevalence %.3f'%prevalence(flights_df['label'].values))"
   ]
  },
  {
   "cell_type": "code",
   "execution_count": 555,
   "metadata": {},
   "outputs": [],
   "source": [
    "#feature = feature_cols\n",
    "X = flights_df\n",
    "y = flights_df.label"
   ]
  },
  {
   "cell_type": "code",
   "execution_count": 519,
   "metadata": {},
   "outputs": [],
   "source": [
    "#X = flights_df[feature_cols].values.reshape(-1, 1) # Features reshape\n",
    "#y = flights_df.arr_delay.values.reshape(-1,1)"
   ]
  },
  {
   "cell_type": "code",
   "execution_count": 556,
   "metadata": {},
   "outputs": [],
   "source": [
    "X_train, X_test,y_train, y_test = train_test_split(X, y, \n",
    "                                                   test_size=0.3, random_state=1)"
   ]
  },
  {
   "cell_type": "code",
   "execution_count": 557,
   "metadata": {},
   "outputs": [
    {
     "data": {
      "text/plain": [
       "StandardScaler(copy=True, with_mean=True, with_std=True)"
      ]
     },
     "execution_count": 557,
     "metadata": {},
     "output_type": "execute_result"
    }
   ],
   "source": [
    "scaler = StandardScaler()\n",
    "scaler.fit(X_train, X_test)"
   ]
  },
  {
   "cell_type": "code",
   "execution_count": 238,
   "metadata": {},
   "outputs": [],
   "source": [
    "X_train = X_train.values.reshape(-1,1)\n",
    "#X_test = X_test.values.reshape(-1,1)"
   ]
  },
  {
   "cell_type": "code",
   "execution_count": 558,
   "metadata": {},
   "outputs": [],
   "source": [
    "#Linear Regression\n",
    "regr = LinearRegression()\n",
    "regr.fit(X_train, y_train)\n",
    "# make predictions\n",
    "y_pred = regr.predict(X_test)"
   ]
  },
  {
   "cell_type": "code",
   "execution_count": 559,
   "metadata": {},
   "outputs": [
    {
     "name": "stdout",
     "output_type": "stream",
     "text": [
      "Intercept: \n",
      " -3.1291635949060037e-13\n",
      "Coefficients: \n",
      " [ 1.39381283e-20  7.77644008e-17 -7.75136791e-17  3.42201311e-19\n",
      "  3.97766672e-18 -1.07929185e-13  1.07965901e-13  1.27831773e-14\n",
      "  1.07888070e-13 -1.08056054e-13  1.81637216e-16 -8.74647577e-15\n",
      " -1.97782193e-18 -4.19251663e-17 -5.98876117e-17 -7.15697842e-17\n",
      " -7.60118063e-16 -1.64992489e-17  6.88866336e-16 -1.33841979e-16\n",
      "  2.41879575e-16  1.83759986e-16 -7.37579350e-17  2.62449003e-16\n",
      " -2.16772407e-17 -1.59506892e-17 -6.98267539e-16  1.88534295e-16\n",
      "  1.38291016e-16 -3.01971775e-16 -2.07850437e-16 -4.00830731e-16\n",
      " -1.50630178e-16  4.59761246e-16 -2.51035080e-16 -7.21898801e-17\n",
      "  5.27574959e-16  1.00000000e+00]\n"
     ]
    }
   ],
   "source": [
    "print('Intercept: \\n', regr.intercept_)\n",
    "print('Coefficients: \\n', regr.coef_)"
   ]
  },
  {
   "cell_type": "code",
   "execution_count": 560,
   "metadata": {},
   "outputs": [
    {
     "name": "stdout",
     "output_type": "stream",
     "text": [
      "(9796, 38) (9796,)\n"
     ]
    }
   ],
   "source": [
    "print(X.shape, y.shape)"
   ]
  },
  {
   "cell_type": "code",
   "execution_count": 561,
   "metadata": {},
   "outputs": [
    {
     "data": {
      "text/plain": [
       "SGDClassifier(alpha=0.1, average=False, class_weight=None, early_stopping=False,\n",
       "              epsilon=0.1, eta0=0.0, fit_intercept=True, l1_ratio=0.15,\n",
       "              learning_rate='optimal', loss='log', max_iter=1000,\n",
       "              n_iter_no_change=5, n_jobs=None, penalty='l2', power_t=0.5,\n",
       "              random_state=None, shuffle=True, tol=0.001,\n",
       "              validation_fraction=0.1, verbose=0, warm_start=False)"
      ]
     },
     "execution_count": 561,
     "metadata": {},
     "output_type": "execute_result"
    }
   ],
   "source": [
    "sgdc = SGDClassifier(loss = 'log', alpha = 0.1)\n",
    "sgdc.fit(X_train, y_train)"
   ]
  },
  {
   "cell_type": "code",
   "execution_count": 591,
   "metadata": {},
   "outputs": [],
   "source": [
    "logreg = LogisticRegression(solver='lbfgs', max_iter=500)\n",
    "\n",
    "logreg.fit(X_train,y_train)\n",
    "\n",
    "y_pred=logreg.predict(X_test)"
   ]
  },
  {
   "cell_type": "code",
   "execution_count": 592,
   "metadata": {},
   "outputs": [
    {
     "name": "stdout",
     "output_type": "stream",
     "text": [
      "[[1812    0]\n",
      " [1127    0]]\n"
     ]
    }
   ],
   "source": [
    "print(confusion_matrix(y_test, y_pred))"
   ]
  },
  {
   "cell_type": "code",
   "execution_count": 593,
   "metadata": {},
   "outputs": [
    {
     "name": "stdout",
     "output_type": "stream",
     "text": [
      "              precision    recall  f1-score   support\n",
      "\n",
      "           0       0.62      1.00      0.76      1812\n",
      "           1       0.00      0.00      0.00      1127\n",
      "\n",
      "    accuracy                           0.62      2939\n",
      "   macro avg       0.31      0.50      0.38      2939\n",
      "weighted avg       0.38      0.62      0.47      2939\n",
      "\n"
     ]
    },
    {
     "name": "stderr",
     "output_type": "stream",
     "text": [
      "/home/jewelle/anaconda3/lib/python3.7/site-packages/sklearn/metrics/_classification.py:1272: UndefinedMetricWarning: Precision and F-score are ill-defined and being set to 0.0 in labels with no predicted samples. Use `zero_division` parameter to control this behavior.\n",
      "  _warn_prf(average, modifier, msg_start, len(result))\n"
     ]
    }
   ],
   "source": [
    "print(classification_report(y_test, y_pred))"
   ]
  },
  {
   "cell_type": "code",
   "execution_count": 587,
   "metadata": {},
   "outputs": [
    {
     "data": {
      "text/plain": [
       "GaussianNB(priors=None, var_smoothing=1e-09)"
      ]
     },
     "execution_count": 587,
     "metadata": {},
     "output_type": "execute_result"
    }
   ],
   "source": [
    "nb = GaussianNB()\n",
    "nb.fit(X_train, y_train)"
   ]
  },
  {
   "cell_type": "code",
   "execution_count": 588,
   "metadata": {},
   "outputs": [
    {
     "name": "stdout",
     "output_type": "stream",
     "text": [
      "[[1812    0]\n",
      " [1127    0]]\n"
     ]
    }
   ],
   "source": [
    "print(confusion_matrix(y_test, y_pred))"
   ]
  },
  {
   "cell_type": "code",
   "execution_count": 589,
   "metadata": {},
   "outputs": [
    {
     "name": "stdout",
     "output_type": "stream",
     "text": [
      "              precision    recall  f1-score   support\n",
      "\n",
      "           0       0.62      1.00      0.76      1812\n",
      "           1       0.00      0.00      0.00      1127\n",
      "\n",
      "    accuracy                           0.62      2939\n",
      "   macro avg       0.31      0.50      0.38      2939\n",
      "weighted avg       0.38      0.62      0.47      2939\n",
      "\n"
     ]
    },
    {
     "name": "stderr",
     "output_type": "stream",
     "text": [
      "/home/jewelle/anaconda3/lib/python3.7/site-packages/sklearn/metrics/_classification.py:1272: UndefinedMetricWarning: Precision and F-score are ill-defined and being set to 0.0 in labels with no predicted samples. Use `zero_division` parameter to control this behavior.\n",
      "  _warn_prf(average, modifier, msg_start, len(result))\n"
     ]
    }
   ],
   "source": [
    "print(classification_report(y_test, y_pred))"
   ]
  },
  {
   "cell_type": "code",
   "execution_count": 594,
   "metadata": {},
   "outputs": [
    {
     "name": "stdout",
     "output_type": "stream",
     "text": [
      "[2.19170312e-04 2.47052923e-04 1.88540104e-04 2.31256006e-04\n",
      " 2.62359770e-04 5.99995361e-03 2.52898977e-02 0.00000000e+00\n",
      " 4.31203370e-04 1.22801687e-03 2.46737085e-04 0.00000000e+00\n",
      " 1.27395272e-04 1.23320637e-02 1.92508983e-04 1.57867904e-02\n",
      " 0.00000000e+00 5.61729291e-03 3.43928886e-01 3.98767557e-03\n",
      " 6.84219118e-03 3.42331179e-04 8.63640838e-05 2.96564748e-04\n",
      " 1.29480157e-04 2.74447000e-04 4.64125110e-05 1.61980699e-04\n",
      " 7.24472049e-05 1.44009907e-04 1.22225263e-04 2.13473346e-04\n",
      " 5.74121166e-05 2.58190144e-04 2.70123849e-03 9.19903288e-04\n",
      " 2.89029208e-04 5.70725498e-01]\n"
     ]
    }
   ],
   "source": [
    "# feature extraction\n",
    "model = ExtraTreesClassifier(n_estimators=10)\n",
    "model.fit(X_train, y_train)\n",
    "print(model.feature_importances_)"
   ]
  },
  {
   "cell_type": "code",
   "execution_count": 595,
   "metadata": {},
   "outputs": [],
   "source": [
    "regressor = RandomForestRegressor(n_estimators=20, random_state=0)\n",
    "regressor.fit(X_train, y_train)\n",
    "y_pred = regressor.predict(X_test)"
   ]
  },
  {
   "cell_type": "code",
   "execution_count": 597,
   "metadata": {},
   "outputs": [],
   "source": [
    "#print(classification_report(y_test, y_pred))"
   ]
  },
  {
   "cell_type": "code",
   "execution_count": 569,
   "metadata": {},
   "outputs": [
    {
     "name": "stdout",
     "output_type": "stream",
     "text": [
      "Mean Absolute Error: 0.0\n",
      "Mean Squared Error: 0.0\n",
      "Root Mean Squared Error: 0.0\n"
     ]
    }
   ],
   "source": [
    "print('Mean Absolute Error:', metrics.mean_absolute_error(y_test, y_pred))\n",
    "print('Mean Squared Error:', metrics.mean_squared_error(y_test, y_pred))\n",
    "print('Root Mean Squared Error:', np.sqrt(metrics.mean_squared_error(y_test, y_pred)))"
   ]
  },
  {
   "cell_type": "code",
   "execution_count": 570,
   "metadata": {},
   "outputs": [
    {
     "data": {
      "text/plain": [
       "SVC(C=1.0, break_ties=False, cache_size=200, class_weight=None, coef0=0.0,\n",
       "    decision_function_shape='ovr', degree=3, gamma='scale', kernel='linear',\n",
       "    max_iter=-1, probability=False, random_state=None, shrinking=True,\n",
       "    tol=0.001, verbose=False)"
      ]
     },
     "execution_count": 570,
     "metadata": {},
     "output_type": "execute_result"
    }
   ],
   "source": [
    "svclassifier = SVC(kernel='linear')\n",
    "svclassifier.fit(X_train, y_train)"
   ]
  },
  {
   "cell_type": "code",
   "execution_count": 571,
   "metadata": {},
   "outputs": [],
   "source": [
    "y_pred = svclassifier.predict(X_test)"
   ]
  },
  {
   "cell_type": "code",
   "execution_count": 572,
   "metadata": {},
   "outputs": [],
   "source": [
    "#XGBoost \n",
    "data_dmatrix = xgb.DMatrix(data=X,label=y)"
   ]
  },
  {
   "cell_type": "code",
   "execution_count": 573,
   "metadata": {},
   "outputs": [],
   "source": [
    "xg_reg = xgb.XGBRegressor(objective ='reg:squarederror', colsample_bytree = 0.3, learning_rate = 0.1,\n",
    "                max_depth = 5, alpha = 10, n_estimators = 10)"
   ]
  },
  {
   "cell_type": "code",
   "execution_count": 574,
   "metadata": {},
   "outputs": [],
   "source": [
    "xg_reg.fit(X_train,y_train)\n",
    "\n",
    "preds = xg_reg.predict(X_test)"
   ]
  },
  {
   "cell_type": "code",
   "execution_count": 575,
   "metadata": {},
   "outputs": [],
   "source": [
    "params = {\"objective\":\"reg:squarederror\",'colsample_bytree': 0.3,'learning_rate': 0.1,\n",
    "                'max_depth': 5, 'alpha': 10}"
   ]
  },
  {
   "cell_type": "code",
   "execution_count": 576,
   "metadata": {},
   "outputs": [
    {
     "name": "stdout",
     "output_type": "stream",
     "text": [
      "RMSE: 0.251650\n"
     ]
    }
   ],
   "source": [
    "rmse = np.sqrt(mean_squared_error(y_test, preds))\n",
    "print(\"RMSE: %f\" % (rmse))"
   ]
  },
  {
   "cell_type": "code",
   "execution_count": 577,
   "metadata": {},
   "outputs": [],
   "source": [
    "cv_results = xgb.cv(dtrain=data_dmatrix, params=params, nfold=3,\n",
    "                    num_boost_round=50,early_stopping_rounds=10,metrics=\"rmse\", as_pandas=True, seed=123)"
   ]
  },
  {
   "cell_type": "code",
   "execution_count": 578,
   "metadata": {},
   "outputs": [
    {
     "name": "stdout",
     "output_type": "stream",
     "text": [
      "49    0.040283\n",
      "Name: test-rmse-mean, dtype: float64\n"
     ]
    }
   ],
   "source": [
    "print((cv_results[\"test-rmse-mean\"]).tail(1))"
   ]
  },
  {
   "cell_type": "code",
   "execution_count": 579,
   "metadata": {},
   "outputs": [],
   "source": [
    "xg_reg = xgb.train(params=params, dtrain=data_dmatrix, num_boost_round=10)"
   ]
  },
  {
   "cell_type": "code",
   "execution_count": 580,
   "metadata": {},
   "outputs": [
    {
     "data": {
      "image/png": "[encoded data removed]",
      "text/plain": [
       "<Figure size 2160x720 with 1 Axes>"
      ]
     },
     "metadata": {
      "needs_background": "light"
     },
     "output_type": "display_data"
    }
   ],
   "source": [
    "xgb.plot_tree(xg_reg,num_trees=0)\n",
    "plt.rcParams['figure.figsize'] = [50, 10]\n",
    "plt.show()"
   ]
  },
  {
   "cell_type": "code",
   "execution_count": 583,
   "metadata": {},
   "outputs": [
    {
     "data": {
      "image/png": "[encoded data removed]",
      "text/plain": [
       "<Figure size 1440x720 with 1 Axes>"
      ]
     },
     "metadata": {
      "needs_background": "light"
     },
     "output_type": "display_data"
    }
   ],
   "source": [
    "xgb.plot_importance(xg_reg)\n",
    "plt.rcParams['figure.figsize'] = [30, 10]\n",
    "plt.show()"
   ]
  },
  {
   "cell_type": "code",
   "execution_count": 370,
   "metadata": {},
   "outputs": [],
   "source": [
    "#plt.scatter(X, y)\n",
    "#plt.plot(X, y_pred, color='red')\n",
    "#plt.show()"
   ]
  },
  {
   "cell_type": "markdown",
   "metadata": {},
   "source": [
    "Feature Selection / Dimensionality Reduction"
   ]
  },
  {
   "cell_type": "code",
   "execution_count": 584,
   "metadata": {},
   "outputs": [
    {
     "data": {
      "text/plain": [
       "(9.705709555245365e-15, 0.9733285267845752)"
      ]
     },
     "execution_count": 584,
     "metadata": {},
     "output_type": "execute_result"
    }
   ],
   "source": [
    "#PCA\n",
    "x = StandardScaler().fit_transform(X_train)\n",
    "np.mean(x), np.std(x)"
   ]
  },
  {
   "cell_type": "code",
   "execution_count": 585,
   "metadata": {},
   "outputs": [
    {
     "name": "stdout",
     "output_type": "stream",
     "text": [
      "Explained Variance: [0.13170777 0.10647015 0.0741468  0.05850109 0.05543934 0.05414217\n",
      " 0.05133406 0.0454542  0.04077352 0.04000686 0.03785466 0.03723278\n",
      " 0.03651943 0.03277868 0.02859452 0.02790803 0.02762945 0.02666628\n",
      " 0.02524234 0.02366378]\n",
      "[[ 1.98749033e-03 -2.50058633e-01 -2.50045295e-01  4.64042224e-02\n",
      "   4.28567496e-02  7.72671503e-03  6.02934680e-03 -3.46944695e-18\n",
      "   4.33507676e-01  4.32764849e-01  4.36071860e-01 -3.38813179e-21\n",
      "   4.36523705e-01  5.24465053e-03  3.46462274e-04  2.90257621e-02\n",
      "   5.19816638e-03 -5.72631233e-03  3.17698688e-02 -3.11254749e-03\n",
      "   5.60738823e-03 -4.99418404e-03  4.36887727e-02 -9.90397270e-03\n",
      "  -1.18446708e-01  4.79443723e-02  8.24366855e-02  1.98352088e-01\n",
      "  -2.13924448e-01  1.81954523e-03  1.56517528e-02 -1.21355546e-02\n",
      "  -5.63529150e-03 -2.84081390e-02  1.08967162e-02  1.99772609e-02\n",
      "  -1.39319778e-03  3.05694383e-02]\n",
      " [ 5.68798354e-03  2.93006111e-02  2.93371061e-02 -2.27762870e-03\n",
      "  -1.38199056e-02  4.34371745e-01  4.55834637e-01  1.38777878e-17\n",
      "  -1.16870555e-02  1.91015576e-02 -4.06656948e-03  5.42101086e-20\n",
      "  -1.26253502e-02  2.50460234e-01  1.46819787e-01  1.96447058e-01\n",
      "   2.00427608e-02  2.97775053e-01  3.53775136e-01  2.24414484e-01\n",
      "   1.54055602e-01 -1.81467175e-02 -1.25542952e-02  8.52692386e-03\n",
      "   1.51245084e-03 -2.43630345e-03 -2.28830455e-03 -2.05169792e-02\n",
      "   2.03043814e-02 -4.53092533e-02 -1.41077336e-02  3.23742848e-02\n",
      "   2.77692542e-02  6.29198305e-02  1.51538764e-01 -1.88906288e-01\n",
      "  -3.71385910e-04  3.48745461e-01]\n",
      " [ 1.63221020e-03  2.29839419e-03  2.25357823e-03 -9.35507355e-03\n",
      "  -3.38818477e-02  2.12997040e-01  2.16811568e-01  2.77555756e-16\n",
      "  -4.04729942e-03  5.78517124e-03 -3.32583711e-03 -1.38777878e-17\n",
      "  -7.57151632e-03  1.56306201e-01  1.17821962e-01  2.77166263e-02\n",
      "  -4.36001887e-03  1.29529023e-01  5.22220722e-02 -4.78110086e-01\n",
      "  -4.81005398e-01 -1.14273217e-02 -3.33670347e-02 -6.08196087e-03\n",
      "  -1.22589564e-02 -9.53564802e-03 -4.88221501e-03 -2.16233632e-02\n",
      "   2.21213459e-02 -2.17660799e-02  1.28036635e-02  2.81637399e-02\n",
      "  -2.06332023e-02 -2.23531179e-01 -3.50505053e-01  4.35774848e-01\n",
      "   1.34832152e-01  4.93770076e-02]\n",
      " [-1.10236945e-02 -7.65436948e-02 -7.64870860e-02 -4.57876323e-01\n",
      "  -4.55187458e-01 -3.09462634e-03 -6.57019010e-03  2.77555756e-17\n",
      "  -2.18607362e-02 -2.47051171e-02 -3.04221056e-02  3.33066907e-16\n",
      "  -2.79555067e-02 -1.09298063e-02 -2.77283945e-03 -2.86495061e-04\n",
      "  -3.49874553e-03  1.06354619e-02 -2.44367997e-02  2.44703202e-02\n",
      "   3.35337624e-03 -7.14448818e-02 -4.55267316e-01 -1.96529225e-01\n",
      "  -2.19729997e-01 -4.58504478e-01  5.39477452e-02  1.38975400e-01\n",
      "  -1.48772200e-01 -6.93648675e-02  5.80566383e-02 -4.55198598e-03\n",
      "   1.53786928e-02  7.81494503e-03  1.43450764e-02 -4.41654703e-02\n",
      "   4.15356319e-02 -2.77750072e-02]\n",
      " [ 3.98710166e-02  1.15013927e-01  1.15095224e-01  9.35034611e-02\n",
      "  -1.72210978e-01 -1.88016375e-03  7.93576360e-03 -1.11022302e-16\n",
      "  -1.35656910e-02 -5.93279590e-03 -1.22282460e-02  8.32667268e-17\n",
      "  -1.07560131e-03 -7.34040155e-03 -1.97555470e-03  1.96366700e-02\n",
      "   3.23395196e-02  1.55293107e-03  3.69568019e-02  4.12073208e-03\n",
      "  -6.04745373e-03  5.67002501e-01 -1.72121011e-01 -8.60624401e-03\n",
      "   2.97229021e-02  9.30101235e-02  4.03768342e-02  1.97081106e-01\n",
      "  -2.00415436e-01  5.12448944e-01 -4.24639594e-01  9.32293359e-02\n",
      "  -1.80916969e-01 -2.59568221e-02  1.52329251e-02  3.23605667e-02\n",
      "  -3.27700644e-02  3.81120137e-02]\n",
      " [ 1.95175100e-02 -1.32782497e-02 -1.33230498e-02 -4.84311595e-01\n",
      "   4.58838271e-01  3.42061073e-03  6.56678417e-03  1.52655666e-16\n",
      "   8.95065386e-03  1.15368268e-02  1.04384527e-02 -1.11022302e-16\n",
      "  -6.23431562e-03  1.63995628e-02 -1.93496258e-02 -7.04133137e-03\n",
      "  -1.70273454e-02  3.31329434e-03  2.65497200e-02  1.11537112e-02\n",
      "  -1.81067332e-02  1.81615086e-01  4.59915796e-01 -5.52354302e-02\n",
      "  -5.15236336e-02 -4.84979380e-01 -5.28919951e-03 -4.59545791e-02\n",
      "   4.55262638e-02  1.79536237e-01 -1.30853475e-01  2.79588220e-02\n",
      "  -7.73578717e-02 -5.85262531e-02  2.92368122e-02  2.23091635e-02\n",
      "   1.95536360e-02  2.63908656e-02]\n",
      " [-2.18206016e-02  4.63991478e-01  4.63948629e-01 -7.08588596e-02\n",
      "   9.20817505e-02  6.31969070e-03  4.80397895e-03 -1.24900090e-16\n",
      "   4.30341219e-02  4.20813908e-02  4.01264693e-02  0.00000000e+00\n",
      "   3.71327326e-02  2.02095729e-02  2.21947254e-02 -2.40480669e-02\n",
      "  -4.44461757e-03 -8.63552468e-03 -2.29693476e-02 -4.54814789e-03\n",
      "  -1.95105006e-02 -1.69696167e-01  9.26617188e-02  7.93789957e-02\n",
      "   2.37331141e-01 -6.88131571e-02  1.41279366e-01  4.20844458e-01\n",
      "  -4.44056429e-01 -1.69082883e-01  1.13243576e-01  1.01984438e-03\n",
      "   5.45916758e-02  3.14852786e-02 -3.24196946e-02  5.96140177e-03\n",
      "  -1.73679024e-02 -2.31239715e-02]\n",
      " [ 6.55012068e-02 -1.16691534e-01 -1.16685845e-01  1.76543526e-01\n",
      "   1.85101446e-01  1.11453959e-01  8.16294861e-02  1.11022302e-16\n",
      "  -1.34765432e-01 -1.54698919e-01 -1.50820184e-01  1.66533454e-16\n",
      "  -1.34170871e-01  9.89352714e-02  7.64222660e-02 -1.09865942e-01\n",
      "  -5.06864243e-02  8.81309834e-02 -1.57542840e-01  1.63278832e-02\n",
      "  -1.65714492e-02 -1.58686885e-02  1.81682095e-01 -4.71317613e-01\n",
      "  -4.61069123e-01  1.72584038e-01  7.68883283e-03  2.87936414e-01\n",
      "  -2.77814123e-01  1.79132395e-02  6.07536762e-02 -5.37326308e-02\n",
      "  -2.61406969e-02  1.40388659e-01 -8.74536891e-02 -1.12840912e-01\n",
      "   7.86412299e-02 -1.61085694e-01]\n",
      " [ 4.08733516e-02  1.11035078e-01  1.11049418e-01 -6.98900519e-02\n",
      "  -5.66431646e-02  1.80058248e-01  1.19504021e-01 -4.85722573e-17\n",
      "   1.25442370e-01  8.37993017e-02  1.10601202e-01  6.59194921e-17\n",
      "   1.15144979e-01  1.83471993e-01  1.53321405e-01 -1.60706315e-01\n",
      "  -2.94262226e-02  7.65531629e-02 -2.83989984e-01 -3.28216244e-02\n",
      "   4.39378321e-02  6.24990497e-02 -5.52735505e-02  7.50188773e-02\n",
      "   9.16236010e-02 -6.77022142e-02  7.24511634e-03 -1.88532925e-01\n",
      "   1.78316238e-01  2.19948973e-01  6.77611815e-02 -2.97413049e-01\n",
      "   1.37350738e-02  4.88035268e-01 -3.28309639e-01 -1.80403741e-01\n",
      "  -5.25634608e-02 -2.85300026e-01]\n",
      " [ 7.74117506e-02 -1.44126852e-01 -1.44165049e-01 -1.65615085e-02\n",
      "  -1.14374634e-02  2.06545926e-01  1.32889271e-01  1.17961196e-16\n",
      "  -2.91032618e-02 -8.03004682e-02 -3.99878944e-02  1.38777878e-17\n",
      "  -1.30935426e-02  1.93960988e-01  1.55040379e-01 -1.84381818e-01\n",
      "   7.42054580e-03  1.14738961e-01 -3.74706337e-01  1.30451007e-01\n",
      "   2.66824444e-02  3.17974715e-04 -1.15792083e-02  2.70365827e-01\n",
      "   1.95488538e-01 -1.64715274e-02  3.97382190e-02  7.53728315e-02\n",
      "  -8.37489858e-02  1.45896644e-02 -4.50896554e-02 -5.12241479e-02\n",
      "   8.64777964e-02 -4.20999420e-01  3.85964412e-01  6.21932183e-02\n",
      "   5.83262563e-02 -3.79249441e-01]\n",
      " [-1.32328225e-03  3.46663755e-01  3.46727345e-01  3.62100665e-02\n",
      "  -3.38759333e-02  3.91151983e-02  2.12362328e-02 -1.01698164e-16\n",
      "   1.64299766e-01  1.51653324e-01  1.33944422e-01 -9.54097912e-18\n",
      "   1.23525990e-01  2.43787507e-02  1.11598054e-01  3.75988491e-03\n",
      "   2.68014347e-02 -4.54858510e-03 -1.56557967e-01  3.23929894e-02\n",
      "   5.97639385e-02 -9.17711278e-03 -3.27010481e-02 -4.23927485e-01\n",
      "  -2.94020930e-01  3.81351101e-02 -7.94987967e-02 -2.49432341e-01\n",
      "   2.61951701e-01 -1.09989353e-01 -1.66142673e-01  2.01010918e-01\n",
      "   7.77648554e-02 -2.32732808e-01  2.15830662e-01  8.95874203e-02\n",
      "  -6.51841123e-02 -1.54709156e-01]\n",
      " [ 4.17323185e-02 -1.35814272e-03 -1.35042299e-03 -2.02413482e-03\n",
      "   1.12967676e-02 -3.73197805e-02 -1.29732736e-02  1.17961196e-16\n",
      "  -2.48771117e-02 -6.98727441e-03 -2.81325576e-02 -1.11022302e-16\n",
      "  -4.44622388e-02 -3.31613969e-02  8.16395163e-02  7.91473302e-02\n",
      "  -1.54065504e-02 -1.02549674e-01  1.10872272e-01 -5.49141969e-02\n",
      "   6.59289438e-02 -3.31942969e-02  1.15989803e-02 -7.27093849e-02\n",
      "  -7.06977105e-02 -2.56333389e-03 -3.90863571e-02  5.31281418e-02\n",
      "  -3.94222267e-02  1.50718887e-01 -1.51323930e-01 -5.79105076e-01\n",
      "   6.13749846e-01 -7.62028682e-02  6.08426694e-02  2.14969841e-01\n",
      "  -3.23214268e-01  1.15763422e-01]\n",
      " [-4.79302609e-02  1.08250199e-01  1.08190712e-01  2.74001749e-02\n",
      "  -1.93672185e-02 -2.29765359e-02 -7.59062397e-03  8.32667268e-17\n",
      "   1.44787835e-02  2.58276595e-02  1.63861035e-02  1.11022302e-16\n",
      "   1.16318690e-02 -1.51756615e-02 -4.21705798e-02  2.80162071e-02\n",
      "   2.62185548e-02 -5.20577506e-03  7.21973388e-02  3.61917281e-02\n",
      "  -1.03244003e-03  1.17857298e-02 -1.94004205e-02 -1.12609540e-01\n",
      "  -5.70691709e-02  2.71132162e-02  2.52183395e-02 -5.22233977e-02\n",
      "   4.26094884e-02  3.15563477e-01  5.63038899e-01 -4.54845003e-01\n",
      "  -4.42748277e-01 -2.60270260e-01  1.99598314e-01  6.26476563e-02\n",
      "   5.03121389e-02  7.31418203e-02]\n",
      " [ 1.91950412e-02 -7.48789690e-02 -7.49297517e-02 -2.14614497e-02\n",
      "   5.36138920e-03  5.73668341e-02  5.95475582e-02  2.77555756e-17\n",
      "  -3.58924411e-02 -3.23664336e-02 -3.39006607e-02  4.85722573e-17\n",
      "  -3.99421967e-02  1.37759184e-01  1.07928186e-01  4.72030936e-02\n",
      "  -3.20995162e-02 -1.18038956e-01 -4.83286368e-02 -6.34222264e-02\n",
      "   1.97720430e-01 -6.75471415e-03  4.48950317e-03  2.21460185e-02\n",
      "  -7.74133795e-03 -2.14405776e-02  2.31805859e-02  3.60965476e-02\n",
      "  -4.13207533e-02 -6.81513809e-02  1.35745613e-01  2.16969619e-01\n",
      "  -3.01348253e-01  1.17009664e-01  8.88481626e-03  3.28820387e-01\n",
      "  -7.70073941e-01 -4.73897110e-02]\n",
      " [ 6.32309849e-01  2.14077303e-02  2.14648078e-02  2.01523875e-02\n",
      "  -1.52208470e-02 -3.07408283e-02 -2.82718663e-02  1.11022302e-16\n",
      "  -4.02108371e-03 -3.07395053e-03 -6.23026117e-03 -0.00000000e+00\n",
      "   2.73064473e-03  2.37804311e-01 -2.96867292e-01 -6.60622422e-02\n",
      "  -2.54639783e-01 -8.02657890e-02  6.26941076e-02  4.25281858e-03\n",
      "  -4.12992929e-02  2.34497667e-03 -1.43522437e-02 -5.05121939e-02\n",
      "  -8.82386124e-03  1.95578929e-02  5.72082600e-01 -1.81404619e-01\n",
      "   6.41182169e-03 -3.32095824e-02 -2.10030123e-03  4.54107860e-03\n",
      "   3.18649336e-02 -2.02609262e-02  2.71102705e-02 -3.32750963e-03\n",
      "   1.43454595e-03  6.38371928e-02]\n",
      " [-2.13876902e-01  1.03818390e-02  1.03729715e-02  3.68089171e-03\n",
      "  -5.27594652e-03  1.89220783e-02 -2.41915435e-03 -9.02056208e-17\n",
      "   1.01734766e-02 -5.96022958e-03  6.39832750e-03 -1.38777878e-17\n",
      "   5.23946690e-03  5.48684908e-01 -6.05027159e-01 -1.72623289e-01\n",
      "   4.61790114e-01 -1.15745182e-01  8.93472869e-03  5.05383717e-03\n",
      "  -1.56104791e-02 -2.20620044e-03 -5.10154456e-03 -2.92431451e-02\n",
      "  -2.83262102e-02  3.78674933e-03 -1.35850275e-01  3.41779276e-02\n",
      "   6.99462972e-03 -7.83655131e-03 -2.99567250e-02 -2.41993974e-02\n",
      "   6.52683474e-02  5.75006962e-03  2.76819462e-03  1.75235152e-02\n",
      "  -4.34770057e-02  1.01553766e-02]\n",
      " [ 8.83056634e-02 -2.68381059e-02 -2.68402812e-02  1.14912037e-03\n",
      "   2.82276647e-02 -4.36243662e-03 -1.92202934e-03  4.11996826e-17\n",
      "  -2.78352464e-02 -2.60819431e-02 -2.27619554e-02 -1.50920942e-16\n",
      "  -1.45943594e-02 -2.26237510e-01  2.70202648e-01 -2.64092627e-02\n",
      "   7.97883360e-01  2.70773282e-02  6.67317770e-03 -1.77675941e-03\n",
      "  -3.96507232e-02 -3.22834917e-03  2.78095761e-02 -2.18897643e-02\n",
      "  -2.13563821e-02  1.85090541e-03  4.53292130e-01 -1.13698356e-01\n",
      "  -2.36675257e-02 -1.81970539e-02  8.21051438e-03  3.32293970e-03\n",
      "   6.69125044e-03  3.94074714e-02 -1.17823275e-02 -1.18830756e-02\n",
      "  -2.97338957e-02  6.16652940e-03]\n",
      " [-7.24903925e-01 -2.18673256e-02 -2.19156570e-02  2.46461906e-02\n",
      "   1.41359792e-02  1.46030647e-02  1.19584879e-02 -8.32667268e-17\n",
      "  -2.71927706e-02 -2.88206714e-02 -2.30476951e-02 -6.93889390e-18\n",
      "  -1.12935842e-02  7.11878619e-02 -3.91263280e-03 -9.93039693e-03\n",
      "  -2.64574533e-01 -3.04936718e-02 -1.69638046e-02  6.63739827e-03\n",
      "  -2.29397848e-03  1.74254157e-02  1.40297064e-02 -2.64680700e-02\n",
      "  -3.96153115e-02  2.60312416e-02  5.96606623e-01 -1.55032824e-01\n",
      "  -2.59945843e-02  2.83589343e-02 -7.21873942e-02 -5.58899242e-03\n",
      "   5.27476151e-02 -1.17001985e-02  1.83588213e-02  9.05986092e-04\n",
      "  -7.82264924e-03 -1.58768718e-02]\n",
      " [-7.76665482e-03  1.30078519e-02  1.29858997e-02  9.82078199e-05\n",
      "   8.75853251e-03  3.99631551e-02  3.22168860e-02  1.24900090e-16\n",
      "   1.28192777e-02  8.03344692e-03  1.66488992e-04  6.59194921e-17\n",
      "   5.37366514e-04 -3.60263133e-01 -4.91289978e-01  1.48972287e-01\n",
      "   8.94450458e-03  7.18213835e-01 -1.29638919e-01 -1.74169607e-02\n",
      "   1.61575772e-02 -3.57398220e-03  9.03780433e-03  1.01842512e-03\n",
      "  -1.12830856e-02  1.16184193e-03  5.59940090e-02 -1.33533962e-02\n",
      "  -3.58535251e-03  6.36052492e-03 -4.73680336e-03 -3.42327641e-02\n",
      "   3.44774930e-02  2.16313938e-02 -1.13772106e-02  9.87997918e-02\n",
      "  -1.88535819e-01 -1.34730932e-01]\n",
      " [ 2.72638773e-02 -1.11598023e-02 -1.11742395e-02  9.22851351e-05\n",
      "   1.87639395e-02  1.36345770e-02  6.89300977e-02  2.35922393e-16\n",
      "  -2.57494167e-02  1.80666059e-02 -2.39591694e-02 -1.38777878e-17\n",
      "  -3.60857461e-02  1.11223648e-01 -8.56938295e-02  8.86535750e-01\n",
      "   7.37278693e-02 -2.43120530e-01 -2.17338235e-01 -1.01007538e-02\n",
      "  -2.96023736e-02 -1.96799546e-03  2.00402062e-02  2.53403427e-02\n",
      "  -1.11093581e-04  3.76527751e-04  4.11871381e-02  9.24237349e-03\n",
      "  -2.08828968e-02  1.88857464e-02  5.62012992e-03 -2.50777979e-02\n",
      "   9.04698495e-04  2.00469897e-02 -1.96784257e-02 -6.31929162e-02\n",
      "   1.01543155e-01 -2.30342687e-01]]\n"
     ]
    }
   ],
   "source": [
    "X = x\n",
    "Y = y_train\n",
    "# feature extraction\n",
    "pca = PCA(n_components=0.95)\n",
    "fit = pca.fit(X)\n",
    "pc_flights = pca.fit_transform(X)\n",
    "# summarize components\n",
    "print(\"Explained Variance: %s\" % fit.explained_variance_ratio_)\n",
    "print(fit.components_)"
   ]
  },
  {
   "cell_type": "code",
   "execution_count": 362,
   "metadata": {},
   "outputs": [
    {
     "data": {
      "text/html": [
       "<div>\n",
       "<style scoped>\n",
       "    .dataframe tbody tr th:only-of-type {\n",
       "        vertical-align: middle;\n",
       "    }\n",
       "\n",
       "    .dataframe tbody tr th {\n",
       "        vertical-align: top;\n",
       "    }\n",
       "\n",
       "    .dataframe thead th {\n",
       "        text-align: right;\n",
       "    }\n",
       "</style>\n",
       "<table border=\"1\" class=\"dataframe\">\n",
       "  <thead>\n",
       "    <tr style=\"text-align: right;\">\n",
       "      <th></th>\n",
       "      <th>component 1</th>\n",
       "      <th>component 2</th>\n",
       "    </tr>\n",
       "  </thead>\n",
       "  <tbody>\n",
       "    <tr>\n",
       "      <th>0</th>\n",
       "      <td>-1.189285</td>\n",
       "      <td>-0.897533</td>\n",
       "    </tr>\n",
       "    <tr>\n",
       "      <th>1</th>\n",
       "      <td>0.729297</td>\n",
       "      <td>-0.897541</td>\n",
       "    </tr>\n",
       "    <tr>\n",
       "      <th>2</th>\n",
       "      <td>1.342767</td>\n",
       "      <td>-1.962395</td>\n",
       "    </tr>\n",
       "    <tr>\n",
       "      <th>3</th>\n",
       "      <td>-1.487548</td>\n",
       "      <td>-1.517123</td>\n",
       "    </tr>\n",
       "    <tr>\n",
       "      <th>4</th>\n",
       "      <td>3.775661</td>\n",
       "      <td>2.178887</td>\n",
       "    </tr>\n",
       "    <tr>\n",
       "      <th>...</th>\n",
       "      <td>...</td>\n",
       "      <td>...</td>\n",
       "    </tr>\n",
       "    <tr>\n",
       "      <th>6852</th>\n",
       "      <td>-2.055702</td>\n",
       "      <td>1.288069</td>\n",
       "    </tr>\n",
       "    <tr>\n",
       "      <th>6853</th>\n",
       "      <td>1.567010</td>\n",
       "      <td>1.066837</td>\n",
       "    </tr>\n",
       "    <tr>\n",
       "      <th>6854</th>\n",
       "      <td>-1.953104</td>\n",
       "      <td>-1.796302</td>\n",
       "    </tr>\n",
       "    <tr>\n",
       "      <th>6855</th>\n",
       "      <td>-0.248222</td>\n",
       "      <td>-1.456415</td>\n",
       "    </tr>\n",
       "    <tr>\n",
       "      <th>6856</th>\n",
       "      <td>-0.828938</td>\n",
       "      <td>2.784778</td>\n",
       "    </tr>\n",
       "  </tbody>\n",
       "</table>\n",
       "<p>6857 rows × 2 columns</p>\n",
       "</div>"
      ],
      "text/plain": [
       "      component 1  component 2\n",
       "0       -1.189285    -0.897533\n",
       "1        0.729297    -0.897541\n",
       "2        1.342767    -1.962395\n",
       "3       -1.487548    -1.517123\n",
       "4        3.775661     2.178887\n",
       "...           ...          ...\n",
       "6852    -2.055702     1.288069\n",
       "6853     1.567010     1.066837\n",
       "6854    -1.953104    -1.796302\n",
       "6855    -0.248222    -1.456415\n",
       "6856    -0.828938     2.784778\n",
       "\n",
       "[6857 rows x 2 columns]"
      ]
     },
     "execution_count": 362,
     "metadata": {},
     "output_type": "execute_result"
    }
   ],
   "source": [
    "principal_flights_df = pd.DataFrame(data = pc_flights, \n",
    "                                    columns = ['component 1', 'component 2'])\n",
    "principal_flights_df"
   ]
  },
  {
   "cell_type": "code",
   "execution_count": 365,
   "metadata": {},
   "outputs": [
    {
     "data": {
      "text/plain": [
       "Text(0.5, 1.0, 'Principal Component Analysis of Flight Delays')"
      ]
     },
     "execution_count": 365,
     "metadata": {},
     "output_type": "execute_result"
    },
    {
     "data": {
      "text/plain": [
       "<Figure size 1440x720 with 0 Axes>"
      ]
     },
     "metadata": {},
     "output_type": "display_data"
    },
    {
     "data": {
      "image/png": "[encoded data removed]",
      "text/plain": [
       "<Figure size 720x720 with 1 Axes>"
      ]
     },
     "metadata": {
      "needs_background": "light"
     },
     "output_type": "display_data"
    }
   ],
   "source": [
    "plt.figure()\n",
    "plt.figure(figsize=(10,10))\n",
    "plt.xlabel('Principal Component - 1',fontsize=20)\n",
    "plt.ylabel('Principal Component - 2',fontsize=20)\n",
    "plt.title(\"Principal Component Analysis of Flight Delays\",fontsize=20)\n",
    "targets = flights_df['label']\n",
    "colors = ['r', 'g']\n",
    "for target, color in zip(targets,colors):\n",
    "    indicesToKeep = flights_df['label'] == target\n",
    "    plt.scatter(principal_flights_df.loc[indicesToKeep, 'component 1']\n",
    "               , principal_flights_df.loc[indicesToKeep, 'component 2'], c = color, s = 50)\n",
    "\n",
    "plt.legend(targets,prop={'size': 15})"
   ]
  },
  {
   "cell_type": "code",
   "execution_count": null,
   "metadata": {},
   "outputs": [],
   "source": []
  }
 ],
 "metadata": {
  "kernelspec": {
   "display_name": "Python 3",
   "language": "python",
   "name": "python3"
  },
  "language_info": {
   "codemirror_mode": {
    "name": "ipython",
    "version": 3
   },
   "file_extension": ".py",
   "mimetype": "text/x-python",
   "name": "python",
   "nbconvert_exporter": "python",
   "pygments_lexer": "ipython3",
   "version": "3.7.6"
  }
 },
 "nbformat": 4,
 "nbformat_minor": 4
}
