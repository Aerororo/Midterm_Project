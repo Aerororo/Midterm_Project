{
 "cells": [
  {
   "cell_type": "code",
   "execution_count": 1,
   "metadata": {},
   "outputs": [
    {
     "name": "stderr",
     "output_type": "stream",
     "text": [
      "C:\\Users\\Jesse\\Anaconda3\\lib\\site-packages\\statsmodels\\tools\\_testing.py:19: FutureWarning: pandas.util.testing is deprecated. Use the functions in the public API at pandas.testing instead.\n",
      "  import pandas.util.testing as tm\n"
     ]
    }
   ],
   "source": [
    "import numpy as np\n",
    "import pandas as pd\n",
    "import seaborn as sns\n",
    "import matplotlib.pyplot as plt\n",
    "from scipy.stats import ttest_ind\n",
    "\n",
    "sns.set_style('darkgrid')\n",
    "\n",
    "import warnings\n",
    "warnings.filterwarnings(\"ignore\")\n",
    "\n",
    "%matplotlib inline"
   ]
  },
  {
   "cell_type": "markdown",
   "metadata": {},
   "source": [
    "#### **Task 10**: Do bigger delays lead to bigger fuel comsumption per passenger? \n",
    "We need to do four things to answer this as accurate as possible:\n",
    "- Find out average monthly delay per air carrier (monthly delay is sum of all delays in 1 month)\n",
    "- Find out distance covered monthly by different air carriers\n",
    "- Find out number of passengers that were carried by different air carriers\n",
    "- Find out total fuel comsumption per air carrier.\n",
    "\n",
    "Use this information to get the average fuel comsumption per passenger per km. Is this higher for the airlines with bigger average delays?"
   ]
  },
  {
   "cell_type": "code",
   "execution_count": 30,
   "metadata": {},
   "outputs": [],
   "source": [
    "data_path = 'C:/Users/Jesse/Desktop/midterm_data/data/'"
   ]
  },
  {
   "cell_type": "code",
   "execution_count": 31,
   "metadata": {},
   "outputs": [],
   "source": [
    "flights = pd.read_csv(data_path + 'flights.csv', parse_dates=['fl_date'])"
   ]
  },
  {
   "cell_type": "code",
   "execution_count": 32,
   "metadata": {},
   "outputs": [],
   "source": [
    "passengers = pd.read_csv(data_path + 'passengers.csv')"
   ]
  },
  {
   "cell_type": "code",
   "execution_count": 33,
   "metadata": {},
   "outputs": [],
   "source": [
    "fuel = pd.read_csv(data_path+'fuel_comsumption.csv')"
   ]
  },
  {
   "cell_type": "code",
   "execution_count": 34,
   "metadata": {},
   "outputs": [],
   "source": [
    "# Find out average monthly delay per air carrier (monthly delay is sum of all delays in 1 month)\n",
    "flights['month'] = flights['fl_date'].dt.month"
   ]
  },
  {
   "cell_type": "code",
   "execution_count": 35,
   "metadata": {},
   "outputs": [],
   "source": [
    "carrier_avg_delay_month = pd.DataFrame(flights.loc[(flights['dep_delay'].notna())].groupby(['month','mkt_unique_carrier'])['dep_delay'].sum().reset_index())"
   ]
  },
  {
   "cell_type": "code",
   "execution_count": 36,
   "metadata": {},
   "outputs": [],
   "source": [
    "# Distance in miles\n",
    "carrier_avg_distance_month = pd.DataFrame(flights.groupby(['month','mkt_unique_carrier'])['distance'].sum().reset_index())"
   ]
  },
  {
   "cell_type": "code",
   "execution_count": 37,
   "metadata": {},
   "outputs": [
    {
     "data": {
      "text/plain": [
       "True"
      ]
     },
     "execution_count": 37,
     "metadata": {},
     "output_type": "execute_result"
    }
   ],
   "source": [
    "# More because there are internation carriers\n",
    "\n",
    "# Is the domestic US carriers contained within the international passengers['unique_carrier'] carriers?\n",
    "set(carrier_avg_distance_month['mkt_unique_carrier'].unique()).issubset(set(passengers['unique_carrier'].unique())) # True"
   ]
  },
  {
   "cell_type": "code",
   "execution_count": 38,
   "metadata": {},
   "outputs": [],
   "source": [
    "passengers_carrier = pd.DataFrame(passengers.loc[\n",
    "    passengers['unique_carrier'].isin(carrier_avg_distance_month['mkt_unique_carrier'].unique())\n",
    "].groupby('unique_carrier')['passengers'].sum().reset_index())"
   ]
  },
  {
   "cell_type": "code",
   "execution_count": 39,
   "metadata": {},
   "outputs": [],
   "source": [
    "carrier_fuel_consumption = pd.DataFrame(fuel.loc[\n",
    "    fuel['unique_carrier'].isin(passengers_carrier['unique_carrier'].values)\n",
    "].groupby('unique_carrier')['tdomt_gallons'].sum().reset_index())"
   ]
  },
  {
   "cell_type": "code",
   "execution_count": 40,
   "metadata": {},
   "outputs": [],
   "source": [
    "# carrier_avg_delay_month, carrier_avg_distance_month, passengers_carrier, carrier_fuel_consumption"
   ]
  },
  {
   "cell_type": "markdown",
   "metadata": {},
   "source": [
    "Use this information to get the average fuel comsumption per passenger per km. Is this higher for the airlines with bigger average delays?"
   ]
  },
  {
   "cell_type": "code",
   "execution_count": 41,
   "metadata": {},
   "outputs": [
    {
     "data": {
      "text/html": [
       "<div>\n",
       "<style scoped>\n",
       "    .dataframe tbody tr th:only-of-type {\n",
       "        vertical-align: middle;\n",
       "    }\n",
       "\n",
       "    .dataframe tbody tr th {\n",
       "        vertical-align: top;\n",
       "    }\n",
       "\n",
       "    .dataframe thead th {\n",
       "        text-align: right;\n",
       "    }\n",
       "</style>\n",
       "<table border=\"1\" class=\"dataframe\">\n",
       "  <thead>\n",
       "    <tr style=\"text-align: right;\">\n",
       "      <th></th>\n",
       "      <th>unique_carrier</th>\n",
       "      <th>dep_delay_summed_monthly_mean</th>\n",
       "    </tr>\n",
       "  </thead>\n",
       "  <tbody>\n",
       "    <tr>\n",
       "      <th>0</th>\n",
       "      <td>AA</td>\n",
       "      <td>41576511.0</td>\n",
       "    </tr>\n",
       "    <tr>\n",
       "      <th>1</th>\n",
       "      <td>AS</td>\n",
       "      <td>3096806.0</td>\n",
       "    </tr>\n",
       "    <tr>\n",
       "      <th>2</th>\n",
       "      <td>B6</td>\n",
       "      <td>9951132.0</td>\n",
       "    </tr>\n",
       "    <tr>\n",
       "      <th>3</th>\n",
       "      <td>DL</td>\n",
       "      <td>32337556.0</td>\n",
       "    </tr>\n",
       "    <tr>\n",
       "      <th>4</th>\n",
       "      <td>F9</td>\n",
       "      <td>4262058.0</td>\n",
       "    </tr>\n",
       "    <tr>\n",
       "      <th>5</th>\n",
       "      <td>G4</td>\n",
       "      <td>2293537.0</td>\n",
       "    </tr>\n",
       "    <tr>\n",
       "      <th>6</th>\n",
       "      <td>HA</td>\n",
       "      <td>280622.0</td>\n",
       "    </tr>\n",
       "    <tr>\n",
       "      <th>7</th>\n",
       "      <td>NK</td>\n",
       "      <td>3925324.0</td>\n",
       "    </tr>\n",
       "    <tr>\n",
       "      <th>8</th>\n",
       "      <td>UA</td>\n",
       "      <td>39009541.0</td>\n",
       "    </tr>\n",
       "    <tr>\n",
       "      <th>9</th>\n",
       "      <td>VX</td>\n",
       "      <td>109181.0</td>\n",
       "    </tr>\n",
       "    <tr>\n",
       "      <th>10</th>\n",
       "      <td>WN</td>\n",
       "      <td>28405537.0</td>\n",
       "    </tr>\n",
       "  </tbody>\n",
       "</table>\n",
       "</div>"
      ],
      "text/plain": [
       "   unique_carrier  dep_delay_summed_monthly_mean\n",
       "0              AA                     41576511.0\n",
       "1              AS                      3096806.0\n",
       "2              B6                      9951132.0\n",
       "3              DL                     32337556.0\n",
       "4              F9                      4262058.0\n",
       "5              G4                      2293537.0\n",
       "6              HA                       280622.0\n",
       "7              NK                      3925324.0\n",
       "8              UA                     39009541.0\n",
       "9              VX                       109181.0\n",
       "10             WN                     28405537.0"
      ]
     },
     "execution_count": 41,
     "metadata": {},
     "output_type": "execute_result"
    }
   ],
   "source": [
    "x = pd.DataFrame(\n",
    "    carrier_avg_delay_month.groupby(\n",
    "        'mkt_unique_carrier')['dep_delay'].sum().reset_index()).rename({'dep_delay': 'dep_delay_summed_monthly_mean', 'mkt_unique_carrier': 'unique_carrier'}, axis=1)\n",
    "x\n"
   ]
  },
  {
   "cell_type": "code",
   "execution_count": 42,
   "metadata": {},
   "outputs": [
    {
     "data": {
      "text/html": [
       "<div>\n",
       "<style scoped>\n",
       "    .dataframe tbody tr th:only-of-type {\n",
       "        vertical-align: middle;\n",
       "    }\n",
       "\n",
       "    .dataframe tbody tr th {\n",
       "        vertical-align: top;\n",
       "    }\n",
       "\n",
       "    .dataframe thead th {\n",
       "        text-align: right;\n",
       "    }\n",
       "</style>\n",
       "<table border=\"1\" class=\"dataframe\">\n",
       "  <thead>\n",
       "    <tr style=\"text-align: right;\">\n",
       "      <th></th>\n",
       "      <th>unique_carrier</th>\n",
       "      <th>distance_summed_monthly_mean</th>\n",
       "    </tr>\n",
       "  </thead>\n",
       "  <tbody>\n",
       "    <tr>\n",
       "      <th>0</th>\n",
       "      <td>AA</td>\n",
       "      <td>2875349237</td>\n",
       "    </tr>\n",
       "    <tr>\n",
       "      <th>1</th>\n",
       "      <td>AS</td>\n",
       "      <td>838413866</td>\n",
       "    </tr>\n",
       "    <tr>\n",
       "      <th>2</th>\n",
       "      <td>B6</td>\n",
       "      <td>656120291</td>\n",
       "    </tr>\n",
       "    <tr>\n",
       "      <th>3</th>\n",
       "      <td>DL</td>\n",
       "      <td>2435523712</td>\n",
       "    </tr>\n",
       "    <tr>\n",
       "      <th>4</th>\n",
       "      <td>F9</td>\n",
       "      <td>263828340</td>\n",
       "    </tr>\n",
       "    <tr>\n",
       "      <th>5</th>\n",
       "      <td>G4</td>\n",
       "      <td>176313111</td>\n",
       "    </tr>\n",
       "    <tr>\n",
       "      <th>6</th>\n",
       "      <td>HA</td>\n",
       "      <td>120940267</td>\n",
       "    </tr>\n",
       "    <tr>\n",
       "      <th>7</th>\n",
       "      <td>NK</td>\n",
       "      <td>383895843</td>\n",
       "    </tr>\n",
       "    <tr>\n",
       "      <th>8</th>\n",
       "      <td>UA</td>\n",
       "      <td>2432847105</td>\n",
       "    </tr>\n",
       "    <tr>\n",
       "      <th>9</th>\n",
       "      <td>VX</td>\n",
       "      <td>25864306</td>\n",
       "    </tr>\n",
       "    <tr>\n",
       "      <th>10</th>\n",
       "      <td>WN</td>\n",
       "      <td>2022776676</td>\n",
       "    </tr>\n",
       "  </tbody>\n",
       "</table>\n",
       "</div>"
      ],
      "text/plain": [
       "   unique_carrier  distance_summed_monthly_mean\n",
       "0              AA                    2875349237\n",
       "1              AS                     838413866\n",
       "2              B6                     656120291\n",
       "3              DL                    2435523712\n",
       "4              F9                     263828340\n",
       "5              G4                     176313111\n",
       "6              HA                     120940267\n",
       "7              NK                     383895843\n",
       "8              UA                    2432847105\n",
       "9              VX                      25864306\n",
       "10             WN                    2022776676"
      ]
     },
     "execution_count": 42,
     "metadata": {},
     "output_type": "execute_result"
    }
   ],
   "source": [
    "y = pd.DataFrame(\n",
    "    carrier_avg_distance_month.groupby('mkt_unique_carrier')['distance'].sum().reset_index()).rename({'distance': 'distance_summed_monthly_mean', 'mkt_unique_carrier': 'unique_carrier'}, axis=1)\n",
    "\n",
    "y"
   ]
  },
  {
   "cell_type": "code",
   "execution_count": 43,
   "metadata": {},
   "outputs": [
    {
     "data": {
      "text/html": [
       "<div>\n",
       "<style scoped>\n",
       "    .dataframe tbody tr th:only-of-type {\n",
       "        vertical-align: middle;\n",
       "    }\n",
       "\n",
       "    .dataframe tbody tr th {\n",
       "        vertical-align: top;\n",
       "    }\n",
       "\n",
       "    .dataframe thead th {\n",
       "        text-align: right;\n",
       "    }\n",
       "</style>\n",
       "<table border=\"1\" class=\"dataframe\">\n",
       "  <thead>\n",
       "    <tr style=\"text-align: right;\">\n",
       "      <th></th>\n",
       "      <th>unique_carrier</th>\n",
       "      <th>passengers</th>\n",
       "    </tr>\n",
       "  </thead>\n",
       "  <tbody>\n",
       "    <tr>\n",
       "      <th>0</th>\n",
       "      <td>AA</td>\n",
       "      <td>715203891</td>\n",
       "    </tr>\n",
       "    <tr>\n",
       "      <th>1</th>\n",
       "      <td>AS</td>\n",
       "      <td>145210038</td>\n",
       "    </tr>\n",
       "    <tr>\n",
       "      <th>2</th>\n",
       "      <td>B6</td>\n",
       "      <td>198872059</td>\n",
       "    </tr>\n",
       "    <tr>\n",
       "      <th>3</th>\n",
       "      <td>DL</td>\n",
       "      <td>742511388</td>\n",
       "    </tr>\n",
       "    <tr>\n",
       "      <th>4</th>\n",
       "      <td>F9</td>\n",
       "      <td>87767317</td>\n",
       "    </tr>\n",
       "    <tr>\n",
       "      <th>5</th>\n",
       "      <td>G4</td>\n",
       "      <td>62125688</td>\n",
       "    </tr>\n",
       "    <tr>\n",
       "      <th>6</th>\n",
       "      <td>HA</td>\n",
       "      <td>55780580</td>\n",
       "    </tr>\n",
       "    <tr>\n",
       "      <th>7</th>\n",
       "      <td>NK</td>\n",
       "      <td>127529568</td>\n",
       "    </tr>\n",
       "    <tr>\n",
       "      <th>8</th>\n",
       "      <td>UA</td>\n",
       "      <td>533886775</td>\n",
       "    </tr>\n",
       "    <tr>\n",
       "      <th>9</th>\n",
       "      <td>VX</td>\n",
       "      <td>25617180</td>\n",
       "    </tr>\n",
       "    <tr>\n",
       "      <th>10</th>\n",
       "      <td>WN</td>\n",
       "      <td>803499970</td>\n",
       "    </tr>\n",
       "  </tbody>\n",
       "</table>\n",
       "</div>"
      ],
      "text/plain": [
       "   unique_carrier  passengers\n",
       "0              AA   715203891\n",
       "1              AS   145210038\n",
       "2              B6   198872059\n",
       "3              DL   742511388\n",
       "4              F9    87767317\n",
       "5              G4    62125688\n",
       "6              HA    55780580\n",
       "7              NK   127529568\n",
       "8              UA   533886775\n",
       "9              VX    25617180\n",
       "10             WN   803499970"
      ]
     },
     "execution_count": 43,
     "metadata": {},
     "output_type": "execute_result"
    }
   ],
   "source": [
    "passengers_carrier"
   ]
  },
  {
   "cell_type": "code",
   "execution_count": 44,
   "metadata": {},
   "outputs": [
    {
     "data": {
      "text/html": [
       "<div>\n",
       "<style scoped>\n",
       "    .dataframe tbody tr th:only-of-type {\n",
       "        vertical-align: middle;\n",
       "    }\n",
       "\n",
       "    .dataframe tbody tr th {\n",
       "        vertical-align: top;\n",
       "    }\n",
       "\n",
       "    .dataframe thead th {\n",
       "        text-align: right;\n",
       "    }\n",
       "</style>\n",
       "<table border=\"1\" class=\"dataframe\">\n",
       "  <thead>\n",
       "    <tr style=\"text-align: right;\">\n",
       "      <th></th>\n",
       "      <th>unique_carrier</th>\n",
       "      <th>tdomt_gallons</th>\n",
       "    </tr>\n",
       "  </thead>\n",
       "  <tbody>\n",
       "    <tr>\n",
       "      <th>0</th>\n",
       "      <td>AA</td>\n",
       "      <td>1.005715e+10</td>\n",
       "    </tr>\n",
       "    <tr>\n",
       "      <th>1</th>\n",
       "      <td>AS</td>\n",
       "      <td>2.628731e+09</td>\n",
       "    </tr>\n",
       "    <tr>\n",
       "      <th>2</th>\n",
       "      <td>B6</td>\n",
       "      <td>3.034503e+09</td>\n",
       "    </tr>\n",
       "    <tr>\n",
       "      <th>3</th>\n",
       "      <td>DL</td>\n",
       "      <td>9.506876e+09</td>\n",
       "    </tr>\n",
       "    <tr>\n",
       "      <th>4</th>\n",
       "      <td>F9</td>\n",
       "      <td>1.034765e+09</td>\n",
       "    </tr>\n",
       "    <tr>\n",
       "      <th>5</th>\n",
       "      <td>G4</td>\n",
       "      <td>8.468571e+08</td>\n",
       "    </tr>\n",
       "    <tr>\n",
       "      <th>6</th>\n",
       "      <td>HA</td>\n",
       "      <td>8.342171e+08</td>\n",
       "    </tr>\n",
       "    <tr>\n",
       "      <th>7</th>\n",
       "      <td>NK</td>\n",
       "      <td>1.510093e+09</td>\n",
       "    </tr>\n",
       "    <tr>\n",
       "      <th>8</th>\n",
       "      <td>UA</td>\n",
       "      <td>7.618816e+09</td>\n",
       "    </tr>\n",
       "    <tr>\n",
       "      <th>9</th>\n",
       "      <td>VX</td>\n",
       "      <td>5.630055e+08</td>\n",
       "    </tr>\n",
       "    <tr>\n",
       "      <th>10</th>\n",
       "      <td>WN</td>\n",
       "      <td>9.504557e+09</td>\n",
       "    </tr>\n",
       "  </tbody>\n",
       "</table>\n",
       "</div>"
      ],
      "text/plain": [
       "   unique_carrier  tdomt_gallons\n",
       "0              AA   1.005715e+10\n",
       "1              AS   2.628731e+09\n",
       "2              B6   3.034503e+09\n",
       "3              DL   9.506876e+09\n",
       "4              F9   1.034765e+09\n",
       "5              G4   8.468571e+08\n",
       "6              HA   8.342171e+08\n",
       "7              NK   1.510093e+09\n",
       "8              UA   7.618816e+09\n",
       "9              VX   5.630055e+08\n",
       "10             WN   9.504557e+09"
      ]
     },
     "execution_count": 44,
     "metadata": {},
     "output_type": "execute_result"
    }
   ],
   "source": [
    "carrier_fuel_consumption"
   ]
  },
  {
   "cell_type": "code",
   "execution_count": 45,
   "metadata": {},
   "outputs": [],
   "source": [
    "from functools import reduce\n",
    "\n",
    "final = reduce(lambda x,y: pd.merge(x,y, on='unique_carrier', how='outer'), [carrier_fuel_consumption, passengers_carrier, x, y])"
   ]
  },
  {
   "cell_type": "code",
   "execution_count": 25,
   "metadata": {},
   "outputs": [],
   "source": [
    "# final.to_csv('./final_task10.csv')"
   ]
  },
  {
   "cell_type": "code",
   "execution_count": 46,
   "metadata": {},
   "outputs": [
    {
     "data": {
      "text/html": [
       "<div>\n",
       "<style scoped>\n",
       "    .dataframe tbody tr th:only-of-type {\n",
       "        vertical-align: middle;\n",
       "    }\n",
       "\n",
       "    .dataframe tbody tr th {\n",
       "        vertical-align: top;\n",
       "    }\n",
       "\n",
       "    .dataframe thead th {\n",
       "        text-align: right;\n",
       "    }\n",
       "</style>\n",
       "<table border=\"1\" class=\"dataframe\">\n",
       "  <thead>\n",
       "    <tr style=\"text-align: right;\">\n",
       "      <th></th>\n",
       "      <th>unique_carrier</th>\n",
       "      <th>tdomt_gallons</th>\n",
       "      <th>passengers</th>\n",
       "      <th>dep_delay_summed_monthly_mean</th>\n",
       "      <th>distance_summed_monthly_mean</th>\n",
       "    </tr>\n",
       "  </thead>\n",
       "  <tbody>\n",
       "    <tr>\n",
       "      <th>0</th>\n",
       "      <td>AA</td>\n",
       "      <td>1.005715e+10</td>\n",
       "      <td>715203891</td>\n",
       "      <td>41576511.0</td>\n",
       "      <td>2875349237</td>\n",
       "    </tr>\n",
       "    <tr>\n",
       "      <th>1</th>\n",
       "      <td>AS</td>\n",
       "      <td>2.628731e+09</td>\n",
       "      <td>145210038</td>\n",
       "      <td>3096806.0</td>\n",
       "      <td>838413866</td>\n",
       "    </tr>\n",
       "    <tr>\n",
       "      <th>2</th>\n",
       "      <td>B6</td>\n",
       "      <td>3.034503e+09</td>\n",
       "      <td>198872059</td>\n",
       "      <td>9951132.0</td>\n",
       "      <td>656120291</td>\n",
       "    </tr>\n",
       "    <tr>\n",
       "      <th>3</th>\n",
       "      <td>DL</td>\n",
       "      <td>9.506876e+09</td>\n",
       "      <td>742511388</td>\n",
       "      <td>32337556.0</td>\n",
       "      <td>2435523712</td>\n",
       "    </tr>\n",
       "    <tr>\n",
       "      <th>4</th>\n",
       "      <td>F9</td>\n",
       "      <td>1.034765e+09</td>\n",
       "      <td>87767317</td>\n",
       "      <td>4262058.0</td>\n",
       "      <td>263828340</td>\n",
       "    </tr>\n",
       "    <tr>\n",
       "      <th>5</th>\n",
       "      <td>G4</td>\n",
       "      <td>8.468571e+08</td>\n",
       "      <td>62125688</td>\n",
       "      <td>2293537.0</td>\n",
       "      <td>176313111</td>\n",
       "    </tr>\n",
       "    <tr>\n",
       "      <th>6</th>\n",
       "      <td>HA</td>\n",
       "      <td>8.342171e+08</td>\n",
       "      <td>55780580</td>\n",
       "      <td>280622.0</td>\n",
       "      <td>120940267</td>\n",
       "    </tr>\n",
       "    <tr>\n",
       "      <th>7</th>\n",
       "      <td>NK</td>\n",
       "      <td>1.510093e+09</td>\n",
       "      <td>127529568</td>\n",
       "      <td>3925324.0</td>\n",
       "      <td>383895843</td>\n",
       "    </tr>\n",
       "    <tr>\n",
       "      <th>8</th>\n",
       "      <td>UA</td>\n",
       "      <td>7.618816e+09</td>\n",
       "      <td>533886775</td>\n",
       "      <td>39009541.0</td>\n",
       "      <td>2432847105</td>\n",
       "    </tr>\n",
       "    <tr>\n",
       "      <th>9</th>\n",
       "      <td>VX</td>\n",
       "      <td>5.630055e+08</td>\n",
       "      <td>25617180</td>\n",
       "      <td>109181.0</td>\n",
       "      <td>25864306</td>\n",
       "    </tr>\n",
       "    <tr>\n",
       "      <th>10</th>\n",
       "      <td>WN</td>\n",
       "      <td>9.504557e+09</td>\n",
       "      <td>803499970</td>\n",
       "      <td>28405537.0</td>\n",
       "      <td>2022776676</td>\n",
       "    </tr>\n",
       "  </tbody>\n",
       "</table>\n",
       "</div>"
      ],
      "text/plain": [
       "   unique_carrier  tdomt_gallons  passengers  dep_delay_summed_monthly_mean  \\\n",
       "0              AA   1.005715e+10   715203891                     41576511.0   \n",
       "1              AS   2.628731e+09   145210038                      3096806.0   \n",
       "2              B6   3.034503e+09   198872059                      9951132.0   \n",
       "3              DL   9.506876e+09   742511388                     32337556.0   \n",
       "4              F9   1.034765e+09    87767317                      4262058.0   \n",
       "5              G4   8.468571e+08    62125688                      2293537.0   \n",
       "6              HA   8.342171e+08    55780580                       280622.0   \n",
       "7              NK   1.510093e+09   127529568                      3925324.0   \n",
       "8              UA   7.618816e+09   533886775                     39009541.0   \n",
       "9              VX   5.630055e+08    25617180                       109181.0   \n",
       "10             WN   9.504557e+09   803499970                     28405537.0   \n",
       "\n",
       "    distance_summed_monthly_mean  \n",
       "0                     2875349237  \n",
       "1                      838413866  \n",
       "2                      656120291  \n",
       "3                     2435523712  \n",
       "4                      263828340  \n",
       "5                      176313111  \n",
       "6                      120940267  \n",
       "7                      383895843  \n",
       "8                     2432847105  \n",
       "9                       25864306  \n",
       "10                    2022776676  "
      ]
     },
     "execution_count": 46,
     "metadata": {},
     "output_type": "execute_result"
    }
   ],
   "source": [
    "final"
   ]
  },
  {
   "cell_type": "markdown",
   "metadata": {},
   "source": [
    "Use this information to get the average fuel comsumption per passenger per km. Is this higher for the airlines with bigger average delays?"
   ]
  },
  {
   "cell_type": "code",
   "execution_count": 56,
   "metadata": {},
   "outputs": [],
   "source": [
    "final['fuel_comp_per_passenger_per_mile'] = final.apply(lambda row: row['tdomt_gallons']/row['passengers']/row['distance_summed_monthly_mean'], axis=1)"
   ]
  },
  {
   "cell_type": "code",
   "execution_count": 57,
   "metadata": {},
   "outputs": [
    {
     "data": {
      "text/html": [
       "<div>\n",
       "<style scoped>\n",
       "    .dataframe tbody tr th:only-of-type {\n",
       "        vertical-align: middle;\n",
       "    }\n",
       "\n",
       "    .dataframe tbody tr th {\n",
       "        vertical-align: top;\n",
       "    }\n",
       "\n",
       "    .dataframe thead th {\n",
       "        text-align: right;\n",
       "    }\n",
       "</style>\n",
       "<table border=\"1\" class=\"dataframe\">\n",
       "  <thead>\n",
       "    <tr style=\"text-align: right;\">\n",
       "      <th></th>\n",
       "      <th>unique_carrier</th>\n",
       "      <th>tdomt_gallons</th>\n",
       "      <th>passengers</th>\n",
       "      <th>dep_delay_summed_monthly_mean</th>\n",
       "      <th>distance_summed_monthly_mean</th>\n",
       "      <th>fuel_comp_per_passenger_per_mile</th>\n",
       "    </tr>\n",
       "  </thead>\n",
       "  <tbody>\n",
       "    <tr>\n",
       "      <th>0</th>\n",
       "      <td>AA</td>\n",
       "      <td>1.005715e+10</td>\n",
       "      <td>715203891</td>\n",
       "      <td>41576511.0</td>\n",
       "      <td>2875349237</td>\n",
       "      <td>4.890515e-09</td>\n",
       "    </tr>\n",
       "    <tr>\n",
       "      <th>8</th>\n",
       "      <td>UA</td>\n",
       "      <td>7.618816e+09</td>\n",
       "      <td>533886775</td>\n",
       "      <td>39009541.0</td>\n",
       "      <td>2432847105</td>\n",
       "      <td>5.865749e-09</td>\n",
       "    </tr>\n",
       "    <tr>\n",
       "      <th>3</th>\n",
       "      <td>DL</td>\n",
       "      <td>9.506876e+09</td>\n",
       "      <td>742511388</td>\n",
       "      <td>32337556.0</td>\n",
       "      <td>2435523712</td>\n",
       "      <td>5.257053e-09</td>\n",
       "    </tr>\n",
       "    <tr>\n",
       "      <th>10</th>\n",
       "      <td>WN</td>\n",
       "      <td>9.504557e+09</td>\n",
       "      <td>803499970</td>\n",
       "      <td>28405537.0</td>\n",
       "      <td>2022776676</td>\n",
       "      <td>5.847875e-09</td>\n",
       "    </tr>\n",
       "    <tr>\n",
       "      <th>2</th>\n",
       "      <td>B6</td>\n",
       "      <td>3.034503e+09</td>\n",
       "      <td>198872059</td>\n",
       "      <td>9951132.0</td>\n",
       "      <td>656120291</td>\n",
       "      <td>2.325575e-08</td>\n",
       "    </tr>\n",
       "    <tr>\n",
       "      <th>4</th>\n",
       "      <td>F9</td>\n",
       "      <td>1.034765e+09</td>\n",
       "      <td>87767317</td>\n",
       "      <td>4262058.0</td>\n",
       "      <td>263828340</td>\n",
       "      <td>4.468762e-08</td>\n",
       "    </tr>\n",
       "    <tr>\n",
       "      <th>7</th>\n",
       "      <td>NK</td>\n",
       "      <td>1.510093e+09</td>\n",
       "      <td>127529568</td>\n",
       "      <td>3925324.0</td>\n",
       "      <td>383895843</td>\n",
       "      <td>3.084462e-08</td>\n",
       "    </tr>\n",
       "    <tr>\n",
       "      <th>1</th>\n",
       "      <td>AS</td>\n",
       "      <td>2.628731e+09</td>\n",
       "      <td>145210038</td>\n",
       "      <td>3096806.0</td>\n",
       "      <td>838413866</td>\n",
       "      <td>2.159191e-08</td>\n",
       "    </tr>\n",
       "    <tr>\n",
       "      <th>5</th>\n",
       "      <td>G4</td>\n",
       "      <td>8.468571e+08</td>\n",
       "      <td>62125688</td>\n",
       "      <td>2293537.0</td>\n",
       "      <td>176313111</td>\n",
       "      <td>7.731332e-08</td>\n",
       "    </tr>\n",
       "    <tr>\n",
       "      <th>6</th>\n",
       "      <td>HA</td>\n",
       "      <td>8.342171e+08</td>\n",
       "      <td>55780580</td>\n",
       "      <td>280622.0</td>\n",
       "      <td>120940267</td>\n",
       "      <td>1.236588e-07</td>\n",
       "    </tr>\n",
       "    <tr>\n",
       "      <th>9</th>\n",
       "      <td>VX</td>\n",
       "      <td>5.630055e+08</td>\n",
       "      <td>25617180</td>\n",
       "      <td>109181.0</td>\n",
       "      <td>25864306</td>\n",
       "      <td>8.497291e-07</td>\n",
       "    </tr>\n",
       "  </tbody>\n",
       "</table>\n",
       "</div>"
      ],
      "text/plain": [
       "   unique_carrier  tdomt_gallons  passengers  dep_delay_summed_monthly_mean  \\\n",
       "0              AA   1.005715e+10   715203891                     41576511.0   \n",
       "8              UA   7.618816e+09   533886775                     39009541.0   \n",
       "3              DL   9.506876e+09   742511388                     32337556.0   \n",
       "10             WN   9.504557e+09   803499970                     28405537.0   \n",
       "2              B6   3.034503e+09   198872059                      9951132.0   \n",
       "4              F9   1.034765e+09    87767317                      4262058.0   \n",
       "7              NK   1.510093e+09   127529568                      3925324.0   \n",
       "1              AS   2.628731e+09   145210038                      3096806.0   \n",
       "5              G4   8.468571e+08    62125688                      2293537.0   \n",
       "6              HA   8.342171e+08    55780580                       280622.0   \n",
       "9              VX   5.630055e+08    25617180                       109181.0   \n",
       "\n",
       "    distance_summed_monthly_mean  fuel_comp_per_passenger_per_mile  \n",
       "0                     2875349237                      4.890515e-09  \n",
       "8                     2432847105                      5.865749e-09  \n",
       "3                     2435523712                      5.257053e-09  \n",
       "10                    2022776676                      5.847875e-09  \n",
       "2                      656120291                      2.325575e-08  \n",
       "4                      263828340                      4.468762e-08  \n",
       "7                      383895843                      3.084462e-08  \n",
       "1                      838413866                      2.159191e-08  \n",
       "5                      176313111                      7.731332e-08  \n",
       "6                      120940267                      1.236588e-07  \n",
       "9                       25864306                      8.497291e-07  "
      ]
     },
     "execution_count": 57,
     "metadata": {},
     "output_type": "execute_result"
    }
   ],
   "source": [
    "final.sort_values('dep_delay_summed_monthly_mean', ascending=False)"
   ]
  },
  {
   "cell_type": "code",
   "execution_count": 58,
   "metadata": {},
   "outputs": [
    {
     "data": {
      "text/plain": [
       "<matplotlib.axes._subplots.AxesSubplot at 0x1738369fb08>"
      ]
     },
     "execution_count": 58,
     "metadata": {},
     "output_type": "execute_result"
    },
    {
     "data": {
      "image/png": "[encoded data removed]",
      "text/plain": [
       "<Figure size 432x288 with 1 Axes>"
      ]
     },
     "metadata": {
      "needs_background": "light"
     },
     "output_type": "display_data"
    }
   ],
   "source": [
    "sns.barplot('unique_carrier', y='dep_delay_summed_monthly_mean', data=final.sort_values('dep_delay_summed_monthly_mean', ascending=False))"
   ]
  },
  {
   "cell_type": "code",
   "execution_count": 63,
   "metadata": {},
   "outputs": [
    {
     "data": {
      "text/plain": [
       "<matplotlib.axes._subplots.AxesSubplot at 0x1729b680308>"
      ]
     },
     "execution_count": 63,
     "metadata": {},
     "output_type": "execute_result"
    },
    {
     "data": {
      "image/png": "[encoded data removed]",
      "text/plain": [
       "<Figure size 432x288 with 1 Axes>"
      ]
     },
     "metadata": {
      "needs_background": "light"
     },
     "output_type": "display_data"
    }
   ],
   "source": [
    "sns.regplot(x=np.log(final['dep_delay_summed_monthly_mean']), y=np.log(final['fuel_comp_per_passenger_per_mile']))"
   ]
  },
  {
   "cell_type": "code",
   "execution_count": null,
   "metadata": {},
   "outputs": [],
   "source": []
  }
 ],
 "metadata": {
  "kernelspec": {
   "display_name": "Python 3",
   "language": "python",
   "name": "python3"
  },
  "language_info": {
   "codemirror_mode": {
    "name": "ipython",
    "version": 3
   },
   "file_extension": ".py",
   "mimetype": "text/x-python",
   "name": "python",
   "nbconvert_exporter": "python",
   "pygments_lexer": "ipython3",
   "version": "3.7.4"
  }
 },
 "nbformat": 4,
 "nbformat_minor": 2
}
