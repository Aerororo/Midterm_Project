{
 "cells": [
  {
   "cell_type": "code",
   "execution_count": 1,
   "metadata": {},
   "outputs": [
    {
     "name": "stderr",
     "output_type": "stream",
     "text": [
      "C:\\Users\\Jesse\\Anaconda3\\lib\\site-packages\\ipykernel_launcher.py:3: FutureWarning: pandas.util.testing is deprecated. Use the functions in the public API at pandas.testing instead.\n",
      "  This is separate from the ipykernel package so we can avoid doing imports until\n"
     ]
    }
   ],
   "source": [
    "import numpy as np \n",
    "import pandas as pd\n",
    "import pandas.util.testing as tm\n",
    "import matplotlib.pyplot as plt\n",
    "import seaborn as sns\n",
    "\n",
    "%matplotlib inline"
   ]
  },
  {
   "cell_type": "code",
   "execution_count": 11,
   "metadata": {},
   "outputs": [],
   "source": [
    "# https://en.wikipedia.org/wiki/Flight_cancellation_and_delay"
   ]
  },
  {
   "cell_type": "code",
   "execution_count": 2,
   "metadata": {},
   "outputs": [
    {
     "name": "stderr",
     "output_type": "stream",
     "text": [
      "C:\\Users\\Jesse\\Anaconda3\\lib\\site-packages\\IPython\\core\\interactiveshell.py:3058: DtypeWarning: Columns (25) have mixed types.Specify dtype option on import or set low_memory=False.\n",
      "  interactivity=interactivity, compiler=compiler, result=result)\n"
     ]
    }
   ],
   "source": [
    "flights_df = pd.read_csv('./data/flights.csv')"
   ]
  },
  {
   "cell_type": "markdown",
   "metadata": {},
   "source": [
    "#### **Task 2**: Is average/median monthly delay different during the year? If yes, which are months with the biggest delays and what could be the reason?"
   ]
  },
  {
   "cell_type": "code",
   "execution_count": 4,
   "metadata": {},
   "outputs": [],
   "source": [
    "# Group by month and get the average mean/median delay for each month. Plot barplot with month vs avg delay\n",
    "# figure out which months with biggest delays"
   ]
  },
  {
   "cell_type": "code",
   "execution_count": 5,
   "metadata": {},
   "outputs": [],
   "source": [
    "# converting fl_date from object to datetime\n",
    "\n",
    "flights_df['fl_date'] = pd.to_datetime(flights_df['fl_date'], format='%Y-%m-%d')"
   ]
  },
  {
   "cell_type": "code",
   "execution_count": 6,
   "metadata": {},
   "outputs": [
    {
     "data": {
      "text/plain": [
       "array([2019, 2018], dtype=int64)"
      ]
     },
     "execution_count": 6,
     "metadata": {},
     "output_type": "execute_result"
    }
   ],
   "source": [
    "# Only 2018 and 2019 years\n",
    "flights_df['fl_date'].dt.year.unique()"
   ]
  },
  {
   "cell_type": "code",
   "execution_count": 7,
   "metadata": {},
   "outputs": [],
   "source": [
    "# Create a year column from fl_date\n",
    "flights_df['year'] = flights_df['fl_date'].dt.year\n",
    "\n",
    "# Create a month column from fl_date\n",
    "flights_df['month'] = flights_df['fl_date'].dt.month"
   ]
  },
  {
   "cell_type": "markdown",
   "metadata": {},
   "source": [
    "#### dep_delay by year"
   ]
  },
  {
   "cell_type": "code",
   "execution_count": 22,
   "metadata": {},
   "outputs": [],
   "source": [
    "# Get average dep_delay by year\n",
    "avg_dep_delay_year_2018 = flights_df.groupby('year')['dep_delay'].mean()[2018]\n",
    "avg_dep_delay_year_2019 = flights_df.groupby('year')['dep_delay'].mean()[2019]\n",
    "\n",
    "median_dep_delay_year_2018 = flights_df.groupby('year')['dep_delay'].median()[2018]\n",
    "median_dep_delay_year_2019 = flights_df.groupby('year')['dep_delay'].median()[2019]"
   ]
  },
  {
   "cell_type": "code",
   "execution_count": 23,
   "metadata": {},
   "outputs": [
    {
     "name": "stdout",
     "output_type": "stream",
     "text": [
      "2018 avg dep_delay:  10.078841031015036 minutes\n",
      "2019 avg dep_delay:  11.007311267728682 minutes\n",
      "2018 median dep_delay:  -2.0 minutes\n",
      "2019 median dep_delay:  -2.0 minutes\n"
     ]
    }
   ],
   "source": [
    "print('2018 avg dep_delay: ', avg_dep_delay_year_2018, 'minutes')\n",
    "print('2019 avg dep_delay: ', avg_dep_delay_year_2019, 'minutes')\n",
    "\n",
    "print('2018 median dep_delay: ', median_dep_delay_year_2018, 'minutes')\n",
    "print('2019 median dep_delay: ', median_dep_delay_year_2019, 'minutes')"
   ]
  },
  {
   "cell_type": "markdown",
   "metadata": {},
   "source": [
    "#### arr_delay by year"
   ]
  },
  {
   "cell_type": "code",
   "execution_count": 8,
   "metadata": {},
   "outputs": [],
   "source": [
    "# Get average dep_delay by year\n",
    "avg_arr_delay_year_2018 = flights_df.groupby('year')['arr_delay'].mean()[2018]\n",
    "avg_arr_delay_year_2019 = flights_df.groupby('year')['arr_delay'].mean()[2019]\n",
    "\n",
    "median_arr_delay_year_2018 = flights_df.groupby('year')['arr_delay'].median()[2018]\n",
    "median_arr_delay_year_2019 = flights_df.groupby('year')['arr_delay'].median()[2019]"
   ]
  },
  {
   "cell_type": "code",
   "execution_count": 10,
   "metadata": {},
   "outputs": [
    {
     "name": "stdout",
     "output_type": "stream",
     "text": [
      "2018 avg arr_delay:  5.271534876313847 minutes\n",
      "2019 avg arr_delay:  5.674681430352708 minutes\n",
      "2018 median arr_delay:  -6.0 minutes\n",
      "2019 median darr_delay:  -6.0 minutes\n"
     ]
    }
   ],
   "source": [
    "print('2018 avg arr_delay: ', avg_arr_delay_year_2018, 'minutes')\n",
    "print('2019 avg arr_delay: ', avg_arr_delay_year_2019, 'minutes')\n",
    "\n",
    "print('2018 median arr_delay: ', median_arr_delay_year_2018, 'minutes')\n",
    "print('2019 median darr_delay: ', median_arr_delay_year_2019, 'minutes')"
   ]
  },
  {
   "cell_type": "markdown",
   "metadata": {},
   "source": [
    "### Monthly dep_delay"
   ]
  },
  {
   "cell_type": "code",
   "execution_count": null,
   "metadata": {},
   "outputs": [],
   "source": []
  },
  {
   "cell_type": "markdown",
   "metadata": {},
   "source": [
    "### Monthly arr_delay"
   ]
  },
  {
   "cell_type": "code",
   "execution_count": null,
   "metadata": {},
   "outputs": [],
   "source": []
  }
 ],
 "metadata": {
  "kernelspec": {
   "display_name": "Python 3",
   "language": "python",
   "name": "python3"
  },
  "language_info": {
   "codemirror_mode": {
    "name": "ipython",
    "version": 3
   },
   "file_extension": ".py",
   "mimetype": "text/x-python",
   "name": "python",
   "nbconvert_exporter": "python",
   "pygments_lexer": "ipython3",
   "version": "3.7.4"
  }
 },
 "nbformat": 4,
 "nbformat_minor": 2
}
